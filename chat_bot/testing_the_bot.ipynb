{
 "cells": [
  {
   "cell_type": "code",
   "execution_count": 1,
   "metadata": {},
   "outputs": [],
   "source": [
    "import LLM\n",
    "from SDMX_DataFlow import Dataflow\n",
    "from data_prep_for_indenxing import flatten_info"
   ]
  },
  {
   "cell_type": "code",
   "execution_count": 2,
   "metadata": {},
   "outputs": [
    {
     "name": "stdout",
     "output_type": "stream",
     "text": [
      "Populating variables...\n",
      "Variables populated.\n"
     ]
    }
   ],
   "source": [
    "# Define the dataflow URL <= this will come from the dropdown selection of the chatbot\n",
    "_fin_perstud = {\"agency\": \"OECD.EDU.IMEP\",\n",
    "\"id\": \"DSD_EAG_UOE_FIN@DF_UOE_INDIC_FIN_PERSTUD\",\n",
    "\"version\": \"1.0\"}\n",
    "\n",
    "fin_perstud = {\"agency\": \"OECD.EDU.IMEP\",\n",
    "\"id\": \"DSD_EAG_UOE_FIN@DF_UOE_FIN_INDIC_SOURCE_NATURE\",\n",
    "\"version\": \"3.0\"}\n",
    "\n",
    "dataflow_details_url = f'https://sdmx.oecd.org/public/rest/dataflow/{fin_perstud[\"agency\"]}/{fin_perstud[\"id\"]}/{fin_perstud[\"version\"]}?references=all'\n",
    "\n",
    "# Create an instance of the Dataflow class and populate the variables\n",
    "df_info = Dataflow(dataflow_details_url)\n",
    "\n",
    "print(\"Populating variables...\")\n",
    "df_info.populate_variables()\n",
    "print(\"Variables populated.\")"
   ]
  },
  {
   "cell_type": "code",
   "execution_count": 3,
   "metadata": {},
   "outputs": [
    {
     "name": "stdout",
     "output_type": "stream",
     "text": [
      "INTENSITY not found in the code names.\n",
      "INST_TYPE_EDU not found in the code names.\n",
      "BASE_PER not found in the code names.\n",
      "TIME_PERIOD not found in the code names.\n",
      "OBS_VALUE not found in the code names.\n",
      "OBS_STATUS not found in the code names.\n",
      "UNIT_MULT not found in the code names.\n",
      "DECIMALS not found in the code names.\n",
      "Q_SHEET_ROW_ID not found in the code names.\n"
     ]
    }
   ],
   "source": [
    "# Flatten the dataflow information for embedding\n",
    "flat_info_for_embedding = flatten_info(df_info)"
   ]
  },
  {
   "cell_type": "code",
   "execution_count": 4,
   "metadata": {},
   "outputs": [
    {
     "name": "stdout",
     "output_type": "stream",
     "text": [
      "Creating the document store...\n",
      "Collection dataflow-meta-information-embeddings created successfully\n",
      "703 embeddings created from documents were and added to the vector store.\n"
     ]
    }
   ],
   "source": [
    "from chromaDB import ChromaDBWrapper\n",
    "# Create the document store\n",
    "print(\"Creating the document store...\")\n",
    "chroma_wrapper = ChromaDBWrapper(flat_info_for_embedding) # should be called with the api key (since i already need it for the LLM)"
   ]
  },
  {
   "cell_type": "code",
   "execution_count": 5,
   "metadata": {},
   "outputs": [
    {
     "data": {
      "text/plain": [
       "{'ids': [['2cee6d2b-9573-4682-a55c-b31111f02e63',\n",
       "   '3f75872e-6547-4f2d-bf2d-d23dab9b6516',\n",
       "   '8b53a698-47a4-4b26-958f-d40f40d6af05']],\n",
       " 'distances': [[0.47795817255973816, 0.4863402545452118, 0.490774929523468]],\n",
       " 'metadatas': [[{'answer': \"The English name of the code 'ISCED11_44' within the code list ID 'EDUCATION_LEV' is 'Post-secondary non-tertiary general education'.\"},\n",
       "   {'answer': \"The English name of the code 'ISCED11_34_44' within the code list ID 'EDUCATION_LEV' is 'Upper secondary and post-secondary non-tertiary general programmes'.\"},\n",
       "   {'answer': \"The English name of the code 'ISCED11_34' within the code list ID 'EDUCATION_LEV' is 'Upper secondary general education'.\"}]],\n",
       " 'embeddings': None,\n",
       " 'documents': [[\"What is the English name of the code 'ISCED11_44' within the code list ID 'EDUCATION_LEV'?\",\n",
       "   \"What is the English name of the code 'ISCED11_34_44' within the code list ID 'EDUCATION_LEV'?\",\n",
       "   \"What is the English name of the code 'ISCED11_34' within the code list ID 'EDUCATION_LEV'?\"]],\n",
       " 'uris': None,\n",
       " 'data': None,\n",
       " 'included': ['metadatas', 'documents', 'distances']}"
      ]
     },
     "execution_count": 5,
     "metadata": {},
     "output_type": "execute_result"
    }
   ],
   "source": [
    "chroma_wrapper.query('what does the code: \"ISCED11_34_44\" mean?', n_results=3)"
   ]
  },
  {
   "cell_type": "code",
   "execution_count": 6,
   "metadata": {},
   "outputs": [],
   "source": [
    "def answer_question(user_question, chroma_wrapper):\n",
    "    # Get the most similar question and answer from the vector store\n",
    "    result_sets = chroma_wrapper.query(user_question, n_results=3)\n",
    "\n",
    "    # Generate the answer to the user question\n",
    "    persona = \"\"\"You are a helpful data analyst working for OECD.\"\"\"\n",
    "    prompt = f\"\"\"\n",
    "    Please provide the answer to the following user question: \n",
    "    {user_question}\n",
    "    Please use the information from the source that was selected as the best source to answer the question!\n",
    "    This is the most similar question to the user question:\n",
    "    '''{result_sets['documents'][0]}'''\n",
    "    \n",
    "    The answer to the question is:\n",
    "    '''{result_sets['metadatas'][0][0]['answer']}'''\n",
    "    \"\"\"\n",
    "    print(result_sets['documents'][0])\n",
    "    print(\"\")\n",
    "    print(result_sets['metadatas'][0][0]['answer'])\n",
    "\n",
    "    ans, cost = LLM.model(persona, prompt)\n",
    "    return ans"
   ]
  },
  {
   "cell_type": "code",
   "execution_count": 14,
   "metadata": {},
   "outputs": [
    {
     "name": "stdout",
     "output_type": "stream",
     "text": [
      "[\"The DataFrame's name\", \"The DataFrame's description\", 'What are the columns or data structure components (dimensions) in this DataFlow?']\n",
      "\n",
      "Full dataset - Indicators, source, destination and nature of expenditure on education\n"
     ]
    },
    {
     "data": {
      "text/plain": [
       "'The name of the dataframe is: **Full dataset - Indicators, source, destination and nature of expenditure on education**.'"
      ]
     },
     "execution_count": 14,
     "metadata": {},
     "output_type": "execute_result"
    }
   ],
   "source": [
    "answer_question(\"what is the  name of the dataframe\", chroma_wrapper)"
   ]
  },
  {
   "cell_type": "code",
   "execution_count": null,
   "metadata": {},
   "outputs": [],
   "source": [
    "answer_question('what does the code: \"ISCED11_34_44\" mean?', chroma_wrapper)"
   ]
  },
  {
   "cell_type": "code",
   "execution_count": null,
   "metadata": {},
   "outputs": [],
   "source": [
    "answer_question('what dimensions are present in this dataflow?', chroma_wrapper)"
   ]
  },
  {
   "cell_type": "code",
   "execution_count": null,
   "metadata": {},
   "outputs": [],
   "source": [
    "answer_question('what is the name of this dataflow?', chroma_wrapper)"
   ]
  },
  {
   "cell_type": "code",
   "execution_count": null,
   "metadata": {},
   "outputs": [],
   "source": []
  },
  {
   "cell_type": "code",
   "execution_count": 1,
   "metadata": {},
   "outputs": [],
   "source": [
    "import grounded_llm"
   ]
  },
  {
   "cell_type": "code",
   "execution_count": null,
   "metadata": {},
   "outputs": [],
   "source": [
    "bot_instance = grounded_llm.Bot(\"OECD.EDU.IMEP:DSD_EAG_UOE_FIN@DF_UOE_FIN_INDIC_SOURCE_NATURE(3.0)\") "
   ]
  },
  {
   "cell_type": "code",
   "execution_count": null,
   "metadata": {},
   "outputs": [],
   "source": [
    "bot_instance.answer_question('what does the code: \"ISCED11_34_44\" mean?')"
   ]
  },
  {
   "cell_type": "code",
   "execution_count": null,
   "metadata": {},
   "outputs": [],
   "source": [
    "bot_instance.answer_question('what is the name of the dataflow?')"
   ]
  },
  {
   "cell_type": "code",
   "execution_count": null,
   "metadata": {},
   "outputs": [],
   "source": [
    "bot_instance.answer_question('what dimensions are present in this dataflow?')\n"
   ]
  },
  {
   "cell_type": "code",
   "execution_count": null,
   "metadata": {},
   "outputs": [],
   "source": []
  },
  {
   "cell_type": "code",
   "execution_count": 17,
   "metadata": {},
   "outputs": [],
   "source": [
    "import LLM"
   ]
  },
  {
   "cell_type": "code",
   "execution_count": 19,
   "metadata": {},
   "outputs": [],
   "source": [
    "def rephrase_user_question(user_question):\n",
    "    \"\"\"\n",
    "    Before performing the semantic search it is wise to rephrase the user question to improve the search results.\n",
    "    The idea is to provide consistency in the questions asked instead of having to store all possible ways of asking the same question.\n",
    "    \"\"\"\n",
    "\n",
    "    persona = \"\"\"You are a helpful data analyst working for OECD.\"\"\"\n",
    "    prompt = f\"\"\"\n",
    "    Your task is to rephrase the user question to improve the search results.\n",
    "    \n",
    "    Please follow the steps above when rephrasing user questions into a simple and uniform format:\n",
    "        1. Identify the Core Inquiry: Determine the main point of the question (e.g., dataset name, column presence, code meaning).\n",
    "        2. Start with a Question Word: Use \"What\" or \"Is\" to begin the question.\n",
    "        3. Focus on the Subject: Clearly state the subject of the question (e.g., dataset, column, code).\n",
    "\n",
    "    Make sure to:\n",
    "        - Use Simple Language: Avoid jargon and complex terms.\n",
    "        - Be Specific: Provide details that help narrow down the search.\n",
    "    \n",
    "    In order to further decrease the complexity of the vocabulary used in the user questions, the following rules should be applied:\n",
    "        - any synonyms to the data source in question (e.g. data, DataFlow, Data Source, Table, Data Set, Data Flow etc.) are replaced with \"Table\"\n",
    "        - any synonyms of a Column are replaced with \"Column\" (e.g. \"Variable\", \"Indicator\", \"Field\", \"Attribute\", \"Measure\", \"Dimension\", \"Concept\", etc.)\n",
    "        - any synonyms of Category are replaced with \"Category\" (e.g. \"Code\", \"Label\", \"Code Value\", etc.). Category is used to refer to the discrete values of a column. \n",
    "\n",
    "    Please rephrase the following user question:\n",
    "    {user_question}\n",
    "    \"\"\"\n",
    "\n",
    "    rephrased_question, cost = LLM.model(persona, prompt)\n",
    "\n",
    "    return rephrased_question"
   ]
  },
  {
   "cell_type": "code",
   "execution_count": 20,
   "metadata": {},
   "outputs": [
    {
     "name": "stdout",
     "output_type": "stream",
     "text": [
      "What is the name of the Table?\n",
      "What is the name of the Table?\n",
      "What is the name of the Table?\n",
      "What is the name of the Table?\n",
      "What is the name of the Table?\n",
      "What is the Table's name?\n",
      "What is the official name of the Table?\n",
      "What is the name of the Table?\n",
      "What is the name of this Table?\n",
      "What is the title of the Table?\n"
     ]
    }
   ],
   "source": [
    "natural_variations = [\n",
    "    \"What is the name of the data table?\",\n",
    "    \"What is the name of the dataflow?\",\n",
    "    \"How is the dataset called?\",\n",
    "    \"What is the table's name?\",\n",
    "    \"Can you tell me the name of the data table?\",\n",
    "    \"What's the dataset's name?\",\n",
    "    \"What is the official name of the data table?\",\n",
    "    \"How is the data table referred to?\",\n",
    "    \"What do we call this data table?\",\n",
    "    \"What's the title of the data table?\"\n",
    "]\n",
    "\n",
    "for question in natural_variations:\n",
    "    print(rephrase_user_question(question))"
   ]
  },
  {
   "cell_type": "code",
   "execution_count": 21,
   "metadata": {},
   "outputs": [],
   "source": [
    "def flatten_info(info):\n",
    "    \"\"\"Flatten the dataflow information for embedding.\"\"\"\n",
    "    flat_info_for_embedding = list(tuple())\n",
    "    flat_info_for_embedding.extend(flatten_name_and_description(info))\n",
    "    flat_info_for_embedding.extend(flatten_dimensions(info))\n",
    "    flat_info_for_embedding.extend(flatten_codes(info))\n",
    "    flat_info_for_embedding.extend(get_dataflow_struct_questions(info))\n",
    "\n",
    "    return flat_info_for_embedding\n",
    "\n",
    "\n",
    "def flatten_name_and_description(info):\n",
    "\n",
    "    return [\n",
    "          (\"The Table's name\", info.df_name)\n",
    "        , (info.df_name, \"The Table's name\")\n",
    "        , (\"The Table's description\", info.df_description)\n",
    "        , (info.df_description, \"The Table's description\")\n",
    "    ]\n",
    "\n",
    "\n",
    "def flatten_dimensions(info):\n",
    "    ans = []\n",
    "    for code, name in info.df_dimension_names.items():\n",
    "        meta_statement = f\"The name that corresponds to the column code: '{code}' is {name}.\"\n",
    "        ans.append((code, meta_statement))\n",
    "        ans.append((name, meta_statement))\n",
    "        ans.append((f\"What name corresponds to the column code: '{code}'?\", meta_statement))\n",
    "        ans.append((f\"What is the column code for '{name}'?\", meta_statement))\n",
    "    return ans\n",
    "\n",
    "\n",
    "def flatten_codes(info):\n",
    "    ans = []\n",
    "    for code_list_id in info.df_code_names:\n",
    "        for code, name in info.df_code_names[code_list_id].items():\n",
    "            meta_statement = f\"The English name of the code '{code}' within the code list ID '{code_list_id}' is '{name}'.\"\n",
    "            ans.append((code, meta_statement))\n",
    "            ans.append((name, meta_statement))\n",
    "            ans.append((f\"What is the English name of the code '{code}' within the code list ID '{code_list_id}'?\", meta_statement))\n",
    "            ans.append((f\"What is the code for '{name}' within the code list ID '{code_list_id}'?\", meta_statement))\n",
    "    return ans\n",
    "\n",
    "\n",
    "def get_dataflow_struct_questions(info):\n",
    "    \"\"\"\n",
    "    If we want generic questions about the schema to be searchable, we need to put them explicitly in the vectorstore. \n",
    "    The two example use case here are when, the user asks for:\n",
    "        1. All the columns in the data table.\n",
    "        2. All the categories (codes) in a specific column.\n",
    "    \"\"\"\n",
    "\n",
    "    ans = []\n",
    "    ans.append((   \"What are the columns in this Tables?\"\n",
    "                , f\"These are all the dimension codes and associated English names in this DataFlow: {info.df_dimension_names}\"))\n",
    "   \n",
    "    for dim_code, dim_name in info.df_dimension_names.items():\n",
    "        try:\n",
    "            ans.append((  f\"What are all the categories in the column: '{dim_code}'?\"\n",
    "                        , f\"\"\"All codes and their English names corresponding to the dimension code: '{dim_code}' and dimension name '{dim_name}' are the follworing: \n",
    "                          '''{info.df_code_names[dim_code]}'''.\n",
    "                          \"\"\"))\n",
    "            ans.append((  f\"What are all the categories in the column: '{dim_name}'?\"\n",
    "                        , f\"\"\"All codes and their English names corresponding to the dimension code: '{dim_code}' and dimension name '{dim_name}' are the follworing: \n",
    "                          '''{info.df_code_names[dim_code]}'''.\n",
    "                          \"\"\"))\n",
    "        except:\n",
    "            print(f\"{dim_code} not found in the code names.\")\n",
    "\n",
    "    return ans"
   ]
  },
  {
   "cell_type": "markdown",
   "metadata": {},
   "source": [
    "# Testing the whole setup"
   ]
  },
  {
   "cell_type": "code",
   "execution_count": 22,
   "metadata": {},
   "outputs": [],
   "source": [
    "# Define the dataflow URL <= this will come from the dropdown selection of the chatbot\n",
    "fin_perstud = {\"agency\": \"OECD.EDU.IMEP\",\n",
    "\"id\": \"DSD_EAG_UOE_FIN@DF_UOE_INDIC_FIN_PERSTUD\",\n",
    "\"version\": \"1.0\"}\n",
    "\n",
    "dataflow_details_url = f'https://sdmx.oecd.org/public/rest/dataflow/{fin_perstud[\"agency\"]}/{fin_perstud[\"id\"]}/{fin_perstud[\"version\"]}?references=all'"
   ]
  },
  {
   "cell_type": "code",
   "execution_count": 23,
   "metadata": {},
   "outputs": [],
   "source": [
    "def load_dataflow_info_to_vector_store(dataflow_details_url):\n",
    "    # Create an instance of the Dataflow class and populate the variables\n",
    "    df_info = Dataflow(dataflow_details_url)\n",
    "\n",
    "    print(\"Populating variables...\")\n",
    "    df_info.populate_variables()\n",
    "    print(\"Variables populated.\")\n",
    "\n",
    "    # Flatten the dataflow information for embedding\n",
    "    flat_info_for_embedding = flatten_info(df_info)\n",
    "\n",
    "    from chromaDB import ChromaDBWrapper\n",
    "    # Create the document store\n",
    "    print(\"Creating the document store...\")\n",
    "    chroma_wrapper = ChromaDBWrapper(flat_info_for_embedding) # should be called with the api key (since i already need it for the LLM)\n",
    "\n",
    "    return chroma_wrapper"
   ]
  },
  {
   "cell_type": "code",
   "execution_count": 24,
   "metadata": {},
   "outputs": [
    {
     "name": "stdout",
     "output_type": "stream",
     "text": [
      "Populating variables...\n",
      "Variables populated.\n",
      "INTENSITY not found in the code names.\n",
      "INST_TYPE_EDU not found in the code names.\n",
      "BASE_PER not found in the code names.\n",
      "TIME_PERIOD not found in the code names.\n",
      "OBS_VALUE not found in the code names.\n",
      "OBS_STATUS not found in the code names.\n",
      "UNIT_MULT not found in the code names.\n",
      "DECIMALS not found in the code names.\n",
      "Creating the document store...\n",
      "Collection dataflow-meta-information-embeddings created successfully\n",
      "449 embeddings created from documents were and added to the vector store.\n"
     ]
    }
   ],
   "source": [
    "my_chroma_wrapper = load_dataflow_info_to_vector_store(dataflow_details_url)"
   ]
  },
  {
   "cell_type": "code",
   "execution_count": null,
   "metadata": {},
   "outputs": [],
   "source": [
    "user_question = \"what is the  name of the dataframe\"\n",
    "standardised_user_question = rephrase_user_question(user_question)\n",
    "print(f'{standardised_user_question=}')\n",
    "answer_question(standardised_user_question, my_chroma_wrapper)"
   ]
  },
  {
   "cell_type": "code",
   "execution_count": null,
   "metadata": {},
   "outputs": [],
   "source": []
  },
  {
   "cell_type": "code",
   "execution_count": null,
   "metadata": {},
   "outputs": [],
   "source": []
  },
  {
   "cell_type": "code",
   "execution_count": null,
   "metadata": {},
   "outputs": [],
   "source": []
  },
  {
   "cell_type": "code",
   "execution_count": null,
   "metadata": {},
   "outputs": [],
   "source": []
  },
  {
   "cell_type": "code",
   "execution_count": null,
   "metadata": {},
   "outputs": [],
   "source": []
  },
  {
   "cell_type": "code",
   "execution_count": null,
   "metadata": {},
   "outputs": [],
   "source": []
  },
  {
   "cell_type": "code",
   "execution_count": null,
   "metadata": {},
   "outputs": [],
   "source": []
  },
  {
   "cell_type": "code",
   "execution_count": null,
   "metadata": {},
   "outputs": [],
   "source": []
  },
  {
   "cell_type": "code",
   "execution_count": 7,
   "metadata": {},
   "outputs": [],
   "source": [
    "import json\n",
    "# read grouped_edu_dataflows.json\n",
    "with open('grouped_edu_dataflows.json', 'r') as f:\n",
    "    dataflows = json.load(f)"
   ]
  },
  {
   "cell_type": "code",
   "execution_count": null,
   "metadata": {},
   "outputs": [],
   "source": [
    "dataflows.keys()"
   ]
  },
  {
   "cell_type": "code",
   "execution_count": null,
   "metadata": {},
   "outputs": [],
   "source": [
    "dataflows['UOE Financial']"
   ]
  },
  {
   "cell_type": "code",
   "execution_count": null,
   "metadata": {},
   "outputs": [],
   "source": [
    "def setup_vector_store(dataflow_name):\n",
    "    dataflow_details_url = get_dataflow_url_from_name(dataflow_name)\n",
    "\n",
    "    # Create an instance of the Dataflow class and populate the variables\n",
    "    df_info = Dataflow(dataflow_details_url)\n",
    "\n",
    "    print(\"Populating variables...\")\n",
    "    df_info.populate_variables()\n",
    "    print(\"Variables populated.\")\n",
    "\n",
    "    # Flatten the dataflow information for embedding\n",
    "    flat_info_for_embedding = flatten_info(df_info)\n",
    "\n",
    "    # Create the document store\n",
    "    print(\"Creating the document store...\")\n",
    "    chroma_wrapper = ChromaDBWrapper(flat_info_for_embedding) # should be called with the api key (since i already need it for the LLM)\n",
    "\n",
    "    return chroma_wrapper"
   ]
  },
  {
   "cell_type": "code",
   "execution_count": null,
   "metadata": {},
   "outputs": [],
   "source": [
    "def get_dataflow_url_from_name(dataflow_name):\n",
    "    # Split the dataflow_name into agency and the rest\n",
    "    agency, rest = dataflow_name.split(':')\n",
    "    \n",
    "    # Split the rest into id and version\n",
    "    id_part, version = rest.split('(')\n",
    "    \n",
    "    # Remove the closing parenthesis from the version\n",
    "    version = version.rstrip(')')\n",
    "    \n",
    "    # Return the dataflow url\n",
    "    return f'https://sdmx.oecd.org/public/rest/dataflow/{agency}/{id_part}/{version}?references=all'\n",
    "\n",
    "\n",
    "dataflow_name = \"OECD.EDU.IMEP:DSD_EAG_UOE_FIN@DF_UOE_INDIC_FIN_PERSTUD(3.0)\"\n",
    "dataflow_details_url = get_dataflow_url_from_name(dataflow_name)\n",
    "dataflow_details_url"
   ]
  },
  {
   "cell_type": "code",
   "execution_count": 13,
   "metadata": {},
   "outputs": [],
   "source": [
    "from SDMX_DataFlow import Dataflow"
   ]
  },
  {
   "cell_type": "code",
   "execution_count": null,
   "metadata": {},
   "outputs": [],
   "source": [
    "# Create an instance of the Dataflow class and populate the variables\n",
    "df_info = Dataflow(dataflow_details_url)\n",
    "\n",
    "print(\"Populating variables...\")\n",
    "df_info.populate_variables()\n",
    "print(\"Variables populated.\")"
   ]
  },
  {
   "cell_type": "code",
   "execution_count": 19,
   "metadata": {},
   "outputs": [],
   "source": [
    "from data_prep_for_indenxing import flatten_info\n",
    "\n",
    "# Flatten the dataflow information for embedding\n",
    "flat_info_for_embedding = flatten_info(df_info)"
   ]
  },
  {
   "cell_type": "code",
   "execution_count": null,
   "metadata": {},
   "outputs": [],
   "source": [
    "# Create the document store\n",
    "print(\"Creating the document store...\")\n",
    "chroma_wrapper = ChromaDBWrapper(flat_info_for_embedding)"
   ]
  },
  {
   "cell_type": "code",
   "execution_count": 15,
   "metadata": {},
   "outputs": [],
   "source": [
    "def answer_question(user_question, chroma_wrapper):\n",
    "    # Get the most similar question and answer from the vector store\n",
    "    result_sets = chroma_wrapper.query(user_question, n_results=3)\n",
    "\n",
    "    # Generate the answer to the user question\n",
    "    persona = \"\"\"You are a helpful data analyst working for OECD.\"\"\"\n",
    "    prompt = f\"\"\"\n",
    "    Please provide the answer to the following user question: \n",
    "    {user_question}\n",
    "    Please use the information from the source that was selected as the best source to answer the question!\n",
    "    This is the most similar question to the user question:\n",
    "    '''{result_sets['documents'][0]}'''\n",
    "    \n",
    "    The answer to the question is:\n",
    "    '''{result_sets['metadatas'][0][0]['answer']}'''\n",
    "    \"\"\"\n",
    "    print(result_sets['documents'][0])\n",
    "    print(\"\")\n",
    "    print(result_sets['metadatas'][0][0]['answer'])\n",
    "\n",
    "    ans, cost = LLM.model(persona, prompt)\n",
    "    return ans"
   ]
  },
  {
   "cell_type": "code",
   "execution_count": null,
   "metadata": {},
   "outputs": [],
   "source": [
    "answer_question('what does the code: \"ISCED11_34_44\" mean?', chroma_wrapper)"
   ]
  },
  {
   "cell_type": "code",
   "execution_count": null,
   "metadata": {},
   "outputs": [],
   "source": [
    "chroma_wrapper.query('what does the code: \"ISCED11_34_44\" mean?', n_results=3)"
   ]
  },
  {
   "cell_type": "code",
   "execution_count": null,
   "metadata": {},
   "outputs": [],
   "source": [
    "chroma_wrapper"
   ]
  },
  {
   "cell_type": "code",
   "execution_count": null,
   "metadata": {},
   "outputs": [],
   "source": []
  },
  {
   "cell_type": "code",
   "execution_count": null,
   "metadata": {},
   "outputs": [],
   "source": [
    "import LLM\n",
    "from SDMX_DataFlow import Dataflow\n",
    "from data_prep_for_indenxing import flatten_info\n",
    "from chromaDB import ChromaDBWrapper\n",
    "\n",
    "\n",
    "\n",
    "\n",
    "# Create an instance of the Dataflow class and populate the variables\n",
    "df_info = Dataflow(dataflow_details_url)\n",
    "\n",
    "print(\"Populating variables...\")\n",
    "df_info.populate_variables()\n",
    "print(\"Variables populated.\")\n",
    "\n",
    "# Flatten the dataflow information for embedding\n",
    "flat_info_for_embedding = flatten_info(df_info)\n",
    "\n",
    "# Create the document store\n",
    "print(\"Creating the document store...\")\n",
    "chroma_wrapper = ChromaDBWrapper(flat_info_for_embedding) # should be called with the api key (since i already need it for the LLM)\n",
    "\n",
    "def answer_question(user_question):\n",
    "    # Get the most similar question and answer from the vector store\n",
    "    result_sets = chroma_wrapper.query(user_question, n_results=1)\n",
    "\n",
    "    # Generate the answer to the user question\n",
    "    persona = \"\"\"You are a helpful data analyst working for OECD.\"\"\"\n",
    "    prompt = f\"\"\"\n",
    "    Please provide the answer to the following user question: \n",
    "    {user_question}\n",
    "    Please use the information from the source that was selected as the best source to answer the question!\n",
    "    This is the most similar question to the user question:\n",
    "    '''{result_sets['documents'][0]}'''\n",
    "    \n",
    "    The answer to the question is:\n",
    "    '''{result_sets['metadatas'][0][0]['answer']}'''\n",
    "    \"\"\"\n",
    "\n",
    "    ans, cost = LLM.model(persona, prompt)\n",
    "    return ans\n"
   ]
  }
 ],
 "metadata": {
  "kernelspec": {
   "display_name": ".venv",
   "language": "python",
   "name": "python3"
  },
  "language_info": {
   "codemirror_mode": {
    "name": "ipython",
    "version": 3
   },
   "file_extension": ".py",
   "mimetype": "text/x-python",
   "name": "python",
   "nbconvert_exporter": "python",
   "pygments_lexer": "ipython3",
   "version": "3.11.6"
  }
 },
 "nbformat": 4,
 "nbformat_minor": 2
}
