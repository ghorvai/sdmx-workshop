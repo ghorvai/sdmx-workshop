{
 "cells": [
  {
   "cell_type": "code",
   "execution_count": 1,
   "metadata": {},
   "outputs": [
    {
     "name": "stdout",
     "output_type": "stream",
     "text": [
      "Populating variables...\n",
      "No codelist found for TIME_PERIOD\n",
      "Variables populated.\n",
      "Creating the document store...\n"
     ]
    },
    {
     "ename": "InvalidCollectionException",
     "evalue": "Collection dataflow-meta-information-embeddings does not exist.",
     "output_type": "error",
     "traceback": [
      "\u001b[0;31m---------------------------------------------------------------------------\u001b[0m",
      "\u001b[0;31mInvalidCollectionException\u001b[0m                Traceback (most recent call last)",
      "Cell \u001b[0;32mIn[1], line 1\u001b[0m\n\u001b[0;32m----> 1\u001b[0m \u001b[38;5;28;01mimport\u001b[39;00m \u001b[38;5;21;01mbot\u001b[39;00m\n",
      "File \u001b[0;32m~/Projects/amsterdam/claude_chat_bot/bot.py:38\u001b[0m\n\u001b[1;32m     35\u001b[0m \u001b[38;5;66;03m# Create the document store\u001b[39;00m\n\u001b[1;32m     36\u001b[0m \u001b[38;5;28mprint\u001b[39m(\u001b[38;5;124m\"\u001b[39m\u001b[38;5;124mCreating the document store...\u001b[39m\u001b[38;5;124m\"\u001b[39m)\n\u001b[0;32m---> 38\u001b[0m chroma_wrapper \u001b[38;5;241m=\u001b[39m \u001b[43mChromaDBWrapper\u001b[49m\u001b[43m(\u001b[49m\u001b[43mflat_info_for_embedding\u001b[49m\u001b[43m)\u001b[49m \u001b[38;5;66;03m# should be called with the api key (since i already need it for the LLM)\u001b[39;00m\n\u001b[1;32m     40\u001b[0m \u001b[38;5;28;01mdef\u001b[39;00m \u001b[38;5;21manswer_question\u001b[39m(user_question):\n\u001b[1;32m     41\u001b[0m     \u001b[38;5;66;03m# Get the most similar question and answer from the vector store\u001b[39;00m\n\u001b[1;32m     42\u001b[0m     result_sets \u001b[38;5;241m=\u001b[39m chroma_wrapper\u001b[38;5;241m.\u001b[39mquery(user_question, n_results\u001b[38;5;241m=\u001b[39m\u001b[38;5;241m1\u001b[39m)\n",
      "File \u001b[0;32m~/Projects/amsterdam/claude_chat_bot/chromaDB.py:32\u001b[0m, in \u001b[0;36mChromaDBWrapper.__init__\u001b[0;34m(self, flat_info_for_embedding, secrets_path, collection_name)\u001b[0m\n\u001b[1;32m     26\u001b[0m \u001b[38;5;28mself\u001b[39m\u001b[38;5;241m.\u001b[39membedding_function \u001b[38;5;241m=\u001b[39m embedding_functions\u001b[38;5;241m.\u001b[39mOpenAIEmbeddingFunction(\n\u001b[1;32m     27\u001b[0m     model_name\u001b[38;5;241m=\u001b[39m\u001b[38;5;124m'\u001b[39m\u001b[38;5;124mtext-embedding-3-small\u001b[39m\u001b[38;5;124m'\u001b[39m,\n\u001b[1;32m     28\u001b[0m     api_key\u001b[38;5;241m=\u001b[39m\u001b[38;5;28mself\u001b[39m\u001b[38;5;241m.\u001b[39mopenai_api_key\n\u001b[1;32m     29\u001b[0m )\n\u001b[1;32m     31\u001b[0m \u001b[38;5;66;03m# Create or get the collection\u001b[39;00m\n\u001b[0;32m---> 32\u001b[0m \u001b[38;5;28;43mself\u001b[39;49m\u001b[38;5;241;43m.\u001b[39;49m\u001b[43mcreate_collection\u001b[49m\u001b[43m(\u001b[49m\u001b[43m)\u001b[49m\n\u001b[1;32m     33\u001b[0m \u001b[38;5;28mprint\u001b[39m(\u001b[38;5;124m\"\u001b[39m\u001b[38;5;124mCollection created successfully.\u001b[39m\u001b[38;5;124m\"\u001b[39m)\n\u001b[1;32m     35\u001b[0m \u001b[38;5;66;03m# Add data to the collection\u001b[39;00m\n",
      "File \u001b[0;32m~/Projects/amsterdam/claude_chat_bot/chromaDB.py:41\u001b[0m, in \u001b[0;36mChromaDBWrapper.create_collection\u001b[0;34m(self)\u001b[0m\n\u001b[1;32m     38\u001b[0m \u001b[38;5;28;01mdef\u001b[39;00m \u001b[38;5;21mcreate_collection\u001b[39m(\u001b[38;5;28mself\u001b[39m):\n\u001b[1;32m     39\u001b[0m     \u001b[38;5;66;03m# Clear the collection if it already exists\u001b[39;00m\n\u001b[1;32m     40\u001b[0m     \u001b[38;5;28;01mtry\u001b[39;00m:\n\u001b[0;32m---> 41\u001b[0m         \u001b[38;5;28;43mself\u001b[39;49m\u001b[38;5;241;43m.\u001b[39;49m\u001b[43mclient\u001b[49m\u001b[38;5;241;43m.\u001b[39;49m\u001b[43mget_collection\u001b[49m\u001b[43m(\u001b[49m\u001b[43mname\u001b[49m\u001b[38;5;241;43m=\u001b[39;49m\u001b[38;5;28;43mself\u001b[39;49m\u001b[38;5;241;43m.\u001b[39;49m\u001b[43mcollection_name\u001b[49m\u001b[43m,\u001b[49m\u001b[43m \u001b[49m\u001b[43membedding_function\u001b[49m\u001b[38;5;241;43m=\u001b[39;49m\u001b[38;5;28;43mself\u001b[39;49m\u001b[38;5;241;43m.\u001b[39;49m\u001b[43membedding_function\u001b[49m\u001b[43m)\u001b[49m\n\u001b[1;32m     42\u001b[0m         \u001b[38;5;28mself\u001b[39m\u001b[38;5;241m.\u001b[39mclient\u001b[38;5;241m.\u001b[39mdelete_collection(\u001b[38;5;28mself\u001b[39m\u001b[38;5;241m.\u001b[39mcollection_name)\n\u001b[1;32m     43\u001b[0m     \u001b[38;5;28;01mexcept\u001b[39;00m \u001b[38;5;167;01mValueError\u001b[39;00m:\n",
      "File \u001b[0;32m~/Projects/amsterdam/.venv/lib/python3.11/site-packages/chromadb/api/client.py:142\u001b[0m, in \u001b[0;36mClient.get_collection\u001b[0;34m(self, name, id, embedding_function, data_loader)\u001b[0m\n\u001b[1;32m    132\u001b[0m \u001b[38;5;129m@override\u001b[39m\n\u001b[1;32m    133\u001b[0m \u001b[38;5;28;01mdef\u001b[39;00m \u001b[38;5;21mget_collection\u001b[39m(\n\u001b[1;32m    134\u001b[0m     \u001b[38;5;28mself\u001b[39m,\n\u001b[0;32m   (...)\u001b[0m\n\u001b[1;32m    140\u001b[0m     data_loader: Optional[DataLoader[Loadable]] \u001b[38;5;241m=\u001b[39m \u001b[38;5;28;01mNone\u001b[39;00m,\n\u001b[1;32m    141\u001b[0m ) \u001b[38;5;241m-\u001b[39m\u001b[38;5;241m>\u001b[39m Collection:\n\u001b[0;32m--> 142\u001b[0m     model \u001b[38;5;241m=\u001b[39m \u001b[38;5;28;43mself\u001b[39;49m\u001b[38;5;241;43m.\u001b[39;49m\u001b[43m_server\u001b[49m\u001b[38;5;241;43m.\u001b[39;49m\u001b[43mget_collection\u001b[49m\u001b[43m(\u001b[49m\n\u001b[1;32m    143\u001b[0m \u001b[43m        \u001b[49m\u001b[38;5;28;43mid\u001b[39;49m\u001b[38;5;241;43m=\u001b[39;49m\u001b[38;5;28;43mid\u001b[39;49m\u001b[43m,\u001b[49m\n\u001b[1;32m    144\u001b[0m \u001b[43m        \u001b[49m\u001b[43mname\u001b[49m\u001b[38;5;241;43m=\u001b[39;49m\u001b[43mname\u001b[49m\u001b[43m,\u001b[49m\n\u001b[1;32m    145\u001b[0m \u001b[43m        \u001b[49m\u001b[43mtenant\u001b[49m\u001b[38;5;241;43m=\u001b[39;49m\u001b[38;5;28;43mself\u001b[39;49m\u001b[38;5;241;43m.\u001b[39;49m\u001b[43mtenant\u001b[49m\u001b[43m,\u001b[49m\n\u001b[1;32m    146\u001b[0m \u001b[43m        \u001b[49m\u001b[43mdatabase\u001b[49m\u001b[38;5;241;43m=\u001b[39;49m\u001b[38;5;28;43mself\u001b[39;49m\u001b[38;5;241;43m.\u001b[39;49m\u001b[43mdatabase\u001b[49m\u001b[43m,\u001b[49m\n\u001b[1;32m    147\u001b[0m \u001b[43m    \u001b[49m\u001b[43m)\u001b[49m\n\u001b[1;32m    148\u001b[0m     \u001b[38;5;28;01mreturn\u001b[39;00m Collection(\n\u001b[1;32m    149\u001b[0m         client\u001b[38;5;241m=\u001b[39m\u001b[38;5;28mself\u001b[39m\u001b[38;5;241m.\u001b[39m_server,\n\u001b[1;32m    150\u001b[0m         model\u001b[38;5;241m=\u001b[39mmodel,\n\u001b[1;32m    151\u001b[0m         embedding_function\u001b[38;5;241m=\u001b[39membedding_function,\n\u001b[1;32m    152\u001b[0m         data_loader\u001b[38;5;241m=\u001b[39mdata_loader,\n\u001b[1;32m    153\u001b[0m     )\n",
      "File \u001b[0;32m~/Projects/amsterdam/.venv/lib/python3.11/site-packages/chromadb/telemetry/opentelemetry/__init__.py:146\u001b[0m, in \u001b[0;36mtrace_method.<locals>.decorator.<locals>.wrapper\u001b[0;34m(*args, **kwargs)\u001b[0m\n\u001b[1;32m    144\u001b[0m \u001b[38;5;28;01mglobal\u001b[39;00m tracer, granularity\n\u001b[1;32m    145\u001b[0m \u001b[38;5;28;01mif\u001b[39;00m trace_granularity \u001b[38;5;241m<\u001b[39m granularity:\n\u001b[0;32m--> 146\u001b[0m     \u001b[38;5;28;01mreturn\u001b[39;00m \u001b[43mf\u001b[49m\u001b[43m(\u001b[49m\u001b[38;5;241;43m*\u001b[39;49m\u001b[43margs\u001b[49m\u001b[43m,\u001b[49m\u001b[43m \u001b[49m\u001b[38;5;241;43m*\u001b[39;49m\u001b[38;5;241;43m*\u001b[39;49m\u001b[43mkwargs\u001b[49m\u001b[43m)\u001b[49m\n\u001b[1;32m    147\u001b[0m \u001b[38;5;28;01mif\u001b[39;00m \u001b[38;5;129;01mnot\u001b[39;00m tracer:\n\u001b[1;32m    148\u001b[0m     \u001b[38;5;28;01mreturn\u001b[39;00m f(\u001b[38;5;241m*\u001b[39margs, \u001b[38;5;241m*\u001b[39m\u001b[38;5;241m*\u001b[39mkwargs)\n",
      "File \u001b[0;32m~/Projects/amsterdam/.venv/lib/python3.11/site-packages/chromadb/api/segment.py:253\u001b[0m, in \u001b[0;36mSegmentAPI.get_collection\u001b[0;34m(self, name, id, tenant, database)\u001b[0m\n\u001b[1;32m    251\u001b[0m     \u001b[38;5;28;01mreturn\u001b[39;00m existing[\u001b[38;5;241m0\u001b[39m]\n\u001b[1;32m    252\u001b[0m \u001b[38;5;28;01melse\u001b[39;00m:\n\u001b[0;32m--> 253\u001b[0m     \u001b[38;5;28;01mraise\u001b[39;00m InvalidCollectionException(\u001b[38;5;124mf\u001b[39m\u001b[38;5;124m\"\u001b[39m\u001b[38;5;124mCollection \u001b[39m\u001b[38;5;132;01m{\u001b[39;00mname\u001b[38;5;132;01m}\u001b[39;00m\u001b[38;5;124m does not exist.\u001b[39m\u001b[38;5;124m\"\u001b[39m)\n",
      "\u001b[0;31mInvalidCollectionException\u001b[0m: Collection dataflow-meta-information-embeddings does not exist."
     ]
    }
   ],
   "source": [
    "import claude_chat_bot.grounded_llm as grounded_llm"
   ]
  },
  {
   "cell_type": "code",
   "execution_count": 1,
   "metadata": {},
   "outputs": [],
   "source": [
    "import LLM\n",
    "from SDMX_DataFlow import Dataflow\n",
    "from data_prep_for_indenxing import flatten_info\n"
   ]
  },
  {
   "cell_type": "code",
   "execution_count": 2,
   "metadata": {},
   "outputs": [
    {
     "name": "stdout",
     "output_type": "stream",
     "text": [
      "Populating variables...\n",
      "No codelist found for TIME_PERIOD\n",
      "Variables populated.\n"
     ]
    }
   ],
   "source": [
    "# Define the dataflow URL <= this will come from the dropdown selection of the chatbot\n",
    "fin_perstud = {\"agency\": \"OECD.EDU.IMEP\",\n",
    "\"id\": \"DSD_EAG_UOE_FIN@DF_UOE_INDIC_FIN_PERSTUD\",\n",
    "\"version\": \"1.0\"}\n",
    "\n",
    "dataflow_details_url = f'https://sdmx.oecd.org/public/rest/dataflow/{fin_perstud[\"agency\"]}/{fin_perstud[\"id\"]}/{fin_perstud[\"version\"]}?references=all'\n",
    "\n",
    "# Create an instance of the Dataflow class and populate the variables\n",
    "df_info = Dataflow(dataflow_details_url)\n",
    "\n",
    "print(\"Populating variables...\")\n",
    "df_info.populate_variables()\n",
    "print(\"Variables populated.\")"
   ]
  },
  {
   "cell_type": "code",
   "execution_count": 3,
   "metadata": {},
   "outputs": [],
   "source": [
    "# Flatten the dataflow information for embedding\n",
    "flat_info_for_embedding = flatten_info(df_info)"
   ]
  },
  {
   "cell_type": "code",
   "execution_count": 4,
   "metadata": {},
   "outputs": [
    {
     "name": "stdout",
     "output_type": "stream",
     "text": [
      "Creating the document store...\n",
      "Collection dataflow-meta-information-embeddings created successfully\n",
      "440 embeddings created from documents were and added to the vector store.\n"
     ]
    }
   ],
   "source": [
    "from chromaDB import ChromaDBWrapper\n",
    "# Create the document store\n",
    "print(\"Creating the document store...\")\n",
    "chroma_wrapper = ChromaDBWrapper(flat_info_for_embedding) # should be called with the api key (since i already need it for the LLM)"
   ]
  },
  {
   "cell_type": "code",
   "execution_count": 5,
   "metadata": {},
   "outputs": [],
   "source": [
    "# Define the dataflow URL <= this will come from the dropdown selection of the chatbot\n",
    "fin_perstud = {\"agency\": \"OECD.EDU.IMEP\",\n",
    "\"id\": \"DSD_EAG_UOE_FIN@DF_UOE_INDIC_FIN_PERSTUD\",\n",
    "\"version\": \"1.0\"}\n",
    "\n",
    "dataflow_details_url = f'https://sdmx.oecd.org/public/rest/dataflow/{fin_perstud[\"agency\"]}/{fin_perstud[\"id\"]}/{fin_perstud[\"version\"]}?references=all'"
   ]
  },
  {
   "cell_type": "code",
   "execution_count": null,
   "metadata": {},
   "outputs": [],
   "source": [
    "def load_dataflow_info_to_vector_store(dataflow_details_url):\n",
    "    # Create an instance of the Dataflow class and populate the variables\n",
    "    df_info = Dataflow(dataflow_details_url)\n",
    "\n",
    "    print(\"Populating variables...\")\n",
    "    df_info.populate_variables()\n",
    "    print(\"Variables populated.\")\n",
    "\n",
    "    # Flatten the dataflow information for embedding\n",
    "    flat_info_for_embedding = flatten_info(df_info)\n",
    "\n",
    "    from chromaDB import ChromaDBWrapper\n",
    "    # Create the document store\n",
    "    print(\"Creating the document store...\")\n",
    "    chroma_wrapper = ChromaDBWrapper(flat_info_for_embedding) # should be called with the api key (since i already need it for the LLM)\n",
    "\n",
    "    return chroma_wrapper"
   ]
  },
  {
   "cell_type": "code",
   "execution_count": 6,
   "metadata": {},
   "outputs": [
    {
     "data": {
      "text/plain": [
       "'https://sdmx.oecd.org/public/rest/dataflow/OECD.EDU.IMEP/DSD_EAG_UOE_FIN@DF_UOE_INDIC_FIN_PERSTUD/1.0?references=all'"
      ]
     },
     "execution_count": 6,
     "metadata": {},
     "output_type": "execute_result"
    }
   ],
   "source": [
    "dataflow_details_url"
   ]
  },
  {
   "cell_type": "code",
   "execution_count": 7,
   "metadata": {},
   "outputs": [],
   "source": [
    "import json\n",
    "# read grouped_edu_dataflows.json\n",
    "with open('grouped_edu_dataflows.json', 'r') as f:\n",
    "    dataflows = json.load(f)"
   ]
  },
  {
   "cell_type": "code",
   "execution_count": 8,
   "metadata": {},
   "outputs": [
    {
     "data": {
      "text/plain": [
       "dict_keys(['IT Indicators', 'LSO Earnings and Employment', 'SAL Actual', 'SAL Status', 'SAL Trend', 'UOE Financial', 'UOE Non-Financial Personnel', 'UOE Non-Financial Students', 'WT Indicators'])"
      ]
     },
     "execution_count": 8,
     "metadata": {},
     "output_type": "execute_result"
    }
   ],
   "source": [
    "dataflows.keys()"
   ]
  },
  {
   "cell_type": "code",
   "execution_count": 9,
   "metadata": {},
   "outputs": [
    {
     "data": {
      "text/plain": [
       "['OECD.EDU.IMEP:DSD_EAG_UOE_FIN@DF_UOE_FIN_INDIC_SHARE_EDU_GOV(3.0)',\n",
       " 'OECD.EDU.IMEP:DSD_EAG_UOE_FIN@DF_UOE_FIN_INDIC_SOURCE_NATURE(3.0)',\n",
       " 'OECD.EDU.IMEP:DSD_EAG_UOE_FIN@DF_UOE_FIN_NATURE(1.0)',\n",
       " 'OECD.EDU.IMEP:DSD_EAG_UOE_FIN@DF_UOE_FIN_NATURE_CUR_CAP(3.0)',\n",
       " 'OECD.EDU.IMEP:DSD_EAG_UOE_FIN@DF_UOE_FIN_NATURE_STAFF(3.0)',\n",
       " 'OECD.EDU.IMEP:DSD_EAG_UOE_FIN@DF_UOE_FIN_SOURCE(1.0)',\n",
       " 'OECD.EDU.IMEP:DSD_EAG_UOE_FIN@DF_UOE_FIN_SOURCE_GV_PR_NDOM(3.0)',\n",
       " 'OECD.EDU.IMEP:DSD_EAG_UOE_FIN@DF_UOE_INDIC_FIN_GDP(1.0)',\n",
       " 'OECD.EDU.IMEP:DSD_EAG_UOE_FIN@DF_UOE_INDIC_FIN_PERSTUD(3.0)',\n",
       " 'OECD.EDU.IMEP:DSD_EAG_UOE_FIN_ANNEX@DF_UOE_FIN_ANNEX(3.0)',\n",
       " 'OECD.EDU.IMEP:DSD_EAG_UOE_FIN_ENR@DF_UOE_FIN_ENR(3.0)']"
      ]
     },
     "execution_count": 9,
     "metadata": {},
     "output_type": "execute_result"
    }
   ],
   "source": [
    "dataflows['UOE Financial']"
   ]
  },
  {
   "cell_type": "code",
   "execution_count": null,
   "metadata": {},
   "outputs": [],
   "source": [
    "def setup_vector_store(dataflow_name):\n",
    "    dataflow_details_url = get_dataflow_url_from_name(dataflow_name)\n",
    "\n",
    "    # Create an instance of the Dataflow class and populate the variables\n",
    "    df_info = Dataflow(dataflow_details_url)\n",
    "\n",
    "    print(\"Populating variables...\")\n",
    "    df_info.populate_variables()\n",
    "    print(\"Variables populated.\")\n",
    "\n",
    "    # Flatten the dataflow information for embedding\n",
    "    flat_info_for_embedding = flatten_info(df_info)\n",
    "\n",
    "    # Create the document store\n",
    "    print(\"Creating the document store...\")\n",
    "    chroma_wrapper = ChromaDBWrapper(flat_info_for_embedding) # should be called with the api key (since i already need it for the LLM)\n",
    "\n",
    "    return chroma_wrapper"
   ]
  },
  {
   "cell_type": "code",
   "execution_count": 14,
   "metadata": {},
   "outputs": [
    {
     "data": {
      "text/plain": [
       "'https://sdmx.oecd.org/public/rest/dataflow/OECD.EDU.IMEP/DSD_EAG_UOE_FIN@DF_UOE_INDIC_FIN_PERSTUD/3.0?references=all'"
      ]
     },
     "execution_count": 14,
     "metadata": {},
     "output_type": "execute_result"
    }
   ],
   "source": [
    "def get_dataflow_url_from_name(dataflow_name):\n",
    "    # Split the dataflow_name into agency and the rest\n",
    "    agency, rest = dataflow_name.split(':')\n",
    "    \n",
    "    # Split the rest into id and version\n",
    "    id_part, version = rest.split('(')\n",
    "    \n",
    "    # Remove the closing parenthesis from the version\n",
    "    version = version.rstrip(')')\n",
    "    \n",
    "    # Return the dataflow url\n",
    "    return f'https://sdmx.oecd.org/public/rest/dataflow/{agency}/{id_part}/{version}?references=all'\n",
    "\n",
    "\n",
    "dataflow_name = \"OECD.EDU.IMEP:DSD_EAG_UOE_FIN@DF_UOE_INDIC_FIN_PERSTUD(3.0)\"\n",
    "dataflow_details_url = get_dataflow_url_from_name(dataflow_name)\n",
    "dataflow_details_url"
   ]
  },
  {
   "cell_type": "code",
   "execution_count": 13,
   "metadata": {},
   "outputs": [],
   "source": [
    "from SDMX_DataFlow import Dataflow"
   ]
  },
  {
   "cell_type": "code",
   "execution_count": 15,
   "metadata": {},
   "outputs": [
    {
     "name": "stdout",
     "output_type": "stream",
     "text": [
      "Populating variables...\n",
      "No codelist found for TIME_PERIOD\n",
      "Variables populated.\n"
     ]
    }
   ],
   "source": [
    "# Create an instance of the Dataflow class and populate the variables\n",
    "df_info = Dataflow(dataflow_details_url)\n",
    "\n",
    "print(\"Populating variables...\")\n",
    "df_info.populate_variables()\n",
    "print(\"Variables populated.\")"
   ]
  },
  {
   "cell_type": "code",
   "execution_count": 19,
   "metadata": {},
   "outputs": [],
   "source": [
    "from data_prep_for_indenxing import flatten_info\n",
    "\n",
    "# Flatten the dataflow information for embedding\n",
    "flat_info_for_embedding = flatten_info(df_info)"
   ]
  },
  {
   "cell_type": "code",
   "execution_count": 20,
   "metadata": {},
   "outputs": [
    {
     "name": "stdout",
     "output_type": "stream",
     "text": [
      "Creating the document store...\n",
      "Collection dataflow-meta-information-embeddings created successfully\n",
      "472 embeddings created from documents were and added to the vector store.\n"
     ]
    }
   ],
   "source": [
    "# Create the document store\n",
    "print(\"Creating the document store...\")\n",
    "chroma_wrapper = ChromaDBWrapper(flat_info_for_embedding)"
   ]
  },
  {
   "cell_type": "code",
   "execution_count": null,
   "metadata": {},
   "outputs": [],
   "source": [
    "def answer_question(user_question, chroma_wrapper):\n",
    "    # Get the most similar question and answer from the vector store\n",
    "    result_sets = chroma_wrapper.query(user_question, n_results=1)\n",
    "\n",
    "    # Generate the answer to the user question\n",
    "    persona = \"\"\"You are a helpful data analyst working for OECD.\"\"\"\n",
    "    prompt = f\"\"\"\n",
    "    Please provide the answer to the following user question: \n",
    "    {user_question}\n",
    "    Please use the information from the source that was selected as the best source to answer the question!\n",
    "    This is the most similar question to the user question:\n",
    "    '''{result_sets['documents'][0]}'''\n",
    "    \n",
    "    The answer to the question is:\n",
    "    '''{result_sets['metadatas'][0][0]['answer']}'''\n",
    "    \"\"\"\n",
    "\n",
    "    ans, cost = LLM.model(persona, prompt)\n",
    "    return ans"
   ]
  },
  {
   "cell_type": "code",
   "execution_count": null,
   "metadata": {},
   "outputs": [],
   "source": []
  },
  {
   "cell_type": "code",
   "execution_count": null,
   "metadata": {},
   "outputs": [],
   "source": [
    "import LLM\n",
    "from SDMX_DataFlow import Dataflow\n",
    "from data_prep_for_indenxing import flatten_info\n",
    "from chromaDB import ChromaDBWrapper\n",
    "\n",
    "\n",
    "\n",
    "\n",
    "# Create an instance of the Dataflow class and populate the variables\n",
    "df_info = Dataflow(dataflow_details_url)\n",
    "\n",
    "print(\"Populating variables...\")\n",
    "df_info.populate_variables()\n",
    "print(\"Variables populated.\")\n",
    "\n",
    "# Flatten the dataflow information for embedding\n",
    "flat_info_for_embedding = flatten_info(df_info)\n",
    "\n",
    "# Create the document store\n",
    "print(\"Creating the document store...\")\n",
    "chroma_wrapper = ChromaDBWrapper(flat_info_for_embedding) # should be called with the api key (since i already need it for the LLM)\n",
    "\n",
    "def answer_question(user_question):\n",
    "    # Get the most similar question and answer from the vector store\n",
    "    result_sets = chroma_wrapper.query(user_question, n_results=1)\n",
    "\n",
    "    # Generate the answer to the user question\n",
    "    persona = \"\"\"You are a helpful data analyst working for OECD.\"\"\"\n",
    "    prompt = f\"\"\"\n",
    "    Please provide the answer to the following user question: \n",
    "    {user_question}\n",
    "    Please use the information from the source that was selected as the best source to answer the question!\n",
    "    This is the most similar question to the user question:\n",
    "    '''{result_sets['documents'][0]}'''\n",
    "    \n",
    "    The answer to the question is:\n",
    "    '''{result_sets['metadatas'][0][0]['answer']}'''\n",
    "    \"\"\"\n",
    "\n",
    "    ans, cost = LLM.model(persona, prompt)\n",
    "    return ans\n"
   ]
  }
 ],
 "metadata": {
  "kernelspec": {
   "display_name": ".venv",
   "language": "python",
   "name": "python3"
  },
  "language_info": {
   "codemirror_mode": {
    "name": "ipython",
    "version": 3
   },
   "file_extension": ".py",
   "mimetype": "text/x-python",
   "name": "python",
   "nbconvert_exporter": "python",
   "pygments_lexer": "ipython3",
   "version": "3.11.6"
  }
 },
 "nbformat": 4,
 "nbformat_minor": 2
}
