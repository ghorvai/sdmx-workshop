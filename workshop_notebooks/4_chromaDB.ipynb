{
 "cells": [
  {
   "cell_type": "code",
   "execution_count": 1,
   "metadata": {},
   "outputs": [],
   "source": [
    "import chromadb\n",
    "from chromadb.utils import embedding_functions\n",
    "from chromadb.config import Settings\n",
    "import json\n",
    "import os"
   ]
  },
  {
   "cell_type": "code",
   "execution_count": 2,
   "metadata": {},
   "outputs": [],
   "source": [
    "# Load the OpenAI API key from a file into an environment variable called OPENAI_API_KEY\n",
    "%run .load_openai_api_key.py\n",
    "\n",
    "# Get the API key from the environment\n",
    "OPENAI_API_KEY = os.environ.get('OPENAI_API_KEY')\n",
    "\n",
    "# Set a name of the future collection\n",
    "COLLECTION_NAME = \"dataflow-meta-information-embeddings\""
   ]
  },
  {
   "cell_type": "code",
   "execution_count": 3,
   "metadata": {},
   "outputs": [],
   "source": [
    "client = chromadb.PersistentClient(settings=Settings(anonymized_telemetry=False), path='.chroma.db')\n",
    "\n",
    "embedding_function = embedding_functions.OpenAIEmbeddingFunction(\n",
    "\tmodel_name='text-embedding-3-small',\n",
    "\tapi_key=OPENAI_API_KEY\n",
    ")"
   ]
  },
  {
   "cell_type": "code",
   "execution_count": 4,
   "metadata": {},
   "outputs": [
    {
     "name": "stdout",
     "output_type": "stream",
     "text": [
      "Collection dataflow-meta-information-embeddings created successfully\n"
     ]
    }
   ],
   "source": [
    "collection = client.get_or_create_collection(name=COLLECTION_NAME, embedding_function=embedding_function)\n",
    "if collection:\n",
    "    print(f\"Collection {COLLECTION_NAME} created successfully\")"
   ]
  },
  {
   "cell_type": "code",
   "execution_count": 5,
   "metadata": {},
   "outputs": [],
   "source": [
    "import json\n",
    "# Load the data from the file\n",
    "with open('flat_info_for_embedding.json') as f:\n",
    "    flat_info_for_embedding = json.load(f)"
   ]
  },
  {
   "cell_type": "code",
   "execution_count": 15,
   "metadata": {},
   "outputs": [],
   "source": [
    "from uuid import uuid4 as uuid\n",
    "ids = list()\n",
    "documents = list()\n",
    "metadatas = list()\n",
    "\n",
    "for question, answer in flat_info_for_embedding:\n",
    "    ids.append(str(uuid()))\n",
    "    documents.append(str(question))\n",
    "    metadatas.append({\"answer\": answer})"
   ]
  },
  {
   "cell_type": "code",
   "execution_count": 16,
   "metadata": {},
   "outputs": [
    {
     "name": "stdout",
     "output_type": "stream",
     "text": [
      "Collection(id=98f5d05b-d9ab-4d0f-a2ad-1105bc0f6e60, name=dataflow-meta-information-embeddings)\n"
     ]
    }
   ],
   "source": [
    "# clear the collection if it already exists\n",
    "try:\n",
    "\tclient.get_collection(name=COLLECTION_NAME, embedding_function=embedding_function)\n",
    "\tclient.delete_collection(COLLECTION_NAME)\n",
    "except ValueError:\n",
    "\tpass\n",
    "collection = client.create_collection(name=COLLECTION_NAME, embedding_function=embedding_function)\n",
    "print(collection)"
   ]
  },
  {
   "cell_type": "code",
   "execution_count": 17,
   "metadata": {},
   "outputs": [],
   "source": [
    "# Insert the data into the collection\n",
    "to_vectorize = {'ids': ids, 'documents': documents, 'metadatas': metadatas}\n",
    "collection.add(**to_vectorize)"
   ]
  },
  {
   "cell_type": "code",
   "execution_count": 28,
   "metadata": {},
   "outputs": [
    {
     "name": "stdout",
     "output_type": "stream",
     "text": [
      "The most similar questions to 'What is EXP_DESTINATION?' is: \n",
      "\t['EXP_DESTINATION']\n",
      "The answer to the question is: \n",
      "\tThe name that corresponds to the dimension code: 'EXP_DESTINATION' is Destination of expenditure.\n"
     ]
    }
   ],
   "source": [
    "query_text = 'What is EXP_DESTINATION?'\n",
    "result_sets = collection.query(query_texts=[query_text], n_results=1)\n",
    "print(f\"The most similar questions to '{query_text}' is: \\n\\t{result_sets['documents'][0]}\")\n",
    "print(f\"The answer to the question is: \\n\\t{result_sets['metadatas'][0][0]['answer']}\")"
   ]
  },
  {
   "cell_type": "code",
   "execution_count": 29,
   "metadata": {},
   "outputs": [
    {
     "name": "stdout",
     "output_type": "stream",
     "text": [
      "The most similar questions to 'What is the code for the destination of the expression?' is: \n",
      "\t[\"What name that corresponds to the dimension code: 'EXP_DESTINATION'?\"]\n",
      "The answer to the question is: \n",
      "\tThe name that corresponds to the dimension code: 'EXP_DESTINATION' is Destination of expenditure.\n"
     ]
    }
   ],
   "source": [
    "query_text = 'What is the code for the destination of the expression?'\n",
    "result_sets = collection.query(query_texts=[query_text], n_results=1)\n",
    "print(f\"The most similar questions to '{query_text}' is: \\n\\t{result_sets['documents'][0]}\")\n",
    "print(f\"The answer to the question is: \\n\\t{result_sets['metadatas'][0][0]['answer']}\")"
   ]
  },
  {
   "cell_type": "code",
   "execution_count": 30,
   "metadata": {},
   "outputs": [
    {
     "name": "stdout",
     "output_type": "stream",
     "text": [
      "The most similar questions to 'What is the code for the lower secondary education?' is: \n",
      "\t[\"What is the code for 'Lower secondary education' within the code list ID 'EDUCATION_LEV'?\"]\n",
      "The answer to the question is: \n",
      "\tThe English name of the code 'ISCED11_2' within the code list ID 'EDUCATION_LEV' is 'Lower secondary education'.\n"
     ]
    }
   ],
   "source": [
    "query_text = 'What is the code for the lower secondary education?'\n",
    "result_sets = collection.query(query_texts=[query_text], n_results=1)\n",
    "print(f\"The most similar questions to '{query_text}' is: \\n\\t{result_sets['documents'][0]}\")\n",
    "print(f\"The answer to the question is: \\n\\t{result_sets['metadatas'][0][0]['answer']}\")"
   ]
  }
 ],
 "metadata": {
  "kernelspec": {
   "display_name": ".venv",
   "language": "python",
   "name": "python3"
  },
  "language_info": {
   "codemirror_mode": {
    "name": "ipython",
    "version": 3
   },
   "file_extension": ".py",
   "mimetype": "text/x-python",
   "name": "python",
   "nbconvert_exporter": "python",
   "pygments_lexer": "ipython3",
   "version": "3.11.6"
  }
 },
 "nbformat": 4,
 "nbformat_minor": 2
}
