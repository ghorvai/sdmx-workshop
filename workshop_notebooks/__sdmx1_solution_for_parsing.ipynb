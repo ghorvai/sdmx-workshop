{
 "cells": [
  {
   "cell_type": "code",
   "execution_count": null,
   "metadata": {},
   "outputs": [],
   "source": [
    "# for attr in dir(dsd):\n",
    "#     content = getattr(dsd, attr)\n",
    "#     if not content:\n",
    "#         continue\n",
    "#     if not callable(content):\n",
    "#         print(attr, content)"
   ]
  },
  {
   "cell_type": "markdown",
   "metadata": {},
   "source": [
    "0. list all NGOs and all \"domains\" or \"maintainers\" or whatever the groups are called...\n",
    "1. List of available (edu-fin) dataflows would be nice.\n",
    "2. get \n",
    "    - name [done]\n",
    "    - description [done]\n",
    "    - dimensions\n",
    "    - codes\n",
    "    - maybe else as well 🤷‍♂️"
   ]
  },
  {
   "cell_type": "code",
   "execution_count": 1,
   "metadata": {},
   "outputs": [],
   "source": [
    "import sdmx"
   ]
  },
  {
   "cell_type": "code",
   "execution_count": null,
   "metadata": {},
   "outputs": [],
   "source": [
    "# Retrieve SDMX data or metadata with resource_type='contentconstraint'\n",
    "# print(root.contentconstraint.__doc__) # <= this is a long ass docstring "
   ]
  },
  {
   "cell_type": "code",
   "execution_count": 77,
   "metadata": {},
   "outputs": [
    {
     "name": "stdout",
     "output_type": "stream",
     "text": [
      "The first 20 NGOs (from a total of 29 are: \n",
      "['ABS', 'ABS_JSON', 'BBK', 'BIS', 'COMP', 'ECB', 'EMPL', 'ESTAT', 'ESTAT3', 'ESTAT_COMEXT', 'GROW', 'ILO', 'IMF', 'INEGI', 'INSEE', 'ISTAT', 'LSD', 'NB', 'NBB', 'OECD']\n"
     ]
    }
   ],
   "source": [
    "list_of_ngos = sdmx.list_sources()\n",
    "print(f\"The first 20 NGOs (from a total of {len(list_of_ngos)} are: \")\n",
    "print(list_of_ngos[:20])"
   ]
  },
  {
   "cell_type": "code",
   "execution_count": null,
   "metadata": {},
   "outputs": [],
   "source": [
    "# loading the client for OECD\n",
    "root = sdmx.Client(\"OECD\")"
   ]
  },
  {
   "cell_type": "markdown",
   "metadata": {},
   "source": [
    "### list agencies within the organization"
   ]
  },
  {
   "cell_type": "code",
   "execution_count": null,
   "metadata": {},
   "outputs": [],
   "source": [
    "agencyscheme = root.get(\"agencyscheme\")"
   ]
  },
  {
   "cell_type": "code",
   "execution_count": 144,
   "metadata": {},
   "outputs": [
    {
     "name": "stdout",
     "output_type": "stream",
     "text": [
      "CFE     : Centre for Entrepreneurship, SMEs, Regions and Cities\n",
      "CTP     : Centre for Tax Policy and Administration\n",
      "DAF     : Directorate for Financial and Enterprise Affairs\n",
      "DCD     : Development Co-operation Directorate\n",
      "DEV     : Development Centre\n",
      "ECO     : Economics Department\n",
      "EDU     : Directorate for Education and Skills\n",
      "ELS     : Directorate for Employment, Labour and Social Affairs\n",
      "ENV     : Environment Directorate\n",
      "EXD     : Executive Directorate\n",
      "FATF    : Financial Action Task Force\n",
      "GOV     : Public Governance\n",
      "IEA     : International Energy Agency\n",
      "ITF     : International Transport Forum\n",
      "NEA     : OECD Nuclear Energy Agency\n",
      "PAC     : Public Affairs and Communications Directorate\n",
      "SDD     : Statistics and Data Directorate\n",
      "SGE     : General Secretariat\n",
      "SKC     : Centre for Skills\n",
      "STI     : Directorate for Science, Technology and Innovation\n",
      "SWAC    : Sahel and West Africa Club\n",
      "TAD     : Trade and Agriculture Directorate\n",
      "WISE    : Centre for Well-Being, Inclusion, Sustainability and Equal Opportunity\n",
      "OECD    : \n"
     ]
    }
   ],
   "source": [
    "# the list of all agencies within oecd:\n",
    "for agency_code in agencyscheme.organisation_scheme['OECD:AGENCIES'].items:\n",
    "    print(f\"{agency_code:7} : {agencyscheme.organisation_scheme['OECD:AGENCIES'].items[agency_code].name}\")"
   ]
  },
  {
   "cell_type": "code",
   "execution_count": 115,
   "metadata": {},
   "outputs": [
    {
     "name": "stdout",
     "output_type": "stream",
     "text": [
      "Resource.actualconstraint\n",
      "Resource.agencyscheme\n",
      "Resource.allowedconstraint\n",
      "Resource.categorisation\n",
      "Resource.categoryscheme\n",
      "Resource.codelist\n",
      "Resource.conceptscheme\n",
      "Resource.contentconstraint\n",
      "Resource.data\n",
      "Resource.dataflow\n",
      "Resource.datastructure\n",
      "Resource.hierarchicalcodelist\n",
      "Resource.metadata\n",
      "Resource.metadatastructure\n",
      "Resource.registration\n",
      "preview\n",
      "structure-specific data\n",
      "\n",
      "the only promblem is that i don't know how to call these methods...\n"
     ]
    },
    {
     "data": {
      "text/plain": [
       "<sdmx.StructureMessage>\n",
       "  <Header>\n",
       "    id: 'IDREF31249'\n",
       "    prepared: '2024-10-07T15:28:30.418079+02:00'\n",
       "    receiver: <Agency Unknown>\n",
       "    sender: <Agency Unknown>\n",
       "    source: \n",
       "    test: False\n",
       "  response: <Response [200]>\n",
       "  AgencyScheme (24): OECD:AGENCIES OECD.CFE:AGENCIES OECD.CTP:AGENCIES ..."
      ]
     },
     "execution_count": 115,
     "metadata": {},
     "output_type": "execute_result"
    }
   ],
   "source": [
    "# these might be the available supports for the given client\n",
    "for support_name in root.source.supports:\n",
    "    if root.source.supports[support_name]:\n",
    "        print(support_name)\n",
    "print(\"\\nthe only promblem is that i don't know how to call these methods...\")\n",
    "root.get(\"agencyscheme\")"
   ]
  },
  {
   "cell_type": "markdown",
   "metadata": {},
   "source": [
    "### dimensions with names (aka. concept schemes)\n",
    "<font color=red>root.get(\"conceptscheme\") takes time to load ~ 1,5 min\n"
   ]
  },
  {
   "cell_type": "code",
   "execution_count": 263,
   "metadata": {},
   "outputs": [],
   "source": [
    "# contentconstraint = root.get(\"contentconstraint\") "
   ]
  },
  {
   "cell_type": "code",
   "execution_count": 158,
   "metadata": {},
   "outputs": [],
   "source": [
    "# 1m27s\n",
    "# what's important from here: urn and id ??? dunno\n",
    "conceptscheme = root.get(\"conceptscheme\") \n",
    "for k, v in conceptscheme.codelist.items():\n",
    "    if 'EDU' in k:\n",
    "        print(f\"{k:38} : {v.id:25}, {v.urn:85}, {v.maintainer}\")"
   ]
  },
  {
   "cell_type": "markdown",
   "metadata": {},
   "source": [
    "### list of constrained code lists (cube reginons or whatever)"
   ]
  },
  {
   "cell_type": "code",
   "execution_count": 306,
   "metadata": {},
   "outputs": [
    {
     "name": "stdout",
     "output_type": "stream",
     "text": [
      "REF_AREA 51\n",
      "MEASURE 1\n",
      "EDUCATION_LEV 22\n",
      "EXP_SOURCE 6\n",
      "EXP_DESTINATION 5\n",
      "EXPENDITURE_TYPE 5\n",
      "PRICE_BASE 3\n",
      "UNIT_MEASURE 3\n",
      "Q_SHEET 1\n",
      "TIME_PERIOD 1\n"
     ]
    }
   ],
   "source": [
    "df = sdmx.Client(\"OECD\").dataflow(id)\n",
    "cc = df.constraint['CR_A_DSD_EAG_UOE_FIN@DF_UOE_INDIC_FIN_PERSTUD']\n",
    "for k, v in cc.data_content_region[0].member.items():\n",
    "    print(k.id, len(v.values))"
   ]
  },
  {
   "cell_type": "code",
   "execution_count": 229,
   "metadata": {},
   "outputs": [
    {
     "name": "stdout",
     "output_type": "stream",
     "text": [
      "OECD.EDU.IMEP:CS_EDUC_LSO CS_EDUC_LSO\n",
      "OECD.EDU.IMEP:CS_EDUC_UOE CS_EDUC_UOE\n",
      "OECD.EDU.IMEP:CS_EDU_FIN CS_EDU_FIN\n",
      "OECD.EDU.IMEP:CS_NESLI CS_NESLI\n"
     ]
    }
   ],
   "source": [
    "for k, v in conceptscheme.concept_scheme.items():\n",
    "    if 'EDU' in k:\n",
    "        print(k, v)"
   ]
  },
  {
   "cell_type": "code",
   "execution_count": 248,
   "metadata": {},
   "outputs": [
    {
     "data": {
      "text/plain": [
       "{'EDUCATION_TYPE': <Concept EDUCATION_TYPE: Education type>,\n",
       " 'EDUCATION_LEV': <Concept EDUCATION_LEV: Education level>,\n",
       " 'INTENSITY': <Concept INTENSITY: Intensity>,\n",
       " 'EDUCATION_FIELD': <Concept EDUCATION_FIELD: Field of education>,\n",
       " 'MEASURE': <Concept MEASURE: Measure>,\n",
       " 'GRADE': <Concept GRADE: Grade>,\n",
       " 'FREQ': <Concept FREQ: Frequency of observation>,\n",
       " 'REF_AREA': <Concept REF_AREA: Reference area>,\n",
       " 'ORIGIN': <Concept ORIGIN: Origin>,\n",
       " 'DESTINATION': <Concept DESTINATION: Destination>,\n",
       " 'INST_TYPE_EDU': <Concept INST_TYPE_EDU: Type of educational institution>,\n",
       " 'MOBILITY': <Concept MOBILITY: Mobility>,\n",
       " 'UNIT_MEASURE': <Concept UNIT_MEASURE: Unit of measure>,\n",
       " 'SEX': <Concept SEX: Sex>,\n",
       " 'AGE': <Concept AGE: Age>,\n",
       " 'TIME_PERIOD': <Concept TIME_PERIOD: Time period>,\n",
       " 'OBS_VALUE': <Concept OBS_VALUE: Observation value>,\n",
       " 'REF_YEAR_AGES': <Concept REF_YEAR_AGES: Reference date for ages>,\n",
       " 'ORIGIN_CRITERION': <Concept ORIGIN_CRITERION: Origin criterion>,\n",
       " 'REPYEARSTART': <Concept REPYEARSTART: Reference year start>,\n",
       " 'REPYEAREND': <Concept REPYEAREND: Reference year end>,\n",
       " 'OBS_STATUS': <Concept OBS_STATUS: Observation status>,\n",
       " 'CONF_STATUS': <Concept CONF_STATUS: Confidentiality status>,\n",
       " 'COMMENT_OBS': <Concept COMMENT_OBS: Observation comment>,\n",
       " 'DECIMALS': <Concept DECIMALS: Decimals>,\n",
       " 'TIME_PER_COLLECT': <Concept TIME_PER_COLLECT: Time period collection>,\n",
       " 'UNIT_MULT': <Concept UNIT_MULT: Unit multiplier>}"
      ]
     },
     "execution_count": 248,
     "metadata": {},
     "output_type": "execute_result"
    }
   ],
   "source": [
    "\n",
    "v =[v for k, v in conceptscheme.concept_scheme.items() if k == \"OECD.EDU.IMEP:CS_EDUC_UOE\"][0]\n",
    "v.items"
   ]
  },
  {
   "cell_type": "code",
   "execution_count": 252,
   "metadata": {},
   "outputs": [],
   "source": [
    "w = v.items['EDUCATION_LEV']\n",
    "w.description\n",
    "w.core_representation"
   ]
  },
  {
   "cell_type": "code",
   "execution_count": 253,
   "metadata": {},
   "outputs": [
    {
     "name": "stdout",
     "output_type": "stream",
     "text": [
      "__annotations__ {'core_representation': typing.Optional[sdmx.model.common.Representation], 'iso_concept': typing.Optional[sdmx.model.common.ISOConceptReference]}\n",
      "__dataclass_fields__ {'annotations': Field(name='annotations',type=typing.List[sdmx.model.common.Annotation],default=<dataclasses._MISSING_TYPE object at 0x106576110>,default_factory=<class 'list'>,init=True,repr=True,hash=None,compare=True,metadata=mappingproxy({}),kw_only=False,_field_type=_FIELD), 'id': Field(name='id',type=<class 'str'>,default='',default_factory=<dataclasses._MISSING_TYPE object at 0x106576110>,init=True,repr=True,hash=None,compare=True,metadata=mappingproxy({}),kw_only=False,_field_type=_FIELD), 'uri': Field(name='uri',type=typing.Optional[str],default=None,default_factory=<dataclasses._MISSING_TYPE object at 0x106576110>,init=True,repr=True,hash=None,compare=True,metadata=mappingproxy({}),kw_only=False,_field_type=_FIELD), 'urn': Field(name='urn',type=typing.Optional[str],default=None,default_factory=<dataclasses._MISSING_TYPE object at 0x106576110>,init=True,repr=True,hash=None,compare=True,metadata=mappingproxy({}),kw_only=False,_field_type=_FIELD), 'urn_group': Field(name='urn_group',type=typing.Dict,default=<dataclasses._MISSING_TYPE object at 0x106576110>,default_factory=<class 'dict'>,init=True,repr=False,hash=None,compare=True,metadata=mappingproxy({}),kw_only=False,_field_type=_FIELD), 'name': Field(name='name',type=<class 'sdmx.model.internationalstring.InternationalStringDescriptor'>,default=None,default_factory=<dataclasses._MISSING_TYPE object at 0x106576110>,init=True,repr=True,hash=None,compare=True,metadata=mappingproxy({}),kw_only=False,_field_type=_FIELD), 'description': Field(name='description',type=<class 'sdmx.model.internationalstring.InternationalStringDescriptor'>,default=None,default_factory=<dataclasses._MISSING_TYPE object at 0x106576110>,init=True,repr=True,hash=None,compare=True,metadata=mappingproxy({}),kw_only=False,_field_type=_FIELD), 'parent': Field(name='parent',type=typing.Union[~IT, ForwardRef('ItemScheme'), NoneType],default=None,default_factory=<dataclasses._MISSING_TYPE object at 0x106576110>,init=True,repr=True,hash=None,compare=True,metadata=mappingproxy({}),kw_only=False,_field_type=_FIELD), 'child': Field(name='child',type=typing.List[~IT],default=<dataclasses._MISSING_TYPE object at 0x106576110>,default_factory=<class 'list'>,init=True,repr=True,hash=None,compare=True,metadata=mappingproxy({}),kw_only=False,_field_type=_FIELD)}\n",
      "__dataclass_params__ _DataclassParams(init=True,repr=True,eq=True,order=False,unsafe_hash=False,frozen=False)\n",
      "__dict__ {'annotations': [], 'id': 'EDUCATION_LEV', 'uri': None, 'urn': None, 'urn_group': {}, '_name': en: Education level\n",
      "fr: Niveau d'éducation, '_description': en: An ordered set which groups and classifies education programmes according to the knowledge, skills, competencies and qualifications which they are designed to impart, 'parent': <ConceptScheme OECD.EDU.IMEP:CS_EDUC_UOE(1.0) (27 items): EDUC_UOE Concept Scheme>, 'child': [], 'contact': [], 'core_representation': <Representation: CL_EDUCATION_LEV_ISCED11, []>}\n",
      "__match_args__ ('annotations', 'id', 'uri', 'urn', 'urn_group', 'name', 'description', 'parent', 'child')\n",
      "__module__ sdmx.model.common\n",
      "__orig_bases__ (sdmx.model.common.Item[ForwardRef('Concept')],)\n",
      "_description An ordered set which groups and classifies education programmes according to the knowledge, skills, competencies and qualifications which they are designed to impart\n",
      "_name Education level\n",
      "core_representation <Representation: CL_EDUCATION_LEV_ISCED11, []>\n",
      "description An ordered set which groups and classifies education programmes according to the knowledge, skills, competencies and qualifications which they are designed to impart\n",
      "hierarchical_id EDUCATION_LEV\n",
      "id EDUCATION_LEV\n",
      "name Education level\n",
      "parent CS_EDUC_UOE\n"
     ]
    }
   ],
   "source": [
    "for attr in dir(w):\n",
    "    content = getattr(w, attr)\n",
    "    if not content:\n",
    "        continue\n",
    "    if not callable(content):\n",
    "        print(attr, content)"
   ]
  },
  {
   "cell_type": "code",
   "execution_count": 196,
   "metadata": {},
   "outputs": [
    {
     "name": "stdout",
     "output_type": "stream",
     "text": [
      "CL_DOMAIN OECD.WISE.WDP urn:sdmx:org.sdmx.infomodel.codelist.Codelist=OECD.WISE.WDP:CL_DOMAIN(1.0) 1.0\n"
     ]
    }
   ],
   "source": []
  },
  {
   "cell_type": "code",
   "execution_count": 1,
   "metadata": {},
   "outputs": [
    {
     "data": {
      "text/plain": [
       "<function id(obj, /)>"
      ]
     },
     "execution_count": 1,
     "metadata": {},
     "output_type": "execute_result"
    }
   ],
   "source": [
    "id"
   ]
  },
  {
   "cell_type": "code",
   "execution_count": null,
   "metadata": {},
   "outputs": [],
   "source": []
  },
  {
   "cell_type": "code",
   "execution_count": 174,
   "metadata": {},
   "outputs": [
    {
     "data": {
      "text/plain": [
       "{'ESTAT:CS_SEEA': <ConceptScheme ESTAT:CS_SEEA(1.3) (38 items): List of concepts for SEEA DSDs>,\n",
       " 'ESTAT:COMPONENT_ROLES': <ConceptScheme ESTAT:COMPONENT_ROLES(1.0) (8 items): COMPONENT_ROLES>,\n",
       " 'OECD:COMPONENT_ROLES': <ConceptScheme OECD:COMPONENT_ROLES(1.0) (8 items): COMPONENT_ROLES>,\n",
       " 'OECD:CS_REF_METADATA': <ConceptScheme OECD:CS_REF_METADATA(1.0) (17 items): OECD Reference Metadata Concept Scheme>,\n",
       " 'OECD.CFE.EDS:CS_FUA_CITY': <ConceptScheme OECD.CFE.EDS:CS_FUA_CITY(1.0) (19 items): Cities and FUAs Concept Scheme>,\n",
       " 'OECD.CFE.EDS:CS_REGIONAL': <ConceptScheme OECD.CFE.EDS:CS_REGIONAL(1.1) (29 items): Concept Scheme for regional statistics>,\n",
       " 'OECD.CFE.RDG:DASHBOARD_CONCEPT': <ConceptScheme OECD.CFE.RDG:DASHBOARD_CONCEPT(1.0) (13 items): Concept for dashboard>,\n",
       " 'OECD.CFE.RDG:SNCSF_Concepts': <ConceptScheme OECD.CFE.RDG:SNCSF_Concepts(1.0) (12 items): Subnational climate finance concepts>,\n",
       " 'OECD.CFE.RDG:SNGF_Concepts': <ConceptScheme OECD.CFE.RDG:SNGF_Concepts(1.0) (11 items): Concepts for SNGF>,\n",
       " 'OECD.CFE.RDG:SUBEMP_CONCEPTS_NEW': <ConceptScheme OECD.CFE.RDG:SUBEMP_CONCEPTS_NEW(1.0) (17 items): New concepts for SUBEMP>,\n",
       " 'OECD.CFE.TOU:CS_TOURISM': <ConceptScheme OECD.CFE.TOU:CS_TOURISM(1.0) (17 items): Concept scheme for tourism>,\n",
       " 'OECD.CTP.TPS:CS_CONCEPTS_CBCR_CTS': <ConceptScheme OECD.CTP.TPS:CS_CONCEPTS_CBCR_CTS(1.0) (12 items): CbCR Concepts>,\n",
       " 'OECD.CTP.TPS:CS_CONCEPTS_ETR_CTS': <ConceptScheme OECD.CTP.TPS:CS_CONCEPTS_ETR_CTS(1.1) (12 items): ETR Concepts>,\n",
       " 'OECD.CTP.TPS:CS_CONCEPTS_QDD_CBCREQ_CTS': <ConceptScheme OECD.CTP.TPS:CS_CONCEPTS_QDD_CBCREQ_CTS(1.0) (3 items): CBCREQ Concepts>,\n",
       " 'OECD.CTP.TPS:CS_CONCEPTS_QDD_CFC_CTS': <ConceptScheme OECD.CTP.TPS:CS_CONCEPTS_QDD_CFC_CTS(1.0) (6 items): Action 3 CFC Rules Concepts>,\n",
       " 'OECD.CTP.TPS:CS_CONCEPTS_QDD_ILR_CTS': <ConceptScheme OECD.CTP.TPS:CS_CONCEPTS_QDD_ILR_CTS(1.0) (6 items): Action 4 ILR Concepts>,\n",
       " 'OECD.CTP.TPS:CS_CONCEPTS_QDD_IPR_CTS': <ConceptScheme OECD.CTP.TPS:CS_CONCEPTS_QDD_IPR_CTS(1.0) (6 items): IP Regimes Concepts>,\n",
       " 'OECD.CTP.TPS:CS_CONCEPTS_WHT_CTS': <ConceptScheme OECD.CTP.TPS:CS_CONCEPTS_WHT_CTS(1.0) (10 items): WHT Concepts>,\n",
       " 'OECD.CTP.TPS:CS_ECRS_TAXENV': <ConceptScheme OECD.CTP.TPS:CS_ECRS_TAXENV(1.0) (17 items): Net effective carbon rates concepts>,\n",
       " 'OECD.CTP.TPS:CS_REV': <ConceptScheme OECD.CTP.TPS:CS_REV(1.0) (14 items): Revenue concept scheme>,\n",
       " 'OECD.CTP.TPS:CS_TAX_CIT': <ConceptScheme OECD.CTP.TPS:CS_TAX_CIT(1.0) (13 items): Corporate income tax concept scheme>,\n",
       " 'OECD.CTP.TPS:CS_TAX_PIT_SSC': <ConceptScheme OECD.CTP.TPS:CS_TAX_PIT_SSC(1.0) (18 items): Concept scheme for PIT/CCS tables>,\n",
       " 'OECD.CTP.TPS:CS_TAX_WAGES': <ConceptScheme OECD.CTP.TPS:CS_TAX_WAGES(1.0) (13 items): Test Concept Scheme>,\n",
       " 'OECD.DAF:CS_DEBT_TRANS': <ConceptScheme OECD.DAF:CS_DEBT_TRANS(1.0) (37 items): Debt Transparency Dissemination>,\n",
       " 'OECD.DAF.COMP:CEC_QDD_CONCEPTS': <ConceptScheme OECD.DAF.COMP:CEC_QDD_CONCEPTS(1.0) (4 items): Competition Enforcement Co-operation concept scheme>,\n",
       " 'OECD.DAF.INV:CS_FDI': <ConceptScheme OECD.DAF.INV:CS_FDI(1.0) (22 items): FDI Concept Scheme>,\n",
       " 'OECD.DAF.INV:CS_FDIRRI': <ConceptScheme OECD.DAF.INV:CS_FDIRRI(1.0) (21 items): FDIRRI Indices>,\n",
       " 'OECD.DAF.INV:CS_QDD_FDI': <ConceptScheme OECD.DAF.INV:CS_QDD_FDI(1.0) (5 items): FDI QDD Concept Scheme>,\n",
       " 'OECD.DCD.FSD:CS_CRS': <ConceptScheme OECD.DCD.FSD:CS_CRS(1.0) (51 items): CRS Concept Scheme>,\n",
       " 'OECD.DCD.FSD:CS_DAC1': <ConceptScheme OECD.DCD.FSD:CS_DAC1(1.3) (13 items): DCD DAC Provider concept scheme>,\n",
       " 'OECD.DCD.FSD:CS_DAC2': <ConceptScheme OECD.DCD.FSD:CS_DAC2(1.2) (11 items): DCD DAC Provider-Recipient concept scheme>,\n",
       " 'OECD.DCD.FSD:CS_MOB': <ConceptScheme OECD.DCD.FSD:CS_MOB(1.0) (12 items): Mobilisation Concept Scheme>,\n",
       " 'OECD.DEV.LAC:CS_KIIBIH': <ConceptScheme OECD.DEV.LAC:CS_KIIBIH(1.0) (19 items): Concept scheme for key indicators of informality datasets>,\n",
       " 'OECD.DEV.NPG:CS_GID': <ConceptScheme OECD.DEV.NPG:CS_GID(1.0) (14 items): GID concepts>,\n",
       " 'OECD.DEV.NPG:CS_SIGI': <ConceptScheme OECD.DEV.NPG:CS_SIGI(1.0) (6 items): SIGI concepts>,\n",
       " 'OECD.DEV.NPG:CS_T2SEV4': <ConceptScheme OECD.DEV.NPG:CS_T2SEV4(1.0) (6 items): DEV NPG internal databse T2SEV4 Concepts>,\n",
       " 'OECD.DEV.NPG:CS_TIG8YUX': <ConceptScheme OECD.DEV.NPG:CS_TIG8YUX(1.0) (6 items): DEV NPG internal TIG8YUX Concepts>,\n",
       " 'OECD.ECO.MAD:CS_CPU': <ConceptScheme OECD.ECO.MAD:CS_CPU(1.0) (8 items): Climate Policy Uncertainty>,\n",
       " 'OECD.ECO.MAD:CS_EO': <ConceptScheme OECD.ECO.MAD:CS_EO(1.0) (14 items): Economic Outlook Concept Scheme>,\n",
       " 'OECD.ECO.MAD:CS_EPS': <ConceptScheme OECD.ECO.MAD:CS_EPS(1.0) (9 items): Environmental Policy Stringency>,\n",
       " 'OECD.ECO.MPD:CS_ANA_HOUSE_PRI': <ConceptScheme OECD.ECO.MPD:CS_ANA_HOUSE_PRI(1.0) (11 items): Concept scheme for analytical house prices indicators>,\n",
       " 'OECD.EDU.IMEP:CS_EDUC_LSO': <ConceptScheme OECD.EDU.IMEP:CS_EDUC_LSO(1.0) (23 items): EDUC_LSO Concept Scheme>,\n",
       " 'OECD.EDU.IMEP:CS_EDUC_UOE': <ConceptScheme OECD.EDU.IMEP:CS_EDUC_UOE(1.0) (27 items): EDUC_UOE Concept Scheme>,\n",
       " 'OECD.EDU.IMEP:CS_EDU_FIN': <ConceptScheme OECD.EDU.IMEP:CS_EDU_FIN(3.0) (18 items): Concept scheme of education finance data>,\n",
       " 'OECD.EDU.IMEP:CS_NESLI': <ConceptScheme OECD.EDU.IMEP:CS_NESLI(2.0) (22 items): NESLI concept scheme>,\n",
       " 'OECD.ELS.HD:CS_HCQO': <ConceptScheme OECD.ELS.HD:CS_HCQO(1.0) (17 items): HCQO concept scheme>,\n",
       " 'OECD.ELS.HD:CS_HEALTH_LVNG': <ConceptScheme OECD.ELS.HD:CS_HEALTH_LVNG(1.0) (12 items): Concept Scheme for lvng>,\n",
       " 'OECD.ELS.HD:CS_HEALTH_MORTALITY': <ConceptScheme OECD.ELS.HD:CS_HEALTH_MORTALITY(1.0) (10 items): Concept Scheme for mortality>,\n",
       " 'OECD.ELS.HD:CS_HEALTH_PHMC': <ConceptScheme OECD.ELS.HD:CS_HEALTH_PHMC(1.0) (12 items): Concept Scheme for health PHMC>,\n",
       " 'OECD.ELS.HD:CS_HEALTH_PROC': <ConceptScheme OECD.ELS.HD:CS_HEALTH_PROC(1.1) (25 items): Concept Scheme for health>,\n",
       " 'OECD.ELS.HD:CS_HEALTH_PROT': <ConceptScheme OECD.ELS.HD:CS_HEALTH_PROT(1.0) (10 items): Concept Scheme for social protection>,\n",
       " 'OECD.ELS.HD:CS_HEALTH_REAC': <ConceptScheme OECD.ELS.HD:CS_HEALTH_REAC(1.0) (23 items): Concept Scheme for health reac>,\n",
       " 'OECD.ELS.HD:CS_HEALTH_SHA': <ConceptScheme OECD.ELS.HD:CS_HEALTH_SHA(1.0) (21 items): Concept Scheme for health>,\n",
       " 'OECD.ELS.HD:CS_HEALTH_STAT': <ConceptScheme OECD.ELS.HD:CS_HEALTH_STAT(1.0) (20 items): Concept Scheme for health status>,\n",
       " 'OECD.ELS.HD:CS_HSCS': <ConceptScheme OECD.ELS.HD:CS_HSCS(1.0) (4 items): Health System Characteristics Survey 2012, 2016 and 2018(LAC) Rounds>,\n",
       " 'OECD.ELS.HD:CS_HSCS2023': <ConceptScheme OECD.ELS.HD:CS_HSCS2023(1.0) (5 items): Health System Characteristics Survey - 2023 Round>,\n",
       " 'OECD.ELS.IMD:CS_MIG': <ConceptScheme OECD.ELS.IMD:CS_MIG(1.0) (15 items): Concept scheme for migration statistics>,\n",
       " 'OECD.ELS.JAI:CS_EPL': <ConceptScheme OECD.ELS.JAI:CS_EPL(1.0) (11 items): Concept Scheme for EPL>,\n",
       " 'OECD.ELS.JAI:CS_LMP': <ConceptScheme OECD.ELS.JAI:CS_LMP(1.0) (10 items): Concept scheme for labour market programmes>,\n",
       " 'OECD.ELS.JAI:CS_TAXBEN': <ConceptScheme OECD.ELS.JAI:CS_TAXBEN(1.0) (26 items): Concept scheme for tax benefits>,\n",
       " 'OECD.ELS.SAE:CS_DUR': <ConceptScheme OECD.ELS.SAE:CS_DUR(1.0) (12 items): Unemployment duration concepts>,\n",
       " 'OECD.ELS.SAE:CS_EARNINGS': <ConceptScheme OECD.ELS.SAE:CS_EARNINGS(1.0) (13 items): Earnings concepts>,\n",
       " 'OECD.ELS.SAE:CS_FTPT': <ConceptScheme OECD.ELS.SAE:CS_FTPT(1.0) (16 items): Full-time part-time employment concepts>,\n",
       " 'OECD.ELS.SAE:CS_HW': <ConceptScheme OECD.ELS.SAE:CS_HW(1.0) (18 items): Concept scheme for hours worked>,\n",
       " 'OECD.ELS.SAE:CS_INV_PT_EMP': <ConceptScheme OECD.ELS.SAE:CS_INV_PT_EMP(1.1) (12 items): Labour force statistics concepts>,\n",
       " 'OECD.ELS.SAE:CS_POPULATION': <ConceptScheme OECD.ELS.SAE:CS_POPULATION(1.0) (11 items): Population Concept Scheme>,\n",
       " 'OECD.ELS.SAE:CS_TEMP': <ConceptScheme OECD.ELS.SAE:CS_TEMP(1.0) (12 items): Permanent temporary employment concepts>,\n",
       " 'OECD.ELS.SAE:CS_TENURE': <ConceptScheme OECD.ELS.SAE:CS_TENURE(1.0) (12 items): Job tenure concepts>,\n",
       " 'OECD.ELS.SAE:CS_TUD_CBC': <ConceptScheme OECD.ELS.SAE:CS_TUD_CBC(1.0) (8 items): Trade unions and collective bargaining Concept Scheme>,\n",
       " 'OECD.ELS.SPD:CS_HEALTH_SOCX_AGG': <ConceptScheme OECD.ELS.SPD:CS_HEALTH_SOCX_AGG(1.0) (15 items): Concept Scheme for social expenditure aggregates>,\n",
       " 'OECD.ELS.SPD:CS_PAG': <ConceptScheme OECD.ELS.SPD:CS_PAG(1.0) (13 items): Concept Scheme for pensions at a glance>,\n",
       " 'OECD.ENV.EEI:CS_GPO': <ConceptScheme OECD.ENV.EEI:CS_GPO(1.0) (21 items): GPO Concept Scheme>,\n",
       " 'OECD.ENV.EPI:CS_AIR_EMISSIONS': <ConceptScheme OECD.ENV.EPI:CS_AIR_EMISSIONS(1.0) (16 items): Emissions of air pollutants>,\n",
       " 'OECD.ENV.EPI:CS_AIR_GHG': <ConceptScheme OECD.ENV.EPI:CS_AIR_GHG(1.0) (13 items): Air emissions - Greenhouse gas emissions Inventories>,\n",
       " 'OECD.ENV.EPI:CS_AIR_POL': <ConceptScheme OECD.ENV.EPI:CS_AIR_POL(1.0) (12 items): Concept scheme for air pollution>,\n",
       " 'OECD.ENV.EPI:CS_CAPMF': <ConceptScheme OECD.ENV.EPI:CS_CAPMF(1.0) (10 items): Concept Scheme for CAPMF>,\n",
       " 'OECD.ENV.EPI:CS_EAMFP': <ConceptScheme OECD.ENV.EPI:CS_EAMFP(1.0) (10 items): Concept scheme for environmentally adjusted multifactor productivity>,\n",
       " 'OECD.ENV.EPI:CS_EPEA': <ConceptScheme OECD.ENV.EPI:CS_EPEA(1.0) (13 items): Concept Scheme for Environmental Protection Expenditure Accounts>,\n",
       " 'OECD.ENV.EPI:CS_ERTR': <ConceptScheme OECD.ENV.EPI:CS_ERTR(1.0) (16 items): Concept scheme for environmentally related tax revenue>,\n",
       " 'OECD.ENV.EPI:CS_EWASTE': <ConceptScheme OECD.ENV.EPI:CS_EWASTE(1.0) (10 items): Concept Scheme for Waste - Electrical and electronic equipment (e-waste or WEEE)>,\n",
       " 'OECD.ENV.EPI:CS_EXP_MORSC': <ConceptScheme OECD.ENV.EPI:CS_EXP_MORSC(1.0) (14 items): Concept Scheme for Mortality, morbidity and welfare cost from exposure to environment-related risks>,\n",
       " 'OECD.ENV.EPI:CS_FOREST': <ConceptScheme OECD.ENV.EPI:CS_FOREST(1.0) (9 items): Concept Scheme for Depletion and growth of forest resources>,\n",
       " 'OECD.ENV.EPI:CS_GREEN_GROWTH': <ConceptScheme OECD.ENV.EPI:CS_GREEN_GROWTH(1.1) (14 items): Concept scheme for green growth indicators>,\n",
       " 'OECD.ENV.EPI:CS_GREEN_TRANSITION': <ConceptScheme OECD.ENV.EPI:CS_GREEN_TRANSITION(1.0) (9 items): Concept Scheme for Green transition>,\n",
       " 'OECD.ENV.EPI:CS_HAZW': <ConceptScheme OECD.ENV.EPI:CS_HAZW(1.0) (12 items): Concept Scheme for Generation and movements of hazardous waste>,\n",
       " 'OECD.ENV.EPI:CS_IPAC': <ConceptScheme OECD.ENV.EPI:CS_IPAC(1.0) (9 items): Concept Scheme for IPAC Dashboard indicators>,\n",
       " 'OECD.ENV.EPI:CS_LAND_COVER': <ConceptScheme OECD.ENV.EPI:CS_LAND_COVER(1.0) (12 items): Concept scheme for land cover dataset>,\n",
       " 'OECD.ENV.EPI:CS_LAND_USE': <ConceptScheme OECD.ENV.EPI:CS_LAND_USE(1.0) (9 items): Concept Scheme for Land use>,\n",
       " 'OECD.ENV.EPI:CS_LAND_USE_HID': <ConceptScheme OECD.ENV.EPI:CS_LAND_USE_HID(1.0) (9 items): Concept Scheme for Land use>,\n",
       " 'OECD.ENV.EPI:CS_MATERIAL_RESOURCES': <ConceptScheme OECD.ENV.EPI:CS_MATERIAL_RESOURCES(1.0) (16 items): Concept Scheme for Material resources>,\n",
       " 'OECD.ENV.EPI:CS_MUNW': <ConceptScheme OECD.ENV.EPI:CS_MUNW(1.0) (15 items): Concept Scheme for Municipal waste, Generation and Treatment>,\n",
       " 'OECD.ENV.EPI:CS_PAT_COL': <ConceptScheme OECD.ENV.EPI:CS_PAT_COL(1.0) (10 items): Concept Scheme for Patents - international bilateral collaboration in technology development>,\n",
       " 'OECD.ENV.EPI:CS_PAT_COL_RATES': <ConceptScheme OECD.ENV.EPI:CS_PAT_COL_RATES(1.0) (10 items): Concept Scheme for Patents - international collaboration in technology development>,\n",
       " 'OECD.ENV.EPI:CS_PAT_DEV': <ConceptScheme OECD.ENV.EPI:CS_PAT_DEV(1.0) (11 items): Concept Scheme for Patents - technology development>,\n",
       " 'OECD.ENV.EPI:CS_PAT_DIFF': <ConceptScheme OECD.ENV.EPI:CS_PAT_DIFF(1.0) (10 items): Concept Scheme for Patents - technology diffusion>,\n",
       " 'OECD.ENV.EPI:CS_PAT_IND': <ConceptScheme OECD.ENV.EPI:CS_PAT_IND(1.0) (11 items): Concept Scheme for Patents - indicators>,\n",
       " 'OECD.ENV.EPI:CS_SOE': <ConceptScheme OECD.ENV.EPI:CS_SOE(1.0) (14 items): Concept scheme fpr sustainable ocean economy dataset>,\n",
       " 'OECD.ENV.EPI:CS_WATER_ABSTRACT': <ConceptScheme OECD.ENV.EPI:CS_WATER_ABSTRACT(1.0) (13 items): Concept Scheme for Freshwater - abstractions>,\n",
       " 'OECD.ENV.EPI:CS_WATER_ASSET_ACCOUNTS': <ConceptScheme OECD.ENV.EPI:CS_WATER_ASSET_ACCOUNTS(1.0) (11 items): Concept Scheme for Water accounts - assets>,\n",
       " 'OECD.ENV.EPI:CS_WATER_BALANCE': <ConceptScheme OECD.ENV.EPI:CS_WATER_BALANCE(1.0) (10 items): Concept Scheme for Freshwater - balance table>,\n",
       " 'OECD.ENV.EPI:CS_WATER_DISCHARGE': <ConceptScheme OECD.ENV.EPI:CS_WATER_DISCHARGE(1.0) (10 items): Concept Scheme for Wastewater - generation and discharge>,\n",
       " 'OECD.ENV.EPI:CS_WATER_PSUT': <ConceptScheme OECD.ENV.EPI:CS_WATER_PSUT(1.0) (12 items): Concept Scheme for Water accounts - supply and use>,\n",
       " 'OECD.ENV.EPI:CS_WATER_RESOURCES': <ConceptScheme OECD.ENV.EPI:CS_WATER_RESOURCES(1.0) (10 items): Concept Scheme for Freshwater - resources>,\n",
       " 'OECD.ENV.EPI:CS_WATER_TREAT': <ConceptScheme OECD.ENV.EPI:CS_WATER_TREAT(1.0) (9 items): Concept Scheme for Wastewater - connection rates to treatment>,\n",
       " 'OECD.ENV.EPI:CS_WATER_USE': <ConceptScheme OECD.ENV.EPI:CS_WATER_USE(1.0) (10 items): Concept Scheme for Freshwater - use>,\n",
       " 'OECD.ENV.EPI:CS_WILD_LIFE': <ConceptScheme OECD.ENV.EPI:CS_WILD_LIFE(1.0) (8 items): Concept Scheme for Threatened species>,\n",
       " 'OECD.ENV.EPI:CS_WSECTOR': <ConceptScheme OECD.ENV.EPI:CS_WSECTOR(1.0) (10 items): Concept Scheme for Waste by sector: generation, recovery and recycling>,\n",
       " 'OECD.ENV.EPI:CS_WSTREAMS': <ConceptScheme OECD.ENV.EPI:CS_WSTREAMS(1.0) (10 items): Concept Scheme for Waste - Selected waste streams: generation, recovery and recycling>,\n",
       " 'OECD.ENV.EPI:EXPOSURE_TO_CLIMATE_HAZARDS': <ConceptScheme OECD.ENV.EPI:EXPOSURE_TO_CLIMATE_HAZARDS(1.0) (13 items): Climate-related hazard concept scheme>,\n",
       " 'OECD.ENV.EPI:PROTECTED_AREAS': <ConceptScheme OECD.ENV.EPI:PROTECTED_AREAS(1.0) (13 items): Protected areas concept scheme>,\n",
       " 'OECD.GOV.GIP:CS_GOV_QDD_1': <ConceptScheme OECD.GOV.GIP:CS_GOV_QDD_1(1.0) (11 items): QDD Concepts>,\n",
       " 'OECD.GOV.GIP:CS_GOV_QDD_FMR': <ConceptScheme OECD.GOV.GIP:CS_GOV_QDD_FMR(1.0) (7 items): QDD Concepts>,\n",
       " 'OECD.GOV.GIP:CS_GOV_QDD_GENBUD': <ConceptScheme OECD.GOV.GIP:CS_GOV_QDD_GENBUD(1.0) (7 items): QDD Concepts>,\n",
       " 'OECD.GOV.GIP:CS_GOV_QDD_GREENBUD': <ConceptScheme OECD.GOV.GIP:CS_GOV_QDD_GREENBUD(1.0) (7 items): QDD Concepts>,\n",
       " 'OECD.GOV.GIP:CS_GOV_QDD_INFRA': <ConceptScheme OECD.GOV.GIP:CS_GOV_QDD_INFRA(1.0) (7 items): QDD Concepts>,\n",
       " 'OECD.GOV.GIP:GOV_CONCEPTS': <ConceptScheme OECD.GOV.GIP:GOV_CONCEPTS(1.0) (19 items): Concept Scheme for GOV>,\n",
       " 'OECD.GOV.PSI:CS_PII': <ConceptScheme OECD.GOV.PSI:CS_PII(1.3) (13 items): Concept scheme for public integrity indicators>,\n",
       " 'OECD.ITF:CS_TRANSPORT': <ConceptScheme OECD.ITF:CS_TRANSPORT(1.0) (17 items): Short-term transport indicators>,\n",
       " 'OECD.ITF:CS_TRENDS': <ConceptScheme OECD.ITF:CS_TRENDS(1.0) (14 items): Annual transport trends>,\n",
       " 'OECD.SDD.NAD:CS_DASH_CONCEPTS': <ConceptScheme OECD.SDD.NAD:CS_DASH_CONCEPTS(1.0) (32 items): Concept Scheme for NA dashboards>,\n",
       " 'OECD.SDD.NAD:CS_EGDNA': <ConceptScheme OECD.SDD.NAD:CS_EGDNA(1.0) (31 items): List of concepts for NA DSDs>,\n",
       " 'OECD.SDD.NAD:CS_NA': <ConceptScheme OECD.SDD.NAD:CS_NA(1.0) (31 items): List of concepts for NA DSDs>,\n",
       " 'OECD.SDD.NAD:CS_NA_IDC': <ConceptScheme OECD.SDD.NAD:CS_NA_IDC(1.0) (55 items): List of concepts for National Accounts DSDs>,\n",
       " 'OECD.SDD.NAD.SEEA:CS_AEA': <ConceptScheme OECD.SDD.NAD.SEEA:CS_AEA(1.1) (19 items): Air Emissions Accounts Concept Scheme>,\n",
       " 'OECD.SDD.NAD.SEEA:CS_NAT_RES': <ConceptScheme OECD.SDD.NAD.SEEA:CS_NAT_RES(1.1) (11 items): Natural Resources Concept Scheme>,\n",
       " 'OECD.SDD.NAD.SEEA:CS_PEFA': <ConceptScheme OECD.SDD.NAD.SEEA:CS_PEFA(1.1) (14 items): PEFA Concept Scheme>,\n",
       " 'OECD.SDD.SDPS:CS_DD_HCL_TEST': <ConceptScheme OECD.SDD.SDPS:CS_DD_HCL_TEST(1.0) (11 items): test concept scheme DD with HCL>,\n",
       " 'OECD.SDD.SDPS:CS_MEI_TEST': <ConceptScheme OECD.SDD.SDPS:CS_MEI_TEST(1.0) (10 items): Main Economic Indicators Publication TEST Concepts>,\n",
       " 'OECD.SDD.STES:CS_STES': <ConceptScheme OECD.SDD.STES:CS_STES(4.0) (16 items): STES concept scheme>,\n",
       " 'OECD.SDD.TPS:CS_BATIS': <ConceptScheme OECD.SDD.TPS:CS_BATIS(1.1) (15 items): Concept scheme for balance international trade in services according to BPM6 and EBOPS 2010>,\n",
       " 'OECD.SDD.TPS:CS_BD': <ConceptScheme OECD.SDD.TPS:CS_BD(1.0) (15 items): Concept scheme for business demography statistics>,\n",
       " 'OECD.SDD.TPS:CS_BOP6': <ConceptScheme OECD.SDD.TPS:CS_BOP6(1.0) (14 items): Concept scheme for balance of payments according to BPM6 and EBOPS 2010>,\n",
       " 'OECD.SDD.TPS:CS_IMTS': <ConceptScheme OECD.SDD.TPS:CS_IMTS(1.0) (15 items): Concept scheme for Monthly Internaional Merchandise Trade (IMTS)>,\n",
       " 'OECD.SDD.TPS:CS_ITIC_HS2017': <ConceptScheme OECD.SDD.TPS:CS_ITIC_HS2017(1.0) (13 items): Concept scheme for International Transport and Insurance Costs of Merchandise Trade (ITIC)>,\n",
       " 'OECD.ELS.SAE:CS_LFS': <ConceptScheme OECD.ELS.SAE:CS_LFS(1.1) (11 items): Labour force statistics concepts>,\n",
       " 'OECD.SDD.TPS:CS_LFS': <ConceptScheme OECD.SDD.TPS:CS_LFS(1.0) (17 items): Labour force statistics concepts>,\n",
       " 'OECD.SDD.TPS:CS_PDB': <ConceptScheme OECD.SDD.TPS:CS_PDB(1.0) (15 items): PDB Concept Scheme>,\n",
       " 'OECD.SDD.TPS:CS_PPP': <ConceptScheme OECD.SDD.TPS:CS_PPP(1.1) (12 items): PPPs Concept Scheme>,\n",
       " 'OECD.SDD.TPS:CS_RHPI': <ConceptScheme OECD.SDD.TPS:CS_RHPI(1.0) (15 items): Concept scheme for regional house prices>,\n",
       " 'OECD.SDD.TPS:CS_SDBS_BSC_ISIC4': <ConceptScheme OECD.SDD.TPS:CS_SDBS_BSC_ISIC4(1.0) (11 items): SDBS-BSC>,\n",
       " 'OECD.SDD.TPS:CS_TEC_ISIC4': <ConceptScheme OECD.SDD.TPS:CS_TEC_ISIC4(1.0) (20 items): Trade in goods by Enterprise Characteristics (TEC)>,\n",
       " 'OECD.SDD.TPS:CS_TIE': <ConceptScheme OECD.SDD.TPS:CS_TIE(1.1) (13 items): Timely Indicators of Entrepreneurship>,\n",
       " 'OECD.SDD.TPS:CS_VC_INVEST': <ConceptScheme OECD.SDD.TPS:CS_VC_INVEST(1.0) (11 items): Concept scheme for venture capital investments (market statistics)>,\n",
       " 'OECD.SDD.TPS:PRI_CONCEPTS': <ConceptScheme OECD.SDD.TPS:PRI_CONCEPTS(1.0) (15 items): Concept scheme for price statistics>,\n",
       " 'OECD.STI.DEP:CS_BB_DB': <ConceptScheme OECD.STI.DEP:CS_BB_DB(1.0) (10 items): Concept scheme for broadband database>,\n",
       " 'OECD.STI.DEP:CS_DEO_1': <ConceptScheme OECD.STI.DEP:CS_DEO_1(1.0) (32 items): Concept scheme for the DEO part 1>,\n",
       " 'OECD.STI.DEP:CS_DEO_2': <ConceptScheme OECD.STI.DEP:CS_DEO_2(1.0) (36 items): Concept scheme for the DEO part 2>,\n",
       " 'OECD.STI.DEP:CS_DEO_3': <ConceptScheme OECD.STI.DEP:CS_DEO_3(1.0) (6 items): Concept scheme for the DEO part 3>,\n",
       " 'OECD.STI.DEP:CS_NDSC': <ConceptScheme OECD.STI.DEP:CS_NDSC(1.0) (10 items): Concept scheme for the indicator on the National Digital Strategy Comprehensiveness (Going Digital Toolkit Data Kitchen)>,\n",
       " 'OECD.STI.DEP:CS_TOOLKIT': <ConceptScheme OECD.STI.DEP:CS_TOOLKIT(1.0) (14 items): Concept scheme for the Going Digital Toolkit>,\n",
       " 'OECD.STI.DEP:CS_TOOLKIT_1': <ConceptScheme OECD.STI.DEP:CS_TOOLKIT_1(1.0) (7 items): Concept scheme for the breakdown visualisations of the Going Digital portal - part 1.>,\n",
       " 'OECD.STI.DEP:CS_TOOLKIT_10': <ConceptScheme OECD.STI.DEP:CS_TOOLKIT_10(1.0) (8 items): Concept scheme for the breakdown visualisations of the Going Digital portal - part 10.>,\n",
       " 'OECD.STI.DEP:CS_TOOLKIT_11': <ConceptScheme OECD.STI.DEP:CS_TOOLKIT_11(1.0) (8 items): Concept scheme for the breakdown visualisations of the Going Digital portal - part 11.>,\n",
       " 'OECD.STI.DEP:CS_TOOLKIT_12': <ConceptScheme OECD.STI.DEP:CS_TOOLKIT_12(1.0) (8 items): Concept scheme for the breakdown visualisations of the Going Digital portal - part 12.>,\n",
       " 'OECD.STI.DEP:CS_TOOLKIT_13': <ConceptScheme OECD.STI.DEP:CS_TOOLKIT_13(1.0) (9 items): Concept scheme for the breakdown visualisations of the Going Digital portal - part 13.>,\n",
       " 'OECD.STI.DEP:CS_TOOLKIT_2': <ConceptScheme OECD.STI.DEP:CS_TOOLKIT_2(1.0) (7 items): Concept scheme for the breakdown visualisations of the Going Digital portal - part 2.>,\n",
       " 'OECD.STI.DEP:CS_TOOLKIT_3': <ConceptScheme OECD.STI.DEP:CS_TOOLKIT_3(1.0) (9 items): Concept scheme for the breakdown visualisations of the Going Digital portal - part 3.>,\n",
       " 'OECD.STI.DEP:CS_TOOLKIT_4': <ConceptScheme OECD.STI.DEP:CS_TOOLKIT_4(1.0) (8 items): Concept scheme for the breakdown visualisations of the Going Digital portal - part 4.>,\n",
       " 'OECD.STI.DEP:CS_TOOLKIT_5': <ConceptScheme OECD.STI.DEP:CS_TOOLKIT_5(1.0) (6 items): Concept scheme for the breakdown visualisations of the Going Digital portal - part 5.>,\n",
       " 'OECD.STI.DEP:CS_TOOLKIT_6': <ConceptScheme OECD.STI.DEP:CS_TOOLKIT_6(1.0) (9 items): Concept scheme for the breakdown visualisations of the Going Digital portal - part 6.>,\n",
       " 'OECD.STI.DEP:CS_TOOLKIT_7': <ConceptScheme OECD.STI.DEP:CS_TOOLKIT_7(1.0) (8 items): Concept scheme for the breakdown visualisations of the Going Digital portal - part 7.>,\n",
       " 'OECD.STI.DEP:CS_TOOLKIT_8': <ConceptScheme OECD.STI.DEP:CS_TOOLKIT_8(1.0) (9 items): Concept scheme for the breakdown visualisations of the Going Digital portal - part 8.>,\n",
       " 'OECD.STI.DEP:CS_TOOLKIT_9': <ConceptScheme OECD.STI.DEP:CS_TOOLKIT_9(1.0) (9 items): Concept scheme for the breakdown visualisations of the Going Digital portal - part 9.>,\n",
       " 'OECD.STI.DEP:CS_TQ_SURVEY': <ConceptScheme OECD.STI.DEP:CS_TQ_SURVEY(1.0) (9 items): Concept scheme for the Truth Quest survey data.>,\n",
       " 'OECD.STI.DEP:ICT_CONCEPTS': <ConceptScheme OECD.STI.DEP:ICT_CONCEPTS(1.1) (22 items): Concept scheme for ICT usage>,\n",
       " 'OECD.STI.PIE:CS_Patents': <ConceptScheme OECD.STI.PIE:CS_Patents(1.0) (16 items): Patents>,\n",
       " 'OECD.STI.PIE:CS_STAN': <ConceptScheme OECD.STI.PIE:CS_STAN(1.0) (13 items): STAN concepts>,\n",
       " 'OECD.STI.PIE:ICIO_GHG_CONCEPTS': <ConceptScheme OECD.STI.PIE:ICIO_GHG_CONCEPTS(1.0) (16 items): GHG Concepts>,\n",
       " 'OECD.STI.PIE:QUIS_CONCEPTS': <ConceptScheme OECD.STI.PIE:QUIS_CONCEPTS(1.0) (19 items): QuIS Concept Scheme>,\n",
       " 'OECD.STI.PIE:TIMBC_CONCEPTS': <ConceptScheme OECD.STI.PIE:TIMBC_CONCEPTS(1.0) (10 items): TIMBC Concepts>,\n",
       " 'OECD.STI.PIE:TIM_CONCEPTS': <ConceptScheme OECD.STI.PIE:TIM_CONCEPTS(1.0) (9 items): TIM Concepts>,\n",
       " 'OECD.STI.PIE:TIVA_CONCEPTS': <ConceptScheme OECD.STI.PIE:TIVA_CONCEPTS(1.0) (16 items): TIVA Concepts>,\n",
       " 'OECD.STI.STP:CS_BIBLIO': <ConceptScheme OECD.STI.STP:CS_BIBLIO(1.0) (11 items): Bibliometric indicators (by field) concepts>,\n",
       " 'OECD.STI.STP:CS_OECD_STI_STP_ANBERDi4': <ConceptScheme OECD.STI.STP:CS_OECD_STI_STP_ANBERDi4(1.0) (13 items): Concept Scheme for ANBERD in ISIC Rev.4>,\n",
       " 'OECD.STI.STP:CS_OECD_STI_STP_MSTI': <ConceptScheme OECD.STI.STP:CS_OECD_STI_STP_MSTI(1.3) (16 items): Concept Scheme for MSTI>,\n",
       " 'OECD.STI.STP:CS_RDS': <ConceptScheme OECD.STI.STP:CS_RDS(1.0) (33 items): Concept scheme for RD statistics>,\n",
       " 'OECD.STI.STP:CS_RDTAX': <ConceptScheme OECD.STI.STP:CS_RDTAX(1.0) (20 items): Concept scheme for RDTAX>,\n",
       " 'OECD.STI.STP:CS_SBRD': <ConceptScheme OECD.STI.STP:CS_SBRD(1.1) (10 items): R&D indicators sub-platform Concepts>,\n",
       " 'OECD.TAD.ADM:CS_FFS': <ConceptScheme OECD.TAD.ADM:CS_FFS(1.0) (15 items): FFS Concept Scheme>,\n",
       " 'OECD.TAD.ADM:CS_QDD_TAD_EXP_RESTRIC': <ConceptScheme OECD.TAD.ADM:CS_QDD_TAD_EXP_RESTRIC(1.0) (9 items): Export restrictions on raw materials>,\n",
       " 'OECD.TAD.ARP:CS_AEI2023_DASHBOARD': <ConceptScheme OECD.TAD.ARP:CS_AEI2023_DASHBOARD(1.0) (8 items): Agri-Environmental indicators: 2023 Dashboard  Concepts>,\n",
       " 'OECD.TAD.ARP:CS_AGRI_ENVAEI': <ConceptScheme OECD.TAD.ARP:CS_AGRI_ENVAEI(1.0) (13 items): Agriculture and environment sustainability>,\n",
       " 'OECD.TAD.ARP:CS_AGR_POLIND': <ConceptScheme OECD.TAD.ARP:CS_AGR_POLIND(1.0) (11 items): Agricultural monitoring concept scheme>,\n",
       " 'OECD.TAD.ARP:CS_FISH': <ConceptScheme OECD.TAD.ARP:CS_FISH(1.0) (19 items): Fisheries concepts>,\n",
       " 'OECD.TAD.ATM:CS_AGR_OUT': <ConceptScheme OECD.TAD.ATM:CS_AGR_OUT(1.1) (12 items): Agricultural Outlook concepts>,\n",
       " 'OECD.TAD.TPD:CS_STRI': <ConceptScheme OECD.TAD.TPD:CS_STRI(1.0) (14 items): STRI Indices>,\n",
       " 'OECD.WISE.CWB:CS_CWB': <ConceptScheme OECD.WISE.CWB:CS_CWB(1.0) (11 items): Child well-being concept scheme>,\n",
       " 'OECD.WISE.INE:CS_IDD': <ConceptScheme OECD.WISE.INE:CS_IDD(1.0) (18 items): Concept Scheme for income distribution dataset>,\n",
       " 'OECD.WISE.INE:CS_TIME_USE': <ConceptScheme OECD.WISE.INE:CS_TIME_USE(1.0) (8 items): Time Use scheme>,\n",
       " 'OECD.WISE.INE:CS_WEALTH': <ConceptScheme OECD.WISE.INE:CS_WEALTH(1.0) (13 items): Wealth concept scheme>,\n",
       " 'OECD.WISE.WDP:CS_WELL_BEING': <ConceptScheme OECD.WISE.WDP:CS_WELL_BEING(1.0) (13 items): Well Being Concept Scheme>}"
      ]
     },
     "execution_count": 174,
     "metadata": {},
     "output_type": "execute_result"
    }
   ],
   "source": [
    "# all concept schemes:\n",
    "conceptscheme.concept_scheme"
   ]
  },
  {
   "cell_type": "code",
   "execution_count": 138,
   "metadata": {},
   "outputs": [
    {
     "data": {
      "text/plain": [
       "{'CFE': <Agency CFE: Centre for Entrepreneurship, SMEs, Regions and Cities>,\n",
       " 'CTP': <Agency CTP: Centre for Tax Policy and Administration>,\n",
       " 'DAF': <Agency DAF: Directorate for Financial and Enterprise Affairs>,\n",
       " 'DCD': <Agency DCD: Development Co-operation Directorate>,\n",
       " 'DEV': <Agency DEV: Development Centre>,\n",
       " 'ECO': <Agency ECO: Economics Department>,\n",
       " 'EDU': <Agency EDU: Directorate for Education and Skills>,\n",
       " 'ELS': <Agency ELS: Directorate for Employment, Labour and Social Affairs>,\n",
       " 'ENV': <Agency ENV: Environment Directorate>,\n",
       " 'EXD': <Agency EXD: Executive Directorate>,\n",
       " 'FATF': <Agency FATF: Financial Action Task Force>,\n",
       " 'GOV': <Agency GOV: Public Governance>,\n",
       " 'IEA': <Agency IEA: International Energy Agency>,\n",
       " 'ITF': <Agency ITF: International Transport Forum>,\n",
       " 'NEA': <Agency NEA: OECD Nuclear Energy Agency>,\n",
       " 'PAC': <Agency PAC: Public Affairs and Communications Directorate>,\n",
       " 'SDD': <Agency SDD: Statistics and Data Directorate>,\n",
       " 'SGE': <Agency SGE: General Secretariat>,\n",
       " 'SKC': <Agency SKC: Centre for Skills>,\n",
       " 'STI': <Agency STI: Directorate for Science, Technology and Innovation>,\n",
       " 'SWAC': <Agency SWAC: Sahel and West Africa Club>,\n",
       " 'TAD': <Agency TAD: Trade and Agriculture Directorate>,\n",
       " 'WISE': <Agency WISE: Centre for Well-Being, Inclusion, Sustainability and Equal Opportunity>,\n",
       " 'OECD': <Agency OECD>}"
      ]
     },
     "execution_count": 138,
     "metadata": {},
     "output_type": "execute_result"
    }
   ],
   "source": [
    "agencyscheme.organisation_scheme['OECD:AGENCIES'].items"
   ]
  },
  {
   "cell_type": "code",
   "execution_count": 134,
   "metadata": {},
   "outputs": [
    {
     "name": "stdout",
     "output_type": "stream",
     "text": [
      "OECD:AGENCIES {'CFE': <Agency CFE: Centre for Entrepreneurship, SMEs, Regions and Cities>, 'CTP': <Agency CTP: Centre for Tax Policy and Administration>, 'DAF': <Agency DAF: Directorate for Financial and Enterprise Affairs>, 'DCD': <Agency DCD: Development Co-operation Directorate>, 'DEV': <Agency DEV: Development Centre>, 'ECO': <Agency ECO: Economics Department>, 'EDU': <Agency EDU: Directorate for Education and Skills>, 'ELS': <Agency ELS: Directorate for Employment, Labour and Social Affairs>, 'ENV': <Agency ENV: Environment Directorate>, 'EXD': <Agency EXD: Executive Directorate>, 'FATF': <Agency FATF: Financial Action Task Force>, 'GOV': <Agency GOV: Public Governance>, 'IEA': <Agency IEA: International Energy Agency>, 'ITF': <Agency ITF: International Transport Forum>, 'NEA': <Agency NEA: OECD Nuclear Energy Agency>, 'PAC': <Agency PAC: Public Affairs and Communications Directorate>, 'SDD': <Agency SDD: Statistics and Data Directorate>, 'SGE': <Agency SGE: General Secretariat>, 'SKC': <Agency SKC: Centre for Skills>, 'STI': <Agency STI: Directorate for Science, Technology and Innovation>, 'SWAC': <Agency SWAC: Sahel and West Africa Club>, 'TAD': <Agency TAD: Trade and Agriculture Directorate>, 'WISE': <Agency WISE: Centre for Well-Being, Inclusion, Sustainability and Equal Opportunity>, 'OECD': <Agency OECD>}\n",
      "OECD.CFE:AGENCIES {'CITY': <Agency CITY: Cities, Urban Policies and Sustainable Development\n",
      "            Division>, 'COM': <Agency COM: Communications, Publications and Events Unit>, 'EDS': <Agency EDS: Economic Analysis, Data and Statistics Division>, 'EST': <Agency EST: Entrepreneurship SME and Tourism Division>, 'LESI': <Agency LESI: Local Employment, Skills and Social Innovation\n",
      "            Division>, 'MSU': <Agency MSU: Management Support Unit>, 'RDG': <Agency RDG: Regional Development and Multi-level Governance Division>, 'TOU': <Agency TOU: Tourism Policy and Analysis Unit>, 'SMEE': <Agency SMEE: SME and Entrepreneurship Division>, 'OECD.CFE': <Agency OECD.CFE>}\n",
      "OECD.CTP:AGENCIES {'GF': <Agency GF: Global Forum on Transparency and Exchange of Information for Tax Purposes>, 'GRD': <Agency GRD: Global Relations and Development Division>, 'ICA': <Agency ICA: International Cooperation and Tax Administration Division>, 'RMU': <Agency RMU: Resource Management Unit>, 'TPS': <Agency TPS: Tax Policy and Statistics Division>, 'TTP': <Agency TTP: Tax Treaty, Transfer Pricing and Financial Transactions Division>, 'TAV': <Agency TAV: Tax Administration and VAT Division>, 'OECD.CTP': <Agency OECD.CTP>}\n",
      "OECD.DAF:AGENCIES {'ACD': <Agency ACD: Anti-Corruption Division>, 'CFIP': <Agency CFIP: Consumer Finance, Insurance and Pensions Division>, 'CG': <Agency CG: Corporate Governance and Corporate Finance\n",
      "            Division>, 'COMP': <Agency COMP: Competition Division>, 'FM': <Agency FM: Financial Markets Division>, 'INV': <Agency INV: Investment Division>, 'RBC': <Agency RBC: Centre for Responsible Business Conduct>, 'CM': <Agency CM: Capital Markets and Financial Institutions Division>, 'OECD.DAF': <Agency OECD.DAF>}\n",
      "OECD.DCD:AGENCIES {'CMU': <Agency CMU: Central Management Unit>, 'COMS': <Agency COMS: Communications, Development Cluster>, 'DAC': <Agency DAC: Office of the DAC Chair>, 'FOR': <Agency FOR: Foresight, Outreach and Policy Reform Unit>, 'FSD': <Agency FSD: Financing for Sustainable Development Division>, 'GPP': <Agency GPP: Global Partnerships and Policies Division>, 'MOPAN': <Agency MOPAN: Multilateral Organisation Performance Assessment Network>, 'RREDI': <Agency RREDI: Reviews, Results, Evaluations and Development Innovation\n",
      "            Division>, 'OECD.DCD': <Agency OECD.DCD>}\n",
      "OECD.DEV:AGENCIES {'ASIA': <Agency ASIA: Asia>, 'CDS': <Agency CDS: Country Diagnostics and Strategy>, 'CMU': <Agency CMU: Central Management Unit>, 'COMS': <Agency COMS: Communications, Development Cluster Division>, 'DIT': <Agency DIT: Development in Transition>, 'EMEA': <Agency EMEA: Europe, Middle East, Africa>, 'ETD': <Agency ETD: Economic Transformation and Development Division>, 'LAC': <Agency LAC: Latin America and the Caribbean>, 'MS': <Agency MS: Migration and Skills>, 'NDPI': <Agency NDPI: New Development Policies and Institutions>, 'NPG': <Agency NPG: Networks, Partnerships and Gender Division>, 'NRD': <Agency NRD: Natural Resources-based Development>, 'SC': <Agency SC: Social Cohesion>, 'OECD.DEV': <Agency OECD.DEV>}\n",
      "OECD.ECO:AGENCIES {'CS1': <Agency CS1: Country Studies 1>, 'CS2': <Agency CS2: Country Studies 2>, 'CS3': <Agency CS3: Country Studies 3>, 'CS4': <Agency CS4: Country Studies 4>, 'CS5': <Agency CS5: Country Studies 5>, 'CS6': <Agency CS6: Country Studies 6>, 'CSB': <Agency CSB: Country Studies Branch>, 'MAD': <Agency MAD: Macroeconomic Analysis Division>, 'MPD': <Agency MPD: Macroeconomic Policy Division>, 'MSU': <Agency MSU: Management Support Unit>, 'PED': <Agency PED: Public Economics Division>, 'PSB': <Agency PSB: Policy Studies Branch>, 'SPAD': <Agency SPAD: Structural Policy Analysis Division>, 'SSD': <Agency SSD: Structural Surveillance Division>, 'OECD.ECO': <Agency OECD.ECO>}\n",
      "OECD.EDU:AGENCIES {'DSU': <Agency DSU: Directorate Support Unit>, 'ECS': <Agency ECS: Early Childhood and Schools>, 'IMEP': <Agency IMEP: Innovation and Measuring Progress>, 'PAI': <Agency PAI: Policy Advice and Implementation>, 'SBS': <Agency SBS: Skills Beyond School>, 'OECD.EDU': <Agency OECD.EDU>}\n",
      "OECD.ELS:AGENCIES {'COM': <Agency COM: Publications and Communications>, 'GDU': <Agency GDU: Global Deal Support Unit>, 'HD': <Agency HD: Health Division>, 'IMD': <Agency IMD: International Migration Division>, 'JAI': <Agency JAI: Jobs and Income Division>, 'MSU': <Agency MSU: Management Support Unit>, 'SAE': <Agency SAE: Skills and Employability Division>, 'SPD': <Agency SPD: Social Policy Division>, 'OECD.ELS': <Agency OECD.ELS>}\n",
      "OECD.ENV:AGENCIES {'CMC': <Agency CMC: Management and Committee Branch>, 'EEI': <Agency EEI: Environment and Economy Integration Division>, 'EHS': <Agency EHS: Environment, Health and Safety Division>, 'EPI': <Agency EPI: Environmental Performance and Information\n",
      "            Division>, 'ETR': <Agency ETR: Environment, Transitions and Resilience Division>, 'GGGR': <Agency GGGR: Green Growth and Global Relations>, 'OECD.ENV': <Agency OECD.ENV>}\n",
      "OECD.EXD:AGENCIES {'CSI': <Agency CSI: Conference, Security and Infrastructure Service>, 'DKI': <Agency DKI: Digital, Knowledge and Information Service>, 'HRM': <Agency HRM: Human Resource Management>, 'PBF': <Agency PBF: Programme, Budget and Financial Management>, 'OECD.EXD': <Agency OECD.EXD>}\n",
      "OECD.FATF:AGENCIES {'ECG': <Agency ECG: Evaluations and Compliance>, 'EXEC': <Agency EXEC: Executive Services>, 'GNCG': <Agency GNCG: Global Network Coordination>, 'ICRG': <Agency ICRG: International co-operation review>, 'PDG': <Agency PDG: Policy Development>, 'RTMG': <Agency RTMG: Risk, Trends and Methods>, 'TRAIN': <Agency TRAIN: Training and Support Activities>, 'OECD.FATF': <Agency OECD.FATF>}\n",
      "OECD.GOV:AGENCIES {'CMU': <Agency CMU: Central Management Unit and Committee Support>, 'GIP': <Agency GIP: Governance Indicators and Performance Evaluation>, 'GRP': <Agency GRP: Governance Reviews and Partnerships Division>, 'IPP': <Agency IPP: Infrastructure and Public Procurement Division>, 'OIG': <Agency OIG: Open and Innovative Government Division>, 'PCSDG': <Agency PCSDG: Division for Policy Coherence for Sustainable Development Goals>, 'PMB': <Agency PMB: Public Management and Budgeting Division>, 'PSI': <Agency PSI: Public Sector Integrity>, 'REG': <Agency REG: Regulatory Policy Division>, 'SIGM': <Agency SIGM: GOV/SIGMA>, 'OECD.GOV': <Agency OECD.GOV>}\n",
      "OECD.IEA:AGENCIES {'CEM': <Agency CEM: Clean Energy Ministerial>, 'EMS': <Agency EMS: Directorate of Energy Markets and Security>, 'EXD': <Agency EXD: Executive Director>, 'STO': <Agency STO: Directorate of Sustainability, Technology and Outlooks>, 'OECD.IEA': <Agency OECD.IEA>}\n",
      "OECD.ITF:AGENCIES {'COM': <Agency COM: Communications>, 'IRS': <Agency IRS: Institutional Relations and Summit>, 'MA': <Agency MA: Management and Administration>, 'QPA': <Agency QPA: Quantitative Policy Analysis and Foresight>, 'RPA': <Agency RPA: Research and Policy Analysis>, 'OECD.ITF': <Agency OECD.ITF>}\n",
      "OECD.NEA:AGENCIES {'DB': <Agency DB: Data Bank>, 'NTE': <Agency NTE: Division of Nuclear Technology Development and Economics>, 'OLC': <Agency OLC: Office of Legal Counsel>, 'ORM': <Agency ORM: Office of Resource Management>, 'POL': <Agency POL: Office of Policy and Coordination>, 'RP-HANS': <Agency RP-HANS: Division of Radiological Protection and Human Aspects of Nuclear Safety>, 'RWMD': <Agency RWMD: Division of Radioactive Waste Management and Decommissioning>, 'SAF': <Agency SAF: Division of Nuclear Safety Technology and Regulation>, 'SCI': <Agency SCI: Division of Nuclear Science>, 'OECD.NEA': <Agency OECD.NEA>}\n",
      "OECD.PAC:AGENCIES {'BERL': <Agency BERL: Centre Abroad: Berlin>, 'CORP': <Agency CORP: Editorial and Corporate Content>, 'DCMI': <Agency DCMI: Digital Content Management and Innovation>, 'EDP': <Agency EDP: Events Design and Promotion>, 'FORUM': <Agency FORUM: OECD Forum>, 'IMPACT': <Agency IMPACT: Impact and Intelligence>, 'MCC': <Agency MCC: Mainstreaming and Communications Campaigns>, 'MEX': <Agency MEX: Centre Abroad: Mexico>, 'PAM': <Agency PAM: Public Affairs and Media>, 'PMF': <Agency PMF: Partnerships, Marketing and Fundraising>, 'RM': <Agency RM: Resource Management>, 'SOCMED': <Agency SOCMED: Social Media>, 'TOKY': <Agency TOKY: Centre Abroad: Tokyo>, 'WASH': <Agency WASH: Centre Abroad: Washington>, 'OECD.PAC': <Agency OECD.PAC>}\n",
      "OECD.SDD:AGENCIES {'MSU': <Agency MSU: Management Support Unit>, 'NAD': <Agency NAD: National Accounts Division>, 'P21': <Agency P21: PARIS21>, 'SDPS': <Agency SDPS: Smart Data Practices and Solutions Division>, 'TPS': <Agency TPS: Trade and Productivity Statistics Division>, 'OECD.SDD': <Agency OECD.SDD>}\n",
      "OECD.SGE:AGENCIES {'CES': <Agency CES: Council and Executive Committee Secretariat>, 'EVIA': <Agency EVIA: Evaluation and Internal Audit>, 'GRS': <Agency GRS: Global Relations Secretariat>, 'LEG': <Agency LEG: Directorate for Legal Affairs>, 'NY': <Agency NY: OECD Representation to the United Nations>, 'RSD': <Agency RSD: Roundtable on Sustainable Development>, 'SHPA': <Agency SHPA: Sherpa Office and Global Governance Unit>, 'OECD.SGE': <Agency OECD.SGE>}\n",
      "OECD.SKC:AGENCIES {'NSS': <Agency NSS: National Skills Strategy>, 'SA': <Agency SA: Skills Analysis>, 'VET': <Agency VET: VET and Adult Learning>, 'OECD.SKC': <Agency OECD.SKC>}\n",
      "OECD.STI:AGENCIES {'COM': <Agency COM: Communication Unit>, 'DEP': <Agency DEP: Digital Economy Policy Division>, 'GPAI': <Agency GPAI: Global Partnership on Artificial Intelligence>, 'MSU': <Agency MSU: Management Support Unit>, 'PIE': <Agency PIE: Productivity, Innovation and Entrepreneurship Division>, 'SIP': <Agency SIP: Structural and Industry Policy Division>, 'STP': <Agency STP: Science and Technology Policy Division>, 'OECD.STI': <Agency OECD.STI>}\n",
      "OECD.TAD:AGENCIES {'ARP': <Agency ARP: Agriculture and Resource Policies Division>, 'ATM': <Agency ATM: Agro-food Trade and Markets>, 'CMU': <Agency CMU: Central Management Unit>, 'COM': <Agency COM: Strategic Communications Unit>, 'EPI': <Agency EPI: Emerging Policy Issues>, 'ADM': <Agency ADM: Analysis, Data and Modelling Division>, 'TPD': <Agency TPD: Trade Policy Division>, 'XCC': <Agency XCC: Export Credits and Competition Division>, 'OECD.TAD': <Agency OECD.TAD>}\n",
      "OECD.WISE:AGENCIES {'COM': <Agency COM: Communication Partnership and Forum>, 'CWB': <Agency CWB: Child Well-Being>, 'INE': <Agency INE: Inequalities>, 'RSB': <Agency RSB: Reviews SDGs and Impact Measurement>, 'WDP': <Agency WDP: Well-Being Data Insights and Policy Practice>, 'WRM': <Agency WRM: Well-Being Research Modelling and Advanced Analytics>, 'OECD.WISE': <Agency OECD.WISE>}\n",
      "SDMX:AGENCIES {'SDMX': <Agency SDMX: SDMX>, 'OECD': <Agency OECD: Organisation for Economic Co-operation and Development>, 'IMF': <Agency IMF: International Monetary Fund (IMF)>, 'ESTAT': <Agency ESTAT: Statistical Office of the European Union (Eurostat)>, 'UIS': <Agency UIS: UNESCO Institute for Statistics (UIS)>, 'METATECH': <Agency METATECH: Metadata Technology>, 'ILO': <Agency ILO: International Labour Organization>, 'UNSD': <Agency UNSD: United Nations Statistics Division (UNSD)>, 'IAEG-SDGs': <Agency IAEG-SDGs: Inter-agency and Expert Group on SDG Indicators (IAEG-SDGs)>}\n"
     ]
    }
   ],
   "source": [
    "for org_item in agencyscheme.organisation_scheme:\n",
    "    print(org_item, agencyscheme.organisation_scheme[org_item].items)"
   ]
  },
  {
   "cell_type": "code",
   "execution_count": 130,
   "metadata": {},
   "outputs": [
    {
     "data": {
      "text/plain": [
       "sdmx.model.common.AgencyScheme"
      ]
     },
     "execution_count": 130,
     "metadata": {},
     "output_type": "execute_result"
    }
   ],
   "source": [
    "type(agencyscheme.organisation_scheme[org_item])"
   ]
  },
  {
   "cell_type": "code",
   "execution_count": 131,
   "metadata": {},
   "outputs": [
    {
     "data": {
      "text/plain": [
       "['_Item',\n",
       " '__annotations__',\n",
       " '__class__',\n",
       " '__class_getitem__',\n",
       " '__contains__',\n",
       " '__dataclass_fields__',\n",
       " '__dataclass_params__',\n",
       " '__delattr__',\n",
       " '__dict__',\n",
       " '__dir__',\n",
       " '__doc__',\n",
       " '__eq__',\n",
       " '__format__',\n",
       " '__ge__',\n",
       " '__getattr__',\n",
       " '__getattribute__',\n",
       " '__getitem__',\n",
       " '__getstate__',\n",
       " '__gt__',\n",
       " '__hash__',\n",
       " '__init__',\n",
       " '__init_subclass__',\n",
       " '__iter__',\n",
       " '__le__',\n",
       " '__len__',\n",
       " '__lt__',\n",
       " '__match_args__',\n",
       " '__module__',\n",
       " '__ne__',\n",
       " '__new__',\n",
       " '__orig_bases__',\n",
       " '__parameters__',\n",
       " '__post_init__',\n",
       " '__reduce__',\n",
       " '__reduce_ex__',\n",
       " '__repr__',\n",
       " '__setattr__',\n",
       " '__sizeof__',\n",
       " '__slots__',\n",
       " '__str__',\n",
       " '__subclasshook__',\n",
       " '__weakref__',\n",
       " '_description',\n",
       " '_is_protocol',\n",
       " '_name',\n",
       " '_preserve',\n",
       " '_repr_kw',\n",
       " 'annotations',\n",
       " 'append',\n",
       " 'compare',\n",
       " 'description',\n",
       " 'eval_annotation',\n",
       " 'extend',\n",
       " 'get_annotation',\n",
       " 'get_hierarchical',\n",
       " 'id',\n",
       " 'is_external_reference',\n",
       " 'is_final',\n",
       " 'is_partial',\n",
       " 'items',\n",
       " 'maintainer',\n",
       " 'name',\n",
       " 'pop_annotation',\n",
       " 'service_url',\n",
       " 'setdefault',\n",
       " 'structure_url',\n",
       " 'uri',\n",
       " 'urn',\n",
       " 'urn_group',\n",
       " 'valid_from',\n",
       " 'valid_to',\n",
       " 'version']"
      ]
     },
     "execution_count": 131,
     "metadata": {},
     "output_type": "execute_result"
    }
   ],
   "source": [
    "dir(agencyscheme.organisation_scheme[org_item])"
   ]
  },
  {
   "cell_type": "code",
   "execution_count": 133,
   "metadata": {},
   "outputs": [
    {
     "data": {
      "text/plain": [
       "{'SDMX': <Agency SDMX: SDMX>,\n",
       " 'OECD': <Agency OECD: Organisation for Economic Co-operation and Development>,\n",
       " 'IMF': <Agency IMF: International Monetary Fund (IMF)>,\n",
       " 'ESTAT': <Agency ESTAT: Statistical Office of the European Union (Eurostat)>,\n",
       " 'UIS': <Agency UIS: UNESCO Institute for Statistics (UIS)>,\n",
       " 'METATECH': <Agency METATECH: Metadata Technology>,\n",
       " 'ILO': <Agency ILO: International Labour Organization>,\n",
       " 'UNSD': <Agency UNSD: United Nations Statistics Division (UNSD)>,\n",
       " 'IAEG-SDGs': <Agency IAEG-SDGs: Inter-agency and Expert Group on SDG Indicators (IAEG-SDGs)>}"
      ]
     },
     "execution_count": 133,
     "metadata": {},
     "output_type": "execute_result"
    }
   ],
   "source": [
    "agencyscheme.organisation_scheme[org_item].items"
   ]
  },
  {
   "cell_type": "code",
   "execution_count": 266,
   "metadata": {},
   "outputs": [],
   "source": [
    "df = sdmx.Client(\"OECD\").dataflow(id)"
   ]
  },
  {
   "cell_type": "code",
   "execution_count": 267,
   "metadata": {},
   "outputs": [
    {
     "data": {
      "text/plain": [
       "['__annotations__',\n",
       " '__class__',\n",
       " '__contains__',\n",
       " '__dataclass_fields__',\n",
       " '__dataclass_params__',\n",
       " '__delattr__',\n",
       " '__dict__',\n",
       " '__dir__',\n",
       " '__doc__',\n",
       " '__eq__',\n",
       " '__format__',\n",
       " '__ge__',\n",
       " '__getattribute__',\n",
       " '__getstate__',\n",
       " '__gt__',\n",
       " '__hash__',\n",
       " '__init__',\n",
       " '__init_subclass__',\n",
       " '__le__',\n",
       " '__lt__',\n",
       " '__match_args__',\n",
       " '__module__',\n",
       " '__ne__',\n",
       " '__new__',\n",
       " '__post_init__',\n",
       " '__reduce__',\n",
       " '__reduce_ex__',\n",
       " '__repr__',\n",
       " '__setattr__',\n",
       " '__sizeof__',\n",
       " '__str__',\n",
       " '__subclasshook__',\n",
       " '__weakref__',\n",
       " '_categorisation',\n",
       " '_category_scheme',\n",
       " '_codelist',\n",
       " '_collections',\n",
       " '_concept_scheme',\n",
       " '_constraint',\n",
       " '_custom_type_scheme',\n",
       " '_dataflow',\n",
       " '_hierarchical_codelist',\n",
       " '_hierarchy',\n",
       " '_metadataflow',\n",
       " '_metadatastructure',\n",
       " '_name_personalisation_scheme',\n",
       " '_organisation_scheme',\n",
       " '_provisionagreement',\n",
       " '_ruleset_scheme',\n",
       " '_structure',\n",
       " '_structureset',\n",
       " '_transformation_scheme',\n",
       " '_user_defined_operator_scheme',\n",
       " '_valuelist',\n",
       " '_vtl_mapping_scheme',\n",
       " 'add',\n",
       " 'categorisation',\n",
       " 'category_scheme',\n",
       " 'codelist',\n",
       " 'compare',\n",
       " 'concept_scheme',\n",
       " 'constraint',\n",
       " 'custom_type_scheme',\n",
       " 'dataflow',\n",
       " 'footer',\n",
       " 'get',\n",
       " 'header',\n",
       " 'hierarchical_codelist',\n",
       " 'hierarchy',\n",
       " 'iter_collections',\n",
       " 'iter_objects',\n",
       " 'metadataflow',\n",
       " 'metadatastructure',\n",
       " 'name_personalisation_scheme',\n",
       " 'objects',\n",
       " 'organisation_scheme',\n",
       " 'provisionagreement',\n",
       " 'response',\n",
       " 'ruleset_scheme',\n",
       " 'structure',\n",
       " 'structureset',\n",
       " 'transformation_scheme',\n",
       " 'user_defined_operator_scheme',\n",
       " 'valuelist',\n",
       " 'version',\n",
       " 'vtl_mapping_scheme']"
      ]
     },
     "execution_count": 267,
     "metadata": {},
     "output_type": "execute_result"
    }
   ],
   "source": [
    "dir(df)"
   ]
  },
  {
   "cell_type": "code",
   "execution_count": 270,
   "metadata": {},
   "outputs": [],
   "source": [
    "cc = df.constraint['CR_A_DSD_EAG_UOE_FIN@DF_UOE_INDIC_FIN_PERSTUD']"
   ]
  },
  {
   "cell_type": "code",
   "execution_count": 272,
   "metadata": {},
   "outputs": [
    {
     "data": {
      "text/plain": [
       "['__abstractmethods__',\n",
       " '__annotations__',\n",
       " '__class__',\n",
       " '__contains__',\n",
       " '__dataclass_fields__',\n",
       " '__dataclass_params__',\n",
       " '__delattr__',\n",
       " '__dict__',\n",
       " '__dir__',\n",
       " '__doc__',\n",
       " '__eq__',\n",
       " '__format__',\n",
       " '__ge__',\n",
       " '__getattribute__',\n",
       " '__getstate__',\n",
       " '__gt__',\n",
       " '__hash__',\n",
       " '__init__',\n",
       " '__init_subclass__',\n",
       " '__le__',\n",
       " '__lt__',\n",
       " '__match_args__',\n",
       " '__module__',\n",
       " '__ne__',\n",
       " '__new__',\n",
       " '__post_init__',\n",
       " '__reduce__',\n",
       " '__reduce_ex__',\n",
       " '__repr__',\n",
       " '__setattr__',\n",
       " '__sizeof__',\n",
       " '__slots__',\n",
       " '__str__',\n",
       " '__subclasshook__',\n",
       " '__weakref__',\n",
       " '_abc_impl',\n",
       " '_description',\n",
       " '_name',\n",
       " '_preserve',\n",
       " '_repr_kw',\n",
       " 'annotations',\n",
       " 'compare',\n",
       " 'content',\n",
       " 'data_content_keys',\n",
       " 'data_content_region',\n",
       " 'description',\n",
       " 'eval_annotation',\n",
       " 'get_annotation',\n",
       " 'id',\n",
       " 'is_external_reference',\n",
       " 'is_final',\n",
       " 'iter_keys',\n",
       " 'maintainer',\n",
       " 'metadata_content_region',\n",
       " 'name',\n",
       " 'pop_annotation',\n",
       " 'role',\n",
       " 'service_url',\n",
       " 'structure_url',\n",
       " 'to_query_string',\n",
       " 'uri',\n",
       " 'urn',\n",
       " 'urn_group',\n",
       " 'valid_from',\n",
       " 'valid_to',\n",
       " 'version']"
      ]
     },
     "execution_count": 272,
     "metadata": {},
     "output_type": "execute_result"
    }
   ],
   "source": [
    "dir(cc)"
   ]
  },
  {
   "cell_type": "code",
   "execution_count": 280,
   "metadata": {},
   "outputs": [
    {
     "name": "stdout",
     "output_type": "stream",
     "text": [
      "__annotations__ {'data_content_region': typing.List[sdmx.model.common.CubeRegion], 'content': typing.Set[sdmx.model.common.ConstrainableArtefact], 'metadata_content_region': typing.Optional[sdmx.model.common.MetadataTargetRegion]}\n",
      "__dataclass_fields__ {'annotations': Field(name='annotations',type=typing.List[sdmx.model.common.Annotation],default=<dataclasses._MISSING_TYPE object at 0x106576110>,default_factory=<class 'list'>,init=True,repr=True,hash=None,compare=True,metadata=mappingproxy({}),kw_only=False,_field_type=_FIELD), 'id': Field(name='id',type=<class 'str'>,default='',default_factory=<dataclasses._MISSING_TYPE object at 0x106576110>,init=True,repr=True,hash=None,compare=True,metadata=mappingproxy({}),kw_only=False,_field_type=_FIELD), 'uri': Field(name='uri',type=typing.Optional[str],default=None,default_factory=<dataclasses._MISSING_TYPE object at 0x106576110>,init=True,repr=True,hash=None,compare=True,metadata=mappingproxy({}),kw_only=False,_field_type=_FIELD), 'urn': Field(name='urn',type=typing.Optional[str],default=None,default_factory=<dataclasses._MISSING_TYPE object at 0x106576110>,init=True,repr=True,hash=None,compare=True,metadata=mappingproxy({}),kw_only=False,_field_type=_FIELD), 'urn_group': Field(name='urn_group',type=typing.Dict,default=<dataclasses._MISSING_TYPE object at 0x106576110>,default_factory=<class 'dict'>,init=True,repr=False,hash=None,compare=True,metadata=mappingproxy({}),kw_only=False,_field_type=_FIELD), 'name': Field(name='name',type=<class 'sdmx.model.internationalstring.InternationalStringDescriptor'>,default=None,default_factory=<dataclasses._MISSING_TYPE object at 0x106576110>,init=True,repr=True,hash=None,compare=True,metadata=mappingproxy({}),kw_only=False,_field_type=_FIELD), 'description': Field(name='description',type=<class 'sdmx.model.internationalstring.InternationalStringDescriptor'>,default=None,default_factory=<dataclasses._MISSING_TYPE object at 0x106576110>,init=True,repr=True,hash=None,compare=True,metadata=mappingproxy({}),kw_only=False,_field_type=_FIELD), 'version': Field(name='version',type=typing.Optional[str],default=None,default_factory=<dataclasses._MISSING_TYPE object at 0x106576110>,init=True,repr=True,hash=None,compare=True,metadata=mappingproxy({}),kw_only=False,_field_type=_FIELD), 'valid_from': Field(name='valid_from',type=typing.Optional[str],default=None,default_factory=<dataclasses._MISSING_TYPE object at 0x106576110>,init=True,repr=True,hash=None,compare=True,metadata=mappingproxy({}),kw_only=False,_field_type=_FIELD), 'valid_to': Field(name='valid_to',type=typing.Optional[str],default=None,default_factory=<dataclasses._MISSING_TYPE object at 0x106576110>,init=True,repr=True,hash=None,compare=True,metadata=mappingproxy({}),kw_only=False,_field_type=_FIELD), 'is_final': Field(name='is_final',type=typing.Optional[bool],default=None,default_factory=<dataclasses._MISSING_TYPE object at 0x106576110>,init=True,repr=True,hash=None,compare=True,metadata=mappingproxy({}),kw_only=False,_field_type=_FIELD), 'is_external_reference': Field(name='is_external_reference',type=typing.Optional[bool],default=None,default_factory=<dataclasses._MISSING_TYPE object at 0x106576110>,init=True,repr=True,hash=None,compare=True,metadata=mappingproxy({}),kw_only=False,_field_type=_FIELD), 'service_url': Field(name='service_url',type=typing.Optional[str],default=None,default_factory=<dataclasses._MISSING_TYPE object at 0x106576110>,init=True,repr=True,hash=None,compare=True,metadata=mappingproxy({}),kw_only=False,_field_type=_FIELD), 'structure_url': Field(name='structure_url',type=typing.Optional[str],default=None,default_factory=<dataclasses._MISSING_TYPE object at 0x106576110>,init=True,repr=True,hash=None,compare=True,metadata=mappingproxy({}),kw_only=False,_field_type=_FIELD), 'maintainer': Field(name='maintainer',type=typing.Optional[ForwardRef('Agency')],default=None,default_factory=<dataclasses._MISSING_TYPE object at 0x106576110>,init=True,repr=True,hash=None,compare=True,metadata=mappingproxy({}),kw_only=False,_field_type=_FIELD), 'role': Field(name='role',type=typing.Optional[sdmx.model.common.ConstraintRole],default=None,default_factory=<dataclasses._MISSING_TYPE object at 0x106576110>,init=True,repr=True,hash=None,compare=True,metadata=mappingproxy({}),kw_only=False,_field_type=_FIELD), 'data_content_keys': Field(name='data_content_keys',type=typing.Optional[sdmx.model.v21.DataKeySet],default=None,default_factory=<dataclasses._MISSING_TYPE object at 0x106576110>,init=True,repr=True,hash=None,compare=True,metadata=mappingproxy({}),kw_only=False,_field_type=_FIELD), 'data_content_region': Field(name='data_content_region',type=typing.List[sdmx.model.common.CubeRegion],default=<dataclasses._MISSING_TYPE object at 0x106576110>,default_factory=<class 'list'>,init=True,repr=True,hash=None,compare=True,metadata=mappingproxy({}),kw_only=False,_field_type=_FIELD), 'content': Field(name='content',type=typing.Set[sdmx.model.common.ConstrainableArtefact],default=<dataclasses._MISSING_TYPE object at 0x106576110>,default_factory=<class 'set'>,init=True,repr=True,hash=None,compare=True,metadata=mappingproxy({}),kw_only=False,_field_type=_FIELD), 'metadata_content_region': Field(name='metadata_content_region',type=typing.Optional[sdmx.model.common.MetadataTargetRegion],default=None,default_factory=<dataclasses._MISSING_TYPE object at 0x106576110>,init=True,repr=True,hash=None,compare=True,metadata=mappingproxy({}),kw_only=False,_field_type=_FIELD)}\n",
      "__dataclass_params__ _DataclassParams(init=True,repr=True,eq=True,order=False,unsafe_hash=False,frozen=False)\n",
      "__dict__ {'annotations': [Annotation(id=None, title='A', type='ReleaseVersion', url=None, text=), Annotation(id='obs_count', title='3345040', type='sdmx_metrics', url=None, text=)], 'id': 'CR_A_DSD_EAG_UOE_FIN@DF_UOE_INDIC_FIN_PERSTUD', 'uri': None, 'urn': None, 'urn_group': {}, '_name': en: Availability (A) for DSD_EAG_UOE_FIN@DF_UOE_INDIC_FIN_PERSTUD, '_description': , 'version': '3.0', 'valid_from': '2024-10-03T15:41:29.497Z', 'valid_to': None, 'is_final': False, 'is_external_reference': False, 'service_url': None, 'structure_url': None, 'maintainer': <Agency OECD.EDU.IMEP>, 'role': ConstraintRole(role=<ConstraintRoleType.actual: 2>), 'data_content_keys': None, 'data_content_region': [<CubeRegion include <MemberSelection REF_AREA in {'ARG', 'AUS', 'AUT', 'BEL', 'BGR', 'BRA', 'CAN', 'CHE', 'CHL', 'CHN', 'CRI', 'CZE', 'DEU', 'DNK', 'ESP', 'EST', 'EU25', 'FIN', 'FRA', 'G20', 'GBR', 'GRC', 'HRV', 'HUN', 'IDN', 'IND', 'IRL', 'ISL', 'ISR', 'ITA', 'JPN', 'KOR', 'LTU', 'LUX', 'LVA', 'MEX', 'NLD', 'NOR', 'NZL', 'OECD', 'PER', 'POL', 'PRT', 'ROU', 'SAU', 'SVK', 'SVN', 'SWE', 'TUR', 'USA', 'ZAF'}> <MemberSelection MEASURE in {'FIN_PERSTUD'}> <MemberSelection EDUCATION_LEV in {'ISCED11_0', 'ISCED11_01', 'ISCED11_02', 'ISCED11_1', 'ISCED11_1T4', 'ISCED11_1T8', 'ISCED11_2', 'ISCED11_2_3', 'ISCED11_24', 'ISCED11_25', 'ISCED11_3', 'ISCED11_3_4', 'ISCED11_34', 'ISCED11_34_44', 'ISCED11_35', 'ISCED11_35_45', 'ISCED11_4', 'ISCED11_44', 'ISCED11_45', 'ISCED11_5', 'ISCED11_5T8', 'ISCED11_6T8'}> <MemberSelection EXP_SOURCE in {'_T', 'S13', 'S14', 'S1D_NON_EDU', 'S1D_NON_EDU_O', 'S2'}> <MemberSelection EXP_DESTINATION in {'INST_EDU', 'INST_EDU_PRIV', 'INST_EDU_PRIV_GOV', 'INST_EDU_PRIV_IND', 'INST_EDU_PUB'}> <MemberSelection EXPENDITURE_TYPE in {'ASERV', 'CORE', 'DIR_EXP', 'NORD', 'RD'}> <MemberSelection PRICE_BASE in {'_Z', 'Q', 'V'}> <MemberSelection UNIT_MEASURE in {'PT_B1GQ_POP', 'USD_PPP_ST', 'XDC_ST'}> <MemberSelection Q_SHEET in {'_Z'}> <MemberSelection TIME_PERIOD in {RangePeriod(start=StartPeriod(is_inclusive='true', period=datetime.datetime(1995, 1, 1, 0, 0)), end=EndPeriod(is_inclusive='true', period=datetime.datetime(2022, 12, 31, 0, 0)))}>>], 'content': {<DataflowDefinition OECD.EDU.IMEP:DSD_EAG_UOE_FIN@DF_UOE_INDIC_FIN_PERSTUD(3.0): Expenditure on educational institutions per full-time equivalent student>}, 'metadata_content_region': None}\n",
      "__doc__ ContentConstraint(annotations: List[sdmx.model.common.Annotation] = <factory>, id: str = '', uri: Optional[str] = None, urn: Optional[str] = None, urn_group: Dict = <factory>, name: sdmx.model.internationalstring.InternationalStringDescriptor = None, description: sdmx.model.internationalstring.InternationalStringDescriptor = None, version: Optional[str] = None, valid_from: Optional[str] = None, valid_to: Optional[str] = None, is_final: Optional[bool] = None, is_external_reference: Optional[bool] = None, service_url: Optional[str] = None, structure_url: Optional[str] = None, maintainer: Optional[ForwardRef('Agency')] = None, role: Optional[sdmx.model.common.ConstraintRole] = None, data_content_keys: Optional[sdmx.model.v21.DataKeySet] = None, data_content_region: List[sdmx.model.common.CubeRegion] = <factory>, content: Set[sdmx.model.common.ConstrainableArtefact] = <factory>, metadata_content_region: Optional[sdmx.model.common.MetadataTargetRegion] = None)\n",
      "__match_args__ ('annotations', 'id', 'uri', 'urn', 'urn_group', 'name', 'description', 'version', 'valid_from', 'valid_to', 'is_final', 'is_external_reference', 'service_url', 'structure_url', 'maintainer', 'role', 'data_content_keys', 'data_content_region', 'content', 'metadata_content_region')\n",
      "__module__ sdmx.model.v21\n",
      "_abc_impl <_abc._abc_data object at 0x10d1684c0>\n",
      "_description \n",
      "_name Availability (A) for DSD_EAG_UOE_FIN@DF_UOE_INDIC_FIN_PERSTUD\n",
      "annotations [Annotation(id=None, title='A', type='ReleaseVersion', url=None, text=), Annotation(id='obs_count', title='3345040', type='sdmx_metrics', url=None, text=)]\n",
      "content {<DataflowDefinition OECD.EDU.IMEP:DSD_EAG_UOE_FIN@DF_UOE_INDIC_FIN_PERSTUD(3.0): Expenditure on educational institutions per full-time equivalent student>}\n",
      "data_content_region [<CubeRegion include <MemberSelection REF_AREA in {'ARG', 'AUS', 'AUT', 'BEL', 'BGR', 'BRA', 'CAN', 'CHE', 'CHL', 'CHN', 'CRI', 'CZE', 'DEU', 'DNK', 'ESP', 'EST', 'EU25', 'FIN', 'FRA', 'G20', 'GBR', 'GRC', 'HRV', 'HUN', 'IDN', 'IND', 'IRL', 'ISL', 'ISR', 'ITA', 'JPN', 'KOR', 'LTU', 'LUX', 'LVA', 'MEX', 'NLD', 'NOR', 'NZL', 'OECD', 'PER', 'POL', 'PRT', 'ROU', 'SAU', 'SVK', 'SVN', 'SWE', 'TUR', 'USA', 'ZAF'}> <MemberSelection MEASURE in {'FIN_PERSTUD'}> <MemberSelection EDUCATION_LEV in {'ISCED11_0', 'ISCED11_01', 'ISCED11_02', 'ISCED11_1', 'ISCED11_1T4', 'ISCED11_1T8', 'ISCED11_2', 'ISCED11_2_3', 'ISCED11_24', 'ISCED11_25', 'ISCED11_3', 'ISCED11_3_4', 'ISCED11_34', 'ISCED11_34_44', 'ISCED11_35', 'ISCED11_35_45', 'ISCED11_4', 'ISCED11_44', 'ISCED11_45', 'ISCED11_5', 'ISCED11_5T8', 'ISCED11_6T8'}> <MemberSelection EXP_SOURCE in {'_T', 'S13', 'S14', 'S1D_NON_EDU', 'S1D_NON_EDU_O', 'S2'}> <MemberSelection EXP_DESTINATION in {'INST_EDU', 'INST_EDU_PRIV', 'INST_EDU_PRIV_GOV', 'INST_EDU_PRIV_IND', 'INST_EDU_PUB'}> <MemberSelection EXPENDITURE_TYPE in {'ASERV', 'CORE', 'DIR_EXP', 'NORD', 'RD'}> <MemberSelection PRICE_BASE in {'_Z', 'Q', 'V'}> <MemberSelection UNIT_MEASURE in {'PT_B1GQ_POP', 'USD_PPP_ST', 'XDC_ST'}> <MemberSelection Q_SHEET in {'_Z'}> <MemberSelection TIME_PERIOD in {RangePeriod(start=StartPeriod(is_inclusive='true', period=datetime.datetime(1995, 1, 1, 0, 0)), end=EndPeriod(is_inclusive='true', period=datetime.datetime(2022, 12, 31, 0, 0)))}>>]\n",
      "description \n",
      "id CR_A_DSD_EAG_UOE_FIN@DF_UOE_INDIC_FIN_PERSTUD\n",
      "maintainer OECD.EDU.IMEP\n",
      "name Availability (A) for DSD_EAG_UOE_FIN@DF_UOE_INDIC_FIN_PERSTUD\n",
      "role ConstraintRole(role=<ConstraintRoleType.actual: 2>)\n",
      "valid_from 2024-10-03T15:41:29.497Z\n",
      "version 3.0\n"
     ]
    }
   ],
   "source": [
    "\n",
    "for attr in dir(cc):\n",
    "    content = getattr(cc, attr)\n",
    "    if not content:\n",
    "        continue\n",
    "    if not callable(content):\n",
    "        print(attr, content)"
   ]
  },
  {
   "cell_type": "code",
   "execution_count": 305,
   "metadata": {},
   "outputs": [
    {
     "name": "stdout",
     "output_type": "stream",
     "text": [
      "REF_AREA 51\n",
      "MEASURE 1\n",
      "EDUCATION_LEV 22\n",
      "EXP_SOURCE 6\n",
      "EXP_DESTINATION 5\n",
      "EXPENDITURE_TYPE 5\n",
      "PRICE_BASE 3\n",
      "UNIT_MEASURE 3\n",
      "Q_SHEET 1\n",
      "TIME_PERIOD 1\n"
     ]
    }
   ],
   "source": [
    "#  'included','member','to_query_string'\n",
    "df = sdmx.Client(\"OECD\").dataflow(id)\n",
    "cc = df.constraint['CR_A_DSD_EAG_UOE_FIN@DF_UOE_INDIC_FIN_PERSTUD']\n",
    "for k, v in cc.data_content_region[0].member.items():\n",
    "    print(k.id, len(v.values))"
   ]
  },
  {
   "cell_type": "code",
   "execution_count": 301,
   "metadata": {},
   "outputs": [
    {
     "data": {
      "text/plain": [
       "51"
      ]
     },
     "execution_count": 301,
     "metadata": {},
     "output_type": "execute_result"
    }
   ],
   "source": [
    "len(v.values)"
   ]
  },
  {
   "cell_type": "code",
   "execution_count": 303,
   "metadata": {},
   "outputs": [
    {
     "data": {
      "text/plain": [
       "['__annotations__',\n",
       " '__class__',\n",
       " '__contains__',\n",
       " '__dataclass_fields__',\n",
       " '__dataclass_params__',\n",
       " '__delattr__',\n",
       " '__dict__',\n",
       " '__dir__',\n",
       " '__doc__',\n",
       " '__eq__',\n",
       " '__format__',\n",
       " '__ge__',\n",
       " '__getattribute__',\n",
       " '__getstate__',\n",
       " '__gt__',\n",
       " '__hash__',\n",
       " '__init__',\n",
       " '__init_subclass__',\n",
       " '__le__',\n",
       " '__lt__',\n",
       " '__match_args__',\n",
       " '__module__',\n",
       " '__ne__',\n",
       " '__new__',\n",
       " '__post_init__',\n",
       " '__reduce__',\n",
       " '__reduce_ex__',\n",
       " '__repr__',\n",
       " '__setattr__',\n",
       " '__sizeof__',\n",
       " '__str__',\n",
       " '__subclasshook__',\n",
       " '__weakref__',\n",
       " '_preserve',\n",
       " 'annotations',\n",
       " 'compare',\n",
       " 'concept_identity',\n",
       " 'concept_role',\n",
       " 'eval_annotation',\n",
       " 'get_annotation',\n",
       " 'id',\n",
       " 'local_representation',\n",
       " 'order',\n",
       " 'pop_annotation',\n",
       " 'uri',\n",
       " 'urn',\n",
       " 'urn_group']"
      ]
     },
     "execution_count": 303,
     "metadata": {},
     "output_type": "execute_result"
    }
   ],
   "source": [
    "dir(k)"
   ]
  },
  {
   "cell_type": "code",
   "execution_count": 100,
   "metadata": {},
   "outputs": [
    {
     "data": {
      "text/plain": [
       "{<Resource.actualconstraint: 'actualconstraint'>: True,\n",
       " <Resource.agencyscheme: 'agencyscheme'>: True,\n",
       " <Resource.allowedconstraint: 'allowedconstraint'>: True,\n",
       " <Resource.attachementconstraint: 'attachementconstraint'>: False,\n",
       " <Resource.availableconstraint: 'availableconstraint'>: False,\n",
       " <Resource.categorisation: 'categorisation'>: True,\n",
       " <Resource.categoryscheme: 'categoryscheme'>: True,\n",
       " <Resource.codelist: 'codelist'>: True,\n",
       " <Resource.conceptscheme: 'conceptscheme'>: True,\n",
       " <Resource.contentconstraint: 'contentconstraint'>: True,\n",
       " <Resource.customtypescheme: 'customtypescheme'>: False,\n",
       " <Resource.data: 'data'>: True,\n",
       " <Resource.dataconsumerscheme: 'dataconsumerscheme'>: False,\n",
       " <Resource.dataflow: 'dataflow'>: True,\n",
       " <Resource.dataproviderscheme: 'dataproviderscheme'>: False,\n",
       " <Resource.datastructure: 'datastructure'>: True,\n",
       " <Resource.hierarchicalcodelist: 'hierarchicalcodelist'>: True,\n",
       " <Resource.metadata: 'metadata'>: True,\n",
       " <Resource.metadataflow: 'metadataflow'>: False,\n",
       " <Resource.metadatastructure: 'metadatastructure'>: True,\n",
       " <Resource.namepersonalisationscheme: 'namepersonalisationscheme'>: False,\n",
       " <Resource.organisationscheme: 'organisationscheme'>: False,\n",
       " <Resource.organisationunitscheme: 'organisationunitscheme'>: False,\n",
       " <Resource.process: 'process'>: False,\n",
       " <Resource.provisionagreement: 'provisionagreement'>: False,\n",
       " <Resource.registration: 'registration'>: True,\n",
       " <Resource.reportingtaxonomy: 'reportingtaxonomy'>: False,\n",
       " <Resource.rulesetscheme: 'rulesetscheme'>: False,\n",
       " <Resource.schema: 'schema'>: False,\n",
       " <Resource.structure: 'structure'>: False,\n",
       " <Resource.structureset: 'structureset'>: False,\n",
       " <Resource.transformationscheme: 'transformationscheme'>: False,\n",
       " <Resource.userdefinedoperatorscheme: 'userdefinedoperatorscheme'>: False,\n",
       " <Resource.vtlmappingscheme: 'vtlmappingscheme'>: False,\n",
       " 'preview': True,\n",
       " 'structure-specific data': True}"
      ]
     },
     "execution_count": 100,
     "metadata": {},
     "output_type": "execute_result"
    }
   ],
   "source": [
    "root.source.supports"
   ]
  },
  {
   "cell_type": "code",
   "execution_count": 96,
   "metadata": {},
   "outputs": [],
   "source": [
    "# organisationscheme, 'actualconstraint', 'agencyscheme', 'allowedconstraint', 'attachementconstraint', 'availableconstraint',\n",
    "# 'categorisation', 'categoryscheme', 'clear_cache', 'codelist', 'conceptscheme', 'contentconstraint', 'data', 'dataflow',\n"
   ]
  },
  {
   "cell_type": "code",
   "execution_count": 81,
   "metadata": {},
   "outputs": [
    {
     "data": {
      "text/plain": [
       "['__annotations__',\n",
       " '__class__',\n",
       " '__delattr__',\n",
       " '__dict__',\n",
       " '__dir__',\n",
       " '__doc__',\n",
       " '__eq__',\n",
       " '__format__',\n",
       " '__ge__',\n",
       " '__getattr__',\n",
       " '__getattribute__',\n",
       " '__getstate__',\n",
       " '__gt__',\n",
       " '__hash__',\n",
       " '__init__',\n",
       " '__init_subclass__',\n",
       " '__le__',\n",
       " '__lt__',\n",
       " '__module__',\n",
       " '__ne__',\n",
       " '__new__',\n",
       " '__reduce__',\n",
       " '__reduce_ex__',\n",
       " '__repr__',\n",
       " '__setattr__',\n",
       " '__sizeof__',\n",
       " '__str__',\n",
       " '__subclasshook__',\n",
       " '__weakref__',\n",
       " '_handle_get_kwargs',\n",
       " '_make_key',\n",
       " '_request_from_args',\n",
       " '_request_from_url',\n",
       " '_send_kwargs',\n",
       " 'actualconstraint',\n",
       " 'agencyscheme',\n",
       " 'allowedconstraint',\n",
       " 'attachementconstraint',\n",
       " 'availableconstraint',\n",
       " 'cache',\n",
       " 'categorisation',\n",
       " 'categoryscheme',\n",
       " 'clear_cache',\n",
       " 'codelist',\n",
       " 'conceptscheme',\n",
       " 'contentconstraint',\n",
       " 'customtypescheme',\n",
       " 'data',\n",
       " 'dataconsumerscheme',\n",
       " 'dataflow',\n",
       " 'dataproviderscheme',\n",
       " 'datastructure',\n",
       " 'get',\n",
       " 'hierarchicalcodelist',\n",
       " 'metadata',\n",
       " 'metadataflow',\n",
       " 'metadatastructure',\n",
       " 'namepersonalisationscheme',\n",
       " 'organisationscheme',\n",
       " 'organisationunitscheme',\n",
       " 'preview_data',\n",
       " 'process',\n",
       " 'provisionagreement',\n",
       " 'registration',\n",
       " 'reportingtaxonomy',\n",
       " 'rulesetscheme',\n",
       " 'schema',\n",
       " 'series_keys',\n",
       " 'session',\n",
       " 'source',\n",
       " 'structure',\n",
       " 'structureset',\n",
       " 'timeout',\n",
       " 'transformationscheme',\n",
       " 'userdefinedoperatorscheme',\n",
       " 'vtlmappingscheme']"
      ]
     },
     "execution_count": 81,
     "metadata": {},
     "output_type": "execute_result"
    }
   ],
   "source": [
    "dir(root)"
   ]
  },
  {
   "cell_type": "code",
   "execution_count": 2,
   "metadata": {},
   "outputs": [],
   "source": [
    "DSD_ID = \"DSD_EAG_UOE_FIN\"\n",
    "DATAFLOW_ID = \"DF_UOE_INDIC_FIN_PERSTUD\"\n",
    "dsd = sdmx.Client(\"OECD\").datastructure(DSD_ID)\n",
    "#dataflow_definition = sdmx.Client(\"OECD\").datastructure(DSD_ID).dataflow[DSD_ID + '@' + DATAFLOW_ID]\n",
    "dataflow_definition = dsd.dataflow[DSD_ID + '@' + DATAFLOW_ID]"
   ]
  },
  {
   "cell_type": "markdown",
   "metadata": {},
   "source": [
    "## 1. List available edu-fin dataflows"
   ]
  },
  {
   "cell_type": "code",
   "execution_count": 67,
   "metadata": {},
   "outputs": [
    {
     "name": "stdout",
     "output_type": "stream",
     "text": [
      "DSD_EAG_UOE_FIN@DF_UOE_FIN_INDIC_SHARE_EDU_GOV Share of total government expenditure on education\n",
      "DSD_EAG_UOE_FIN@DF_UOE_FIN_INDIC_SOURCE_NATURE Full dataset - Indicators, source, destination and nature of expenditure on education\n",
      "DSD_EAG_UOE_FIN@DF_UOE_FIN_NATURE_CUR_CAP Capital and total current expenditure on education (from all sources)\n",
      "DSD_EAG_UOE_FIN@DF_UOE_FIN_NATURE_STAFF Expenditure on staff compensation in educational institutions (from all sources)\n",
      "DSD_EAG_UOE_FIN@DF_UOE_FIN_SOURCE_GV_PR_NDOM Distribution of government, private and non-domestic expenditure on educational institutions\n",
      "DSD_EAG_UOE_FIN@DF_UOE_INDIC_FIN_PERSTUD Expenditure on educational institutions per full-time equivalent student\n"
     ]
    }
   ],
   "source": [
    "for df_id in dsd.dataflow:\n",
    "    print(df_id, dsd.dataflow[df_id].name)"
   ]
  },
  {
   "cell_type": "markdown",
   "metadata": {},
   "source": [
    "### codelists"
   ]
  },
  {
   "cell_type": "code",
   "execution_count": 254,
   "metadata": {},
   "outputs": [
    {
     "name": "stdout",
     "output_type": "stream",
     "text": [
      "AUS Australia\n",
      "AUT Austria\n",
      "BEL Belgium\n",
      "CAN Canada\n",
      "CHL Chile\n"
     ]
    }
   ],
   "source": [
    "# cl_ref_area = dsd.codelist['CL_AREA']\n",
    "# print(type(cl_ref_area))\n",
    "# print(cl_ref_area.name)\n",
    "  \n",
    "# print the first 5 items in the codelist CL_AREA\n",
    "for i, item in enumerate(dsd.codelist['CL_AREA']):\n",
    "    if i < 5:\n",
    "        print(item.id, item.name)"
   ]
  },
  {
   "cell_type": "code",
   "execution_count": 265,
   "metadata": {},
   "outputs": [
    {
     "data": {
      "text/plain": [
       "['ConstraintType',\n",
       " 'MemberSelection',\n",
       " 'MemberValue',\n",
       " '__annotations__',\n",
       " '__class__',\n",
       " '__dataclass_fields__',\n",
       " '__dataclass_params__',\n",
       " '__delattr__',\n",
       " '__dict__',\n",
       " '__dir__',\n",
       " '__doc__',\n",
       " '__eq__',\n",
       " '__format__',\n",
       " '__ge__',\n",
       " '__getattribute__',\n",
       " '__getstate__',\n",
       " '__gt__',\n",
       " '__hash__',\n",
       " '__init__',\n",
       " '__init_subclass__',\n",
       " '__le__',\n",
       " '__lt__',\n",
       " '__match_args__',\n",
       " '__module__',\n",
       " '__ne__',\n",
       " '__new__',\n",
       " '__post_init__',\n",
       " '__reduce__',\n",
       " '__reduce_ex__',\n",
       " '__repr__',\n",
       " '__setattr__',\n",
       " '__sizeof__',\n",
       " '__str__',\n",
       " '__subclasshook__',\n",
       " '__weakref__',\n",
       " '_description',\n",
       " '_group_dimensions',\n",
       " '_name',\n",
       " '_preserve',\n",
       " '_repr_kw',\n",
       " 'annotations',\n",
       " 'attributes',\n",
       " 'compare',\n",
       " 'description',\n",
       " 'dimensions',\n",
       " 'eval_annotation',\n",
       " 'from_keys',\n",
       " 'get_annotation',\n",
       " 'group_dimensions',\n",
       " 'grouping',\n",
       " 'id',\n",
       " 'is_external_reference',\n",
       " 'is_final',\n",
       " 'iter_keys',\n",
       " 'maintainer',\n",
       " 'make_constraint',\n",
       " 'make_key',\n",
       " 'measures',\n",
       " 'name',\n",
       " 'pop_annotation',\n",
       " 'replace_grouping',\n",
       " 'service_url',\n",
       " 'structure_url',\n",
       " 'uri',\n",
       " 'urn',\n",
       " 'urn_group',\n",
       " 'valid_from',\n",
       " 'valid_to',\n",
       " 'version']"
      ]
     },
     "execution_count": 265,
     "metadata": {},
     "output_type": "execute_result"
    }
   ],
   "source": [
    "#['contentConstraints'][0]['cubeRegions'][0]['keyValues']\n",
    "dir(dataflow_definition.structure)"
   ]
  },
  {
   "cell_type": "markdown",
   "metadata": {},
   "source": [
    "### DataFlow related metadata"
   ]
  },
  {
   "cell_type": "code",
   "execution_count": 5,
   "metadata": {},
   "outputs": [
    {
     "name": "stdout",
     "output_type": "stream",
     "text": [
      "Expenditure on educational institutions per full-time equivalent student\n",
      "This dataset contains data on expenditure per full-time equivalent student and per full-time equivalent student as a percentage of GPD per capita. The default table displays data for 2021 in current USD PPP and as a percentage of GDP per capita, from all expenditure sources, and unfiltered by type of expenditure. The selection can be changed to display data: by year, by source of expenditure, by destination of expenditure and by type of expenditure. Please note that the filters are inter related, meaning that selection in one category may impact the possibility to select options in another category. </p><p>For more information, please consult <a href=\"https://doi.org/10.1787/c00cad36-en\"><i>Education at a Glance 2024</i></a> and the <a href=\"https://doi.org/10.1787/9789264304444-en\"><i>OECD Handbook for Internationally Comparative Education Statistics: Concepts, Standards, Definitions and Classifications</i></a>. Additional details regarding the methodology used, references to the sources, and specific notes for each country can be found in <a href=\"https://doi.org/10.1787/e7d20315-en\"><i>Education at a Glance 2024 Sources, Methodologies and Technical Notes</i></a>.\n",
      "OECD.EDU.IMEP\n",
      "DSD_EAG_UOE_FIN\n",
      "DSD_EAG_UOE_FIN@DF_UOE_INDIC_FIN_PERSTUD\n"
     ]
    }
   ],
   "source": [
    "# name and description of the dataflow\n",
    "name = dataflow_definition.name\n",
    "description = dataflow_definition.description\n",
    "maintainer = dataflow_definition.maintainer\n",
    "structure = dataflow_definition.structure\n",
    "id = dataflow_definition.id\n",
    "print(name)\n",
    "print(description)\n",
    "print(maintainer)\n",
    "print(structure)\n",
    "print(id)\n"
   ]
  },
  {
   "cell_type": "code",
   "execution_count": 66,
   "metadata": {},
   "outputs": [],
   "source": [
    "# this seems interesting, but not sure how to use it ?!\n",
    "# for annotation in dataflow_definition.annotations:\n",
    "#     print(annotation.title, annotation.type)\n",
    "# dataflow_definition.annotations \n",
    "# dataflow_definition.get_annotation(title='REF_AREA')"
   ]
  },
  {
   "cell_type": "code",
   "execution_count": 6,
   "metadata": {},
   "outputs": [],
   "source": [
    "root = sdmx.Client(\"OECD\")"
   ]
  },
  {
   "cell_type": "code",
   "execution_count": 47,
   "metadata": {},
   "outputs": [],
   "source": [
    "dsd = root.datastructure('DSD_EAG_UOE_FIN')\n",
    "dsd_attributes = ['codelist', 'concept_scheme', 'dataflow', 'structure']"
   ]
  },
  {
   "cell_type": "code",
   "execution_count": 51,
   "metadata": {},
   "outputs": [
    {
     "name": "stdout",
     "output_type": "stream",
     "text": [
      "CL_AREA Codelist for reference areas and geocoding 502\n",
      "CL_EDUCATION_LEV_ISCED11 Code list for Education level, ISCED11 166\n",
      "CL_PRICES Codelist for Prices 14\n",
      "CL_UNIT_MEASURE Codelist for Unit of measure 1002\n",
      "CL_EXPENDITURE_TYPE Expenditure type 33\n",
      "CL_INST_TYPE_EDU Educational institution types and sectors 18\n",
      "CL_INTENSITY Intensity 5\n",
      "CL_MEASURE_FIN Codelist for data element that represents a simple aggregation and which takes one or more vectors as arguments and returns a scalar 11\n",
      "CL_Q_SHEET Questionnaire sheet 3\n",
      "CL_Q_SHEET_ROW_ID Questionnaire row ID 182\n",
      "CL_DECIMALS Decimals 16\n",
      "CL_OBS_STATUS Observation Status 20\n",
      "CL_UNIT_MULT Code list for the Unit Multiplier 31\n"
     ]
    }
   ],
   "source": [
    "all_codelist_ids = dsd.codelist.keys()\n",
    "for code_list_id in all_codelist_ids:\n",
    "    print(code_list_id, dsd.codelist[code_list_id].name, len(dsd.codelist[code_list_id].items))\n",
    "    "
   ]
  },
  {
   "cell_type": "code",
   "execution_count": 63,
   "metadata": {},
   "outputs": [
    {
     "name": "stdout",
     "output_type": "stream",
     "text": [
      "<class 'sdmx.model.common.Codelist'>\n",
      "Codelist for reference areas and geocoding\n",
      "AUS Australia\n",
      "AUT Austria\n",
      "BEL Belgium\n",
      "CAN Canada\n",
      "CHL Chile\n"
     ]
    }
   ],
   "source": [
    "cl_ref_area = dsd.codelist['CL_AREA']\n",
    "print(type(cl_ref_area))\n",
    "print(cl_ref_area.name)\n",
    "  \n",
    "# print the first 5 items in the codelist\n",
    "for i, item in enumerate(cl_ref_area):\n",
    "    if i < 5:\n",
    "        print(item.id, item.name)\n"
   ]
  },
  {
   "cell_type": "markdown",
   "metadata": {},
   "source": [
    "### dataflow"
   ]
  },
  {
   "cell_type": "code",
   "execution_count": 66,
   "metadata": {},
   "outputs": [
    {
     "name": "stdout",
     "output_type": "stream",
     "text": [
      "DSD_EAG_UOE_FIN@DF_UOE_FIN_INDIC_SHARE_EDU_GOV Share of total government expenditure on education\n",
      "DSD_EAG_UOE_FIN@DF_UOE_FIN_INDIC_SOURCE_NATURE Full dataset - Indicators, source, destination and nature of expenditure on education\n",
      "DSD_EAG_UOE_FIN@DF_UOE_FIN_NATURE_CUR_CAP Capital and total current expenditure on education (from all sources)\n",
      "DSD_EAG_UOE_FIN@DF_UOE_FIN_NATURE_STAFF Expenditure on staff compensation in educational institutions (from all sources)\n",
      "DSD_EAG_UOE_FIN@DF_UOE_FIN_SOURCE_GV_PR_NDOM Distribution of government, private and non-domestic expenditure on educational institutions\n",
      "DSD_EAG_UOE_FIN@DF_UOE_INDIC_FIN_PERSTUD Expenditure on educational institutions per full-time equivalent student\n"
     ]
    }
   ],
   "source": [
    "for df_id in dsd.dataflow:\n",
    "    print(df_id, dsd.dataflow[df_id].name)"
   ]
  },
  {
   "cell_type": "markdown",
   "metadata": {},
   "source": [
    "### A very slow way of getting the dimension ids"
   ]
  },
  {
   "cell_type": "code",
   "execution_count": null,
   "metadata": {},
   "outputs": [],
   "source": [
    "# this is slow ...\n",
    "# data = root.data(dataflow_definition.id)\n",
    "\n",
    "for dim in data.structure.dimensions:\n",
    "    print(dim.id)"
   ]
  },
  {
   "cell_type": "code",
   "execution_count": null,
   "metadata": {},
   "outputs": [],
   "source": []
  },
  {
   "cell_type": "code",
   "execution_count": null,
   "metadata": {},
   "outputs": [],
   "source": [
    "client_methods = ['actualconstraint', 'agencyscheme', 'allowedconstraint', 'attachementconstraint', 'availableconstraint', 'cache', 'categorisation', 'categoryscheme', 'clear_cache',\n",
    "                  'codelist', 'conceptscheme', 'contentconstraint', 'customtypescheme', 'data', 'dataconsumerscheme', 'dataflow', 'dataproviderscheme', 'datastructure', 'get',\n",
    "                  'hierarchicalcodelist', 'metadata', 'metadataflow', 'metadatastructure', 'namepersonalisationscheme', 'organisationscheme', 'organisationunitscheme', 'preview_data',\n",
    "                  'process', 'provisionagreement', 'registration', 'reportingtaxonomy', 'rulesetscheme', 'schema', 'series_keys', 'session', 'source', 'structure', 'structureset', \n",
    "                  'timeout', 'transformationscheme', 'userdefinedoperatorscheme', 'vtlmappingscheme']\n",
    "interesting_client_methods = ['data', 'dataflow', 'datastructure', 'metadata', 'metadataflow', 'metadatastructure', 'source', 'structure', 'structureset', 'preview_data', 'schema']"
   ]
  },
  {
   "cell_type": "code",
   "execution_count": 46,
   "metadata": {},
   "outputs": [
    {
     "ename": "AttributeError",
     "evalue": "'StructureMessage' object has no attribute 'codelists'",
     "output_type": "error",
     "traceback": [
      "\u001b[0;31m---------------------------------------------------------------------------\u001b[0m",
      "\u001b[0;31mAttributeError\u001b[0m                            Traceback (most recent call last)",
      "Cell \u001b[0;32mIn[46], line 2\u001b[0m\n\u001b[1;32m      1\u001b[0m dsd \u001b[38;5;241m=\u001b[39m root\u001b[38;5;241m.\u001b[39mdatastructure(\u001b[38;5;124m'\u001b[39m\u001b[38;5;124mDSD_EAG_UOE_FIN\u001b[39m\u001b[38;5;124m'\u001b[39m)\n\u001b[0;32m----> 2\u001b[0m all_codelist_ids \u001b[38;5;241m=\u001b[39m \u001b[43mdsd\u001b[49m\u001b[38;5;241;43m.\u001b[39;49m\u001b[43mcodelists\u001b[49m\u001b[38;5;241m.\u001b[39mkeys()\n",
      "\u001b[0;31mAttributeError\u001b[0m: 'StructureMessage' object has no attribute 'codelists'"
     ]
    }
   ],
   "source": [
    "dsd = root.datastructure('DSD_EAG_UOE_FIN')\n",
    "all_codelist_ids = dsd.codelist.keys()"
   ]
  },
  {
   "cell_type": "code",
   "execution_count": 45,
   "metadata": {},
   "outputs": [
    {
     "data": {
      "text/plain": [
       "{'AUS': <Code AUS: Australia>,\n",
       " 'AUT': <Code AUT: Austria>,\n",
       " 'BEL': <Code BEL: Belgium>,\n",
       " 'CAN': <Code CAN: Canada>,\n",
       " 'CHL': <Code CHL: Chile>,\n",
       " 'COL': <Code COL: Colombia>,\n",
       " 'CRI': <Code CRI: Costa Rica>,\n",
       " 'CZE': <Code CZE: Czechia>,\n",
       " 'DNK': <Code DNK: Denmark>,\n",
       " 'EST': <Code EST: Estonia>,\n",
       " 'FIN': <Code FIN: Finland>,\n",
       " 'FRA': <Code FRA: France>,\n",
       " 'DEU': <Code DEU: Germany>,\n",
       " 'GRC': <Code GRC: Greece>,\n",
       " 'HUN': <Code HUN: Hungary>,\n",
       " 'ISL': <Code ISL: Iceland>,\n",
       " 'IRL': <Code IRL: Ireland>,\n",
       " 'ISR': <Code ISR: Israel>,\n",
       " 'ITA': <Code ITA: Italy>,\n",
       " 'JPN': <Code JPN: Japan>,\n",
       " 'KOR': <Code KOR: Korea>,\n",
       " 'LVA': <Code LVA: Latvia>,\n",
       " 'LTU': <Code LTU: Lithuania>,\n",
       " 'LUX': <Code LUX: Luxembourg>,\n",
       " 'MEX': <Code MEX: Mexico>,\n",
       " 'NLD': <Code NLD: Netherlands>,\n",
       " 'NZL': <Code NZL: New Zealand>,\n",
       " 'NOR': <Code NOR: Norway>,\n",
       " 'POL': <Code POL: Poland>,\n",
       " 'PRT': <Code PRT: Portugal>,\n",
       " 'SVK': <Code SVK: Slovak Republic>,\n",
       " 'SVN': <Code SVN: Slovenia>,\n",
       " 'ESP': <Code ESP: Spain>,\n",
       " 'SWE': <Code SWE: Sweden>,\n",
       " 'CHE': <Code CHE: Switzerland>,\n",
       " 'TUR': <Code TUR: Türkiye>,\n",
       " 'GBR': <Code GBR: United Kingdom>,\n",
       " 'USA': <Code USA: United States>,\n",
       " 'G4E': <Code G4E: Major four European countries>,\n",
       " 'E4M': <Code E4M: Major four euro area countries>,\n",
       " 'G7': <Code G7: G7>,\n",
       " 'G20': <Code G20: G20>,\n",
       " 'G20XEU': <Code G20XEU: G20 excl. European Union>,\n",
       " 'G20OECD': <Code G20OECD: G20 OECD countries>,\n",
       " 'G20XOECD': <Code G20XOECD: G20 non-OECD economies>,\n",
       " 'G20_A': <Code G20_A: G20 advanced economies>,\n",
       " 'G20_E': <Code G20_E: G20 emerging economies>,\n",
       " 'EA': <Code EA: Euro area>,\n",
       " 'EA00': <Code EA00: Euro area (evolving composition)>,\n",
       " 'EA11': <Code EA11: Euro area (11 countries)>,\n",
       " 'EA12': <Code EA12: Euro area (12 countries)>,\n",
       " 'EA13': <Code EA13: Euro area (13 countries)>,\n",
       " 'EA15': <Code EA15: Euro area (15 countries)>,\n",
       " 'EA16': <Code EA16: Euro area (16 countries)>,\n",
       " 'EA17': <Code EA17: Euro area (17 countries)>,\n",
       " 'EA18': <Code EA18: Euro area (18 countries)>,\n",
       " 'EA19': <Code EA19: Euro area (19 countries)>,\n",
       " 'EA20': <Code EA20: Euro area (20 countries)>,\n",
       " 'EA_X': <Code EA_X: Euro area unspecified>,\n",
       " 'EA00_X': <Code EA00_X: Euro area (evolving composition) unspecified>,\n",
       " 'EU': <Code EU: European Union>,\n",
       " 'EU00': <Code EU00: European Union (evolving composition)>,\n",
       " 'EU15': <Code EU15: European Union (15 countries)>,\n",
       " 'EU25': <Code EU25: European Union (25 countries)>,\n",
       " 'EU25_REP': <Code EU25_REP: European Union (25 countries) average country>,\n",
       " 'EU27': <Code EU27: European Union (27 countries)>,\n",
       " 'EU28': <Code EU28: European Union (28 countries)>,\n",
       " 'EU27_2020': <Code EU27_2020: European Union (27 countries from 01/02/2020)>,\n",
       " 'EU28XEU15': <Code EU28XEU15: European Union 28 excluding European Union 15 countries>,\n",
       " 'EU_X': <Code EU_X: European Union unspecified>,\n",
       " 'EU00_X': <Code EU00_X: European Union (evolving composition) unspecified>,\n",
       " 'EUOECD': <Code EUOECD: European Union countries in OECD>,\n",
       " 'EU13OECD': <Code EU13OECD: European Union (13 countries) in OECD>,\n",
       " 'EU14OECD': <Code EU14OECD: European Union (14 countries) in OECD>,\n",
       " 'EU19OECD': <Code EU19OECD: European Union (19 countries) in OECD>,\n",
       " 'EU20OECD': <Code EU20OECD: European Union (20 countries) in OECD>,\n",
       " 'EU21OECD': <Code EU21OECD: European Union (21 countries) in OECD>,\n",
       " 'EU22OECD': <Code EU22OECD: European Union (22 countries) in OECD>,\n",
       " 'EU22OECD_2020': <Code EU22OECD_2020: European Union (22 countries) in OECD (from 01/02/2020)>,\n",
       " 'EU23OECD': <Code EU23OECD: European Union (23 countries) in OECD>,\n",
       " 'OECD': <Code OECD: OECD>,\n",
       " 'OECD00': <Code OECD00: OECD (evolving composition)>,\n",
       " 'OECD26': <Code OECD26: OECD (26 countries)>,\n",
       " 'OECD30': <Code OECD30: OECD (30 countries)>,\n",
       " 'OECD31': <Code OECD31: OECD (31 countries)>,\n",
       " 'OECD34': <Code OECD34: OECD (34 countries)>,\n",
       " 'OECD35': <Code OECD35: OECD (35 countries)>,\n",
       " 'OECD36': <Code OECD36: OECD (36 countries)>,\n",
       " 'OECD37': <Code OECD37: OECD (37 countries)>,\n",
       " 'OECD38': <Code OECD38: OECD (38 countries)>,\n",
       " 'OECDXEA': <Code OECDXEA: OECD excluding the euro area>,\n",
       " 'OECDXUSAJPNEA17': <Code OECDXUSAJPNEA17: OECD countries except USA, JPN and euro area>,\n",
       " 'OECDA': <Code OECDA: OECD America>,\n",
       " 'OECDS': <Code OECDS: OECD Asia>,\n",
       " 'OECDSO': <Code OECDSO: OECD Asia Oceania>,\n",
       " 'OECDE': <Code OECDE: OECD Europe>,\n",
       " 'OECDXG7': <Code OECDXG7: OECD smaller countries>,\n",
       " 'OECD_X': <Code OECD_X: OECD unspecified>,\n",
       " 'OECD00_X': <Code OECD00_X: OECD (evolving composition) unspecified>,\n",
       " 'OECD_REP': <Code OECD_REP: OECD average country>,\n",
       " 'WXOECD': <Code WXOECD: Non-OECD economies>,\n",
       " 'AFG': <Code AFG: Afghanistan>,\n",
       " 'ALA': <Code ALA: Åland>,\n",
       " 'ALB': <Code ALB: Albania>,\n",
       " 'DZA': <Code DZA: Algeria>,\n",
       " 'ASM': <Code ASM: American Samoa>,\n",
       " 'AGO': <Code AGO: Angola>,\n",
       " 'AND': <Code AND: Andorra>,\n",
       " 'ATA': <Code ATA: Antarctica>,\n",
       " 'AIA': <Code AIA: Anguilla>,\n",
       " 'ATG': <Code ATG: Antigua and Barbuda>,\n",
       " 'ARG': <Code ARG: Argentina>,\n",
       " 'ARM': <Code ARM: Armenia>,\n",
       " 'ABW': <Code ABW: Aruba>,\n",
       " 'AZE': <Code AZE: Azerbaijan>,\n",
       " 'BHS': <Code BHS: Bahamas>,\n",
       " 'BHR': <Code BHR: Bahrain>,\n",
       " 'GGY': <Code GGY: Bailiwick of Guernsey>,\n",
       " 'BGD': <Code BGD: Bangladesh>,\n",
       " 'BRB': <Code BRB: Barbados>,\n",
       " 'BLR': <Code BLR: Belarus>,\n",
       " 'BLZ': <Code BLZ: Belize>,\n",
       " 'BEN': <Code BEN: Benin>,\n",
       " 'BMU': <Code BMU: Bermuda>,\n",
       " 'BTN': <Code BTN: Bhutan>,\n",
       " 'BOL': <Code BOL: Bolivia>,\n",
       " 'BES': <Code BES: Bonaire, Saba, Saint Eustatius>,\n",
       " 'BIH': <Code BIH: Bosnia and Herzegovina>,\n",
       " 'BWA': <Code BWA: Botswana>,\n",
       " 'BVT': <Code BVT: Bouvet Island>,\n",
       " 'BRA': <Code BRA: Brazil>,\n",
       " 'IOT': <Code IOT: British Indian Ocean Territory>,\n",
       " 'VGB': <Code VGB: British Virgin Islands>,\n",
       " 'BRN': <Code BRN: Brunei Darussalam>,\n",
       " 'BGR': <Code BGR: Bulgaria>,\n",
       " 'BFA': <Code BFA: Burkina Faso>,\n",
       " 'BDI': <Code BDI: Burundi>,\n",
       " 'CPV': <Code CPV: Cabo Verde>,\n",
       " 'KHM': <Code KHM: Cambodia>,\n",
       " 'CMR': <Code CMR: Cameroon>,\n",
       " 'CYM': <Code CYM: Cayman Islands>,\n",
       " 'CAF': <Code CAF: Central African Republic>,\n",
       " 'TCD': <Code TCD: Chad>,\n",
       " 'CHN': <Code CHN: China (People’s Republic of)>,\n",
       " 'CXR': <Code CXR: Christmas Island>,\n",
       " 'CPT': <Code CPT: Clipperton Island>,\n",
       " 'COM': <Code COM: Comoros>,\n",
       " 'CCK': <Code CCK: Cocos (Keeling) Islands>,\n",
       " 'COG': <Code COG: Congo>,\n",
       " 'COK': <Code COK: Cook Islands>,\n",
       " 'CIV': <Code CIV: Côte d’Ivoire>,\n",
       " 'HRV': <Code HRV: Croatia>,\n",
       " 'CUB': <Code CUB: Cuba>,\n",
       " 'CUW': <Code CUW: Curaçao>,\n",
       " 'CYP': <Code CYP: Cyprus>,\n",
       " 'PRK': <Code PRK: Democratic People’s Republic of Korea>,\n",
       " 'COD': <Code COD: Democratic Republic of the Congo>,\n",
       " 'DJI': <Code DJI: Djibouti>,\n",
       " 'DMA': <Code DMA: Dominica>,\n",
       " 'DOM': <Code DOM: Dominican Republic>,\n",
       " 'ECU': <Code ECU: Ecuador>,\n",
       " 'EGY': <Code EGY: Egypt>,\n",
       " 'SLV': <Code SLV: El Salvador>,\n",
       " 'GNQ': <Code GNQ: Equatorial Guinea>,\n",
       " 'ERI': <Code ERI: Eritrea>,\n",
       " 'SWZ': <Code SWZ: Eswatini>,\n",
       " 'ETH': <Code ETH: Ethiopia>,\n",
       " 'FLK': <Code FLK: Falkland Islands (Malvinas)>,\n",
       " 'FRO': <Code FRO: Faroe Islands>,\n",
       " 'FJI': <Code FJI: Fiji>,\n",
       " 'GUF': <Code GUF: French Guiana>,\n",
       " 'PYF': <Code PYF: French Polynesia>,\n",
       " 'ATF': <Code ATF: French Southern and Antarctic Lands>,\n",
       " 'GAB': <Code GAB: Gabon>,\n",
       " 'GMB': <Code GMB: Gambia>,\n",
       " 'GEO': <Code GEO: Georgia>,\n",
       " 'GHA': <Code GHA: Ghana>,\n",
       " 'GIB': <Code GIB: Gibraltar>,\n",
       " 'GRL': <Code GRL: Greenland>,\n",
       " 'GRD': <Code GRD: Grenada>,\n",
       " 'GLP': <Code GLP: Guadeloupe>,\n",
       " 'GUM': <Code GUM: Guam>,\n",
       " 'GTM': <Code GTM: Guatemala>,\n",
       " 'GIN': <Code GIN: Guinea>,\n",
       " 'GNB': <Code GNB: Guinea-Bissau>,\n",
       " 'GUY': <Code GUY: Guyana>,\n",
       " 'HTI': <Code HTI: Haiti>,\n",
       " 'HMD': <Code HMD: Heard Island and McDonald Islands>,\n",
       " 'VAT': <Code VAT: Holy See>,\n",
       " 'HND': <Code HND: Honduras>,\n",
       " 'HKG': <Code HKG: Hong Kong (China)>,\n",
       " 'IND': <Code IND: India>,\n",
       " 'IDN': <Code IDN: Indonesia>,\n",
       " 'IRN': <Code IRN: Iran>,\n",
       " 'IRQ': <Code IRQ: Iraq>,\n",
       " 'IMN': <Code IMN: Isle of Man>,\n",
       " 'JAM': <Code JAM: Jamaica>,\n",
       " 'JEY': <Code JEY: Jersey>,\n",
       " 'JOR': <Code JOR: Jordan>,\n",
       " 'KAZ': <Code KAZ: Kazakhstan>,\n",
       " 'KEN': <Code KEN: Kenya>,\n",
       " 'KIR': <Code KIR: Kiribati>,\n",
       " 'XKV': <Code XKV: Kosovo>,\n",
       " 'KWT': <Code KWT: Kuwait>,\n",
       " 'KGZ': <Code KGZ: Kyrgyzstan>,\n",
       " 'LAO': <Code LAO: Lao People’s Democratic Republic>,\n",
       " 'LBN': <Code LBN: Lebanon>,\n",
       " 'LSO': <Code LSO: Lesotho>,\n",
       " 'LBR': <Code LBR: Liberia>,\n",
       " 'LBY': <Code LBY: Libya>,\n",
       " 'LIE': <Code LIE: Liechtenstein>,\n",
       " 'MAC': <Code MAC: Macau (China)>,\n",
       " 'MDG': <Code MDG: Madagascar>,\n",
       " 'MWI': <Code MWI: Malawi>,\n",
       " 'MYS': <Code MYS: Malaysia>,\n",
       " 'MDV': <Code MDV: Maldives>,\n",
       " 'MLI': <Code MLI: Mali>,\n",
       " 'MLT': <Code MLT: Malta>,\n",
       " 'MHL': <Code MHL: Marshall Islands>,\n",
       " 'MTQ': <Code MTQ: Martinique>,\n",
       " 'MRT': <Code MRT: Mauritania>,\n",
       " 'MUS': <Code MUS: Mauritius>,\n",
       " 'MYT': <Code MYT: Mayotte>,\n",
       " 'FSM': <Code FSM: Micronesia>,\n",
       " 'MDA': <Code MDA: Moldova>,\n",
       " 'MCO': <Code MCO: Monaco>,\n",
       " 'MNG': <Code MNG: Mongolia>,\n",
       " 'MNE': <Code MNE: Montenegro>,\n",
       " 'MSR': <Code MSR: Montserrat>,\n",
       " 'MAR': <Code MAR: Morocco>,\n",
       " 'MOZ': <Code MOZ: Mozambique>,\n",
       " 'MMR': <Code MMR: Myanmar>,\n",
       " 'NAM': <Code NAM: Namibia>,\n",
       " 'NRU': <Code NRU: Nauru>,\n",
       " 'NPL': <Code NPL: Nepal>,\n",
       " 'NCL': <Code NCL: New Caledonia>,\n",
       " 'NIC': <Code NIC: Nicaragua>,\n",
       " 'NER': <Code NER: Niger>,\n",
       " 'NGA': <Code NGA: Nigeria>,\n",
       " 'NIU': <Code NIU: Niue>,\n",
       " 'NFK': <Code NFK: Norfolk Island>,\n",
       " 'MKD': <Code MKD: North Macedonia>,\n",
       " 'MNP': <Code MNP: Northern Mariana Islands>,\n",
       " 'OMN': <Code OMN: Oman>,\n",
       " 'PAK': <Code PAK: Pakistan>,\n",
       " 'PLW': <Code PLW: Palau>,\n",
       " 'PSE': <Code PSE: Palestinian Authority or West Bank and Gaza Strip>,\n",
       " 'PAN': <Code PAN: Panama>,\n",
       " 'PNG': <Code PNG: Papua New Guinea>,\n",
       " 'PRY': <Code PRY: Paraguay>,\n",
       " 'PER': <Code PER: Peru>,\n",
       " 'PHL': <Code PHL: Philippines>,\n",
       " 'PCN': <Code PCN: Pitcairn>,\n",
       " 'PRI': <Code PRI: Puerto Rico>,\n",
       " 'QAT': <Code QAT: Qatar>,\n",
       " 'REU': <Code REU: Réunion>,\n",
       " 'ROU': <Code ROU: Romania>,\n",
       " 'RUS': <Code RUS: Russia>,\n",
       " 'RWA': <Code RWA: Rwanda>,\n",
       " 'BLM': <Code BLM: Saint Barthélemy>,\n",
       " 'SHN': <Code SHN: Saint Helena>,\n",
       " 'KNA': <Code KNA: Saint Kitts and Nevis>,\n",
       " 'MAF': <Code MAF: Saint Martin>,\n",
       " 'LCA': <Code LCA: Saint Lucia>,\n",
       " 'SPM': <Code SPM: Saint Pierre and Miquelon>,\n",
       " 'VCT': <Code VCT: Saint Vincent and the Grenadines>,\n",
       " 'WSM': <Code WSM: Samoa>,\n",
       " 'SMR': <Code SMR: San Marino>,\n",
       " 'STP': <Code STP: Sao Tome and Principe>,\n",
       " 'SAU': <Code SAU: Saudi Arabia>,\n",
       " 'SEN': <Code SEN: Senegal>,\n",
       " 'SRB': <Code SRB: Serbia>,\n",
       " 'SYC': <Code SYC: Seychelles>,\n",
       " 'SLE': <Code SLE: Sierra Leone>,\n",
       " 'SGP': <Code SGP: Singapore>,\n",
       " 'SXM': <Code SXM: Sint Maarten>,\n",
       " 'SLB': <Code SLB: Solomon Islands>,\n",
       " 'SOM': <Code SOM: Somalia>,\n",
       " 'ZAF': <Code ZAF: South Africa>,\n",
       " 'SGS': <Code SGS: South Georgia and the South Sandwich Islands>,\n",
       " 'SSD': <Code SSD: South Sudan>,\n",
       " 'LKA': <Code LKA: Sri Lanka>,\n",
       " 'SDN': <Code SDN: Sudan>,\n",
       " 'SUR': <Code SUR: Suriname>,\n",
       " 'SJM': <Code SJM: Svalbard and Jan Mayen>,\n",
       " 'SYR': <Code SYR: Syrian Arab Republic>,\n",
       " 'TWN': <Code TWN: Chinese Taipei>,\n",
       " 'TJK': <Code TJK: Tajikistan>,\n",
       " 'TZA': <Code TZA: Tanzania>,\n",
       " 'THA': <Code THA: Thailand>,\n",
       " 'TLS': <Code TLS: Timor-Leste>,\n",
       " 'TGO': <Code TGO: Togo>,\n",
       " 'TKL': <Code TKL: Tokelau>,\n",
       " 'TON': <Code TON: Tonga>,\n",
       " 'TTO': <Code TTO: Trinidad and Tobago>,\n",
       " 'TUN': <Code TUN: Tunisia>,\n",
       " 'TKM': <Code TKM: Turkmenistan>,\n",
       " 'TCA': <Code TCA: Turks and Caicos Islands>,\n",
       " 'TUV': <Code TUV: Tuvalu>,\n",
       " 'UGA': <Code UGA: Uganda>,\n",
       " 'UKR': <Code UKR: Ukraine>,\n",
       " 'ARE': <Code ARE: United Arab Emirates>,\n",
       " 'UMI': <Code UMI: United States Minor Outlying Islands>,\n",
       " 'VIR': <Code VIR: United States Virgin Islands>,\n",
       " 'URY': <Code URY: Uruguay>,\n",
       " 'UZB': <Code UZB: Uzbekistan>,\n",
       " 'VUT': <Code VUT: Vanuatu>,\n",
       " 'VEN': <Code VEN: Venezuela>,\n",
       " 'VNM': <Code VNM: Viet Nam>,\n",
       " 'WLF': <Code WLF: Wallis and Futuna>,\n",
       " 'ESH': <Code ESH: Western Sahara>,\n",
       " 'YEM': <Code YEM: Yemen>,\n",
       " 'ZMB': <Code ZMB: Zambia>,\n",
       " 'ZWE': <Code ZWE: Zimbabwe>,\n",
       " 'WXOECDXCHN': <Code WXOECDXCHN: Non-OECD economies excluding China>,\n",
       " 'AXOECD': <Code AXOECD: Non-OECD America>,\n",
       " 'A2XOECD': <Code A2XOECD: Non-OECD Northern America>,\n",
       " 'A5XOECD': <Code A5XOECD: Non-OECD Central America and Caribbean>,\n",
       " 'A7XOECD': <Code A7XOECD: Non-OECD South America>,\n",
       " 'AXOECD_O': <Code AXOECD_O: Other non-OECD America>,\n",
       " 'SXOECD': <Code SXOECD: Non-OECD Asia>,\n",
       " 'S3_OXOECD': <Code S3_OXOECD: Non-OECD other Western Asia / Near and Middle East countries>,\n",
       " 'S_OXOECD': <Code S_OXOECD: Non-OECD other Asia>,\n",
       " 'EXOECD': <Code EXOECD: Non-OECD Europe>,\n",
       " 'OXOECD': <Code OXOECD: Non-OECD Oceania>,\n",
       " 'WXEU15': <Code WXEU15: Extra-European Union (15 countries)>,\n",
       " 'WXEU25': <Code WXEU25: Extra-European Union (25 countries)>,\n",
       " 'WXEU27': <Code WXEU27: Extra-European Union (27 countries)>,\n",
       " 'WXEU28': <Code WXEU28: Extra-European Union (28 countries)>,\n",
       " 'WXEU27_2020': <Code WXEU27_2020: Extra-European Union (27 countries from 01/02/2020)>,\n",
       " 'YAR_F': <Code YAR_F: Former Arab Republic of Yemen>,\n",
       " 'BEL_LUX': <Code BEL_LUX: Belgo-Luxembourg Economic Union>,\n",
       " 'CSK_F': <Code CSK_F: Former Czechoslovakia>,\n",
       " 'DDR_F': <Code DDR_F: Former Democratic Republic of Germany>,\n",
       " 'VDR_F': <Code VDR_F: Former Democratic Republic of Viet Nam>,\n",
       " 'YMD_F': <Code YMD_F: Former Democratic Yemen>,\n",
       " 'ETH_F': <Code ETH_F: Former Ethiopia>,\n",
       " 'DEU_F': <Code DEU_F: Former Federal Republic of Germany>,\n",
       " 'ANT_F': <Code ANT_F: Former Netherlands Antilles>,\n",
       " 'ANT_F_ABW': <Code ANT_F_ABW: Former Netherlands Antilles and Aruba>,\n",
       " 'PCI_F': <Code PCI_F: Former Pacific Islands (Trust Territory)>,\n",
       " 'PCZ_F': <Code PCZ_F: Former Panama Canal Zone>,\n",
       " 'RNY_F': <Code RNY_F: Former Rhodesia Nyas>,\n",
       " 'SCG_F': <Code SCG_F: Former Serbia and Montenegro>,\n",
       " 'TZA_F': <Code TZA_F: Former Tanganyika>,\n",
       " 'SUN_F': <Code SUN_F: Former USSR>,\n",
       " 'YUG_F': <Code YUG_F: Former Yugoslavia>,\n",
       " 'SFRY_X': <Code SFRY_X: States ex-Yugoslavia unspecified>,\n",
       " 'ACP': <Code ACP: ACP>,\n",
       " 'AES': <Code AES: Advanced economies>,\n",
       " 'APEC': <Code APEC: APEC>,\n",
       " 'ASEAN': <Code ASEAN: ASEAN>,\n",
       " 'CEEC': <Code CEEC: CEEC>,\n",
       " 'CIS': <Code CIS: CIS>,\n",
       " 'DAE': <Code DAE: Dynamic Asian economies>,\n",
       " 'EMES': <Code EMES: Emerging market economies>,\n",
       " 'EEA': <Code EEA: EEA>,\n",
       " 'GULF': <Code GULF: Gulf Arabian countries>,\n",
       " 'DAE_IND_IDN': <Code DAE_IND_IDN: Main industrialised Asia>,\n",
       " 'A5M': <Code A5M: Major five Asia economies>,\n",
       " 'MERCOSUR': <Code MERCOSUR: MERCOSUR>,\n",
       " 'NAFTA': <Code NAFTA: NAFTA>,\n",
       " 'OPEC': <Code OPEC: OPEC>,\n",
       " 'OIL_O': <Code OIL_O: Other major oil producers>,\n",
       " 'OIL_SAU_O': <Code OIL_SAU_O: Other oil producers>,\n",
       " 'SAARC': <Code SAARC: SAARC>,\n",
       " 'SDR': <Code SDR: SDR>,\n",
       " 'EAC': <Code EAC: East African Community>,\n",
       " 'DAC': <Code DAC: DAC countries>,\n",
       " 'DACEU': <Code DACEU: DAC EU countries>,\n",
       " 'WXDAC': <Code WXDAC: Non-DAC countries>,\n",
       " 'ODA': <Code ODA: ODA recipient countries>,\n",
       " 'ODAA': <Code ODAA: ODA recipient countries - America>,\n",
       " 'ODAF': <Code ODAF: ODA recipient countries - Africa>,\n",
       " 'ODAE': <Code ODAE: ODA recipient countries - Europe>,\n",
       " 'ODAO': <Code ODAO: ODA recipient countries - Oceania>,\n",
       " 'ODAS': <Code ODAS: ODA recipients countries - Asia>,\n",
       " 'LDC': <Code LDC: Least developed countries>,\n",
       " 'LLDC': <Code LLDC: Land locked developing countries>,\n",
       " 'SIDS': <Code SIDS: Small island developing states>,\n",
       " 'DPGC': <Code DPGC: Developing countries>,\n",
       " 'DPGC_X': <Code DPGC_X: Developing countries unspecified>,\n",
       " 'DPDC': <Code DPDC: Developed countries>,\n",
       " 'MADCT': <Code MADCT: More advanced developed countries and territories>,\n",
       " 'MADCT_X': <Code MADCT_X: More advanced developed countries and territories unspecified>,\n",
       " 'HICS': <Code HICS: High income countries>,\n",
       " 'UMIC': <Code UMIC: Upper-middle income countries>,\n",
       " 'LMIC': <Code LMIC: Lower-middle income countries>,\n",
       " 'OLIC': <Code OLIC: Other low income countries>,\n",
       " 'INC_X': <Code INC_X: Countries unallocated by income>,\n",
       " 'HICSWB': <Code HICSWB: High income countries (World Bank)>,\n",
       " 'UMICWB': <Code UMICWB: Upper-middle income countries (World Bank)>,\n",
       " 'LMICWB': <Code LMICWB: Lower-middle income countries (World Bank)>,\n",
       " 'OLICWB': <Code OLICWB: Low income countries (World Bank)>,\n",
       " 'INCWB_X': <Code INCWB_X: Countries not classified by the World Bank>,\n",
       " 'HIPC': <Code HIPC: Heavily-indebted poor countries>,\n",
       " 'FSCAC': <Code FSCAC: Fragile states and Conflict-affected countries>,\n",
       " 'WBA': <Code WBA: World aviation bunkers>,\n",
       " 'WBM': <Code WBM: World maritime bunkers>,\n",
       " 'WB': <Code WB: World maritime and aviation bunkers>,\n",
       " 'FZ': <Code FZ: Free zones>,\n",
       " 'FZ_D': <Code FZ_D: Divided zones>,\n",
       " 'HIGH_SEAS': <Code HIGH_SEAS: High seas>,\n",
       " 'IEA': <Code IEA: IEA Total>,\n",
       " 'IEAA': <Code IEAA: IEA Americas>,\n",
       " 'IEAOS': <Code IEAOS: IEA Asia Oceania>,\n",
       " 'IEAXMEX': <Code IEAXMEX: IEA Total (excl. Mexico)>,\n",
       " 'IEAE': <Code IEAE: IEA Europe>,\n",
       " 'IEA_ACC': <Code IEA_ACC: IEA and Accession/Association countries>,\n",
       " 'ANNEX1': <Code ANNEX1: Annex I of the United Nations Framework Convention on Climate Change Parties>,\n",
       " 'WXANNEX1': <Code WXANNEX1: Non-Annex I of the United Nations Framework Convention on Climate \n",
       " Change Parties>,\n",
       " 'ANNEX2': <Code ANNEX2: Annex II of the United Nations Framework Convention on Climate Change Parties>,\n",
       " 'ANNEX2A2': <Code ANNEX2A2: Annex II of the United Nations Framework Convention on Climate Change North America Parties>,\n",
       " 'ANNEX2E': <Code ANNEX2E: Annex II of the United Nations Framework Convention on Climate Change Europe Parties>,\n",
       " 'ANNEX2OS': <Code ANNEX2OS: Annex II of the United Nations Framework Convention on Climate Change Asia Oceania Parties>,\n",
       " 'IPAC': <Code IPAC: International Programme for Action on Climate Parties>,\n",
       " 'OECD_KEY_PART': <Code OECD_KEY_PART: OECD Key Partners>,\n",
       " 'AU': <Code AU: African Union>,\n",
       " 'INDUS': <Code INDUS: Indus Basin>,\n",
       " 'MKNG': <Code MKNG: Mekong Delta>,\n",
       " 'A': <Code A: America>,\n",
       " 'A2': <Code A2: Northern America>,\n",
       " 'A2_X': <Code A2_X: Northern America unspecified>,\n",
       " 'A3': <Code A3: Central America>,\n",
       " 'A2_A3_X': <Code A2_A3_X: Northern and Central America unspecified>,\n",
       " 'A3_X': <Code A3_X: Central America unspecified>,\n",
       " 'A4': <Code A4: Caribbean>,\n",
       " 'A4_X': <Code A4_X: Caribbean unspecified>,\n",
       " 'A5': <Code A5: Central America and the Caribbean>,\n",
       " 'A5_X': <Code A5_X: Central America and the Caribbean unspecified>,\n",
       " 'A5_A7': <Code A5_A7: South and Central America>,\n",
       " 'A7': <Code A7: South America>,\n",
       " 'A7_X': <Code A7_X: South America unspecified>,\n",
       " 'A8': <Code A8: Latin America>,\n",
       " 'A8_M': <Code A8_M: Main Latin American countries>,\n",
       " 'A9': <Code A9: Latin America and the Caribbean>,\n",
       " 'A9_X': <Code A9_X: Latin America and the Caribbean unspecified>,\n",
       " 'A_X': <Code A_X: America unspecified>,\n",
       " 'A_O': <Code A_O: Other America>,\n",
       " 'E': <Code E: Europe>,\n",
       " 'E2': <Code E2: Eastern Europe>,\n",
       " 'E3': <Code E3: Northern Europe>,\n",
       " 'E4': <Code E4: Southern Europe>,\n",
       " 'E5': <Code E5: Western Europe>,\n",
       " 'E_X': <Code E_X: Europe unspecified>,\n",
       " 'E_O': <Code E_O: Other Europe>,\n",
       " 'F': <Code F: Africa>,\n",
       " 'F3': <Code F3: Eastern Africa>,\n",
       " 'F3_X': <Code F3_X: Eastern Africa unspecified>,\n",
       " 'F4': <Code F4: Northern Africa>,\n",
       " 'F4_X': <Code F4_X: Northern Africa unspecified>,\n",
       " 'F5': <Code F5: Middle Africa>,\n",
       " 'F5_X': <Code F5_X: Middle Africa unspecified>,\n",
       " 'F6': <Code F6: Sub-Saharan Africa>,\n",
       " 'F6_X': <Code F6_X: Sub-Saharan Africa unspecified>,\n",
       " 'F7': <Code F7: Southern Africa>,\n",
       " 'F7_X': <Code F7_X: Southern Africa unspecified>,\n",
       " 'F8': <Code F8: Western Africa>,\n",
       " 'F8_X': <Code F8_X: Western Africa unspecified>,\n",
       " 'F97': <Code F97: Middle East>,\n",
       " 'F97_X': <Code F97_X: Middle East unspecified>,\n",
       " 'F98': <Code F98: Middle East and North Africa>,\n",
       " 'F_X': <Code F_X: Africa unspecified>,\n",
       " 'F_O': <Code F_O: Other Africa>,\n",
       " 'O': <Code O: Oceania>,\n",
       " 'O6': <Code O6: Australia and New Zealand>,\n",
       " 'O7': <Code O7: Melanesia>,\n",
       " 'O7_X': <Code O7_X: Melanesia unspecified>,\n",
       " 'O8': <Code O8: Micronesia>,\n",
       " 'O8_X': <Code O8_X: Micronesia unspecified>,\n",
       " 'O9': <Code O9: Polynesia>,\n",
       " 'O9_X': <Code O9_X: Polynesia unspecified>,\n",
       " 'O_X': <Code O_X: Oceania unspecified>,\n",
       " 'O_O': <Code O_O: Other Oceania>,\n",
       " 'S': <Code S: Asia>,\n",
       " 'S2': <Code S2: Eastern Asia>,\n",
       " 'S2_S8': <Code S2_S8: Eastern and South-eastern Asia>,\n",
       " 'S3': <Code S3: Western Asia / Near and Middle East countries>,\n",
       " 'S3_O': <Code S3_O: Other Western Asia / Near and Middle East countries>,\n",
       " 'S3_X': <Code S3_X: Western Asia unspecified>,\n",
       " 'S4': <Code S4: Central Asia>,\n",
       " 'S4_X': <Code S4_X: Central Asia unspecified>,\n",
       " 'S4_S7': <Code S4_S7: Southern and Central Asia>,\n",
       " 'S4_S7_X': <Code S4_S7_X: Southern and Central Asia unspecified>,\n",
       " 'S7': <Code S7: Southern Asia>,\n",
       " 'S7_X': <Code S7_X: Southern Asia unspecified>,\n",
       " 'S8': <Code S8: South-eastern Asia>,\n",
       " 'S97': <Code S97: Far East Asia>,\n",
       " 'S97_X': <Code S97_X: Far East Asia unspecified>,\n",
       " 'S_X': <Code S_X: Asia unspecified>,\n",
       " 'S_O': <Code S_O: Other Asia>,\n",
       " 'W_O': <Code W_O: Other countries>,\n",
       " 'W_O_X': <Code W_O_X: Other countries unspecified>,\n",
       " 'WXTIVA': <Code WXTIVA: Non-target TiVA countries>,\n",
       " 'W': <Code W: World>,\n",
       " 'W_CF': <Code W_CF: World confidential>,\n",
       " 'W_IO': <Code W_IO: World and international organisations>,\n",
       " 'W_X': <Code W_X: World unspecified>,\n",
       " 'IO': <Code IO: International organisations>,\n",
       " 'D': <Code D: Domestic (home or reference area)>,\n",
       " 'WXD': <Code WXD: Rest of the world>,\n",
       " '_Z': <Code _Z: Not applicable>}"
      ]
     },
     "execution_count": 45,
     "metadata": {},
     "output_type": "execute_result"
    }
   ],
   "source": [
    "dsd_attributes = ['codelist', 'concept_scheme', 'dataflow', 'structure']\n",
    "dsd.codelist['CL_AREA'].items"
   ]
  },
  {
   "cell_type": "code",
   "execution_count": 43,
   "metadata": {},
   "outputs": [
    {
     "name": "stdout",
     "output_type": "stream",
     "text": [
      "__annotations__ {'categorisation': sdmx.dictlike.DictLikeDescriptor[str, sdmx.model.common.Categorisation], 'category_scheme': sdmx.dictlike.DictLikeDescriptor[str, sdmx.model.common.CategoryScheme], 'codelist': sdmx.dictlike.DictLikeDescriptor[str, sdmx.model.common.Codelist], 'concept_scheme': sdmx.dictlike.DictLikeDescriptor[str, sdmx.model.common.ConceptScheme], 'constraint': sdmx.dictlike.DictLikeDescriptor[str, sdmx.model.common.BaseConstraint], 'custom_type_scheme': sdmx.dictlike.DictLikeDescriptor[str, sdmx.model.common.CustomTypeScheme], 'dataflow': sdmx.dictlike.DictLikeDescriptor[str, sdmx.model.common.BaseDataflow], 'hierarchical_codelist': sdmx.dictlike.DictLikeDescriptor[str, sdmx.model.v21.HierarchicalCodelist], 'hierarchy': sdmx.dictlike.DictLikeDescriptor[str, sdmx.model.v30.Hierarchy], 'metadataflow': sdmx.dictlike.DictLikeDescriptor[str, sdmx.model.common.BaseMetadataflow], 'metadatastructure': sdmx.dictlike.DictLikeDescriptor[str, sdmx.model.common.BaseMetadataStructureDefinition], 'name_personalisation_scheme': sdmx.dictlike.DictLikeDescriptor[str, sdmx.model.common.NamePersonalisationScheme], 'organisation_scheme': sdmx.dictlike.DictLikeDescriptor[str, sdmx.model.common.OrganisationScheme], 'provisionagreement': sdmx.dictlike.DictLikeDescriptor[str, sdmx.model.common.ProvisionAgreement], 'ruleset_scheme': sdmx.dictlike.DictLikeDescriptor[str, sdmx.model.common.RulesetScheme], 'structure': sdmx.dictlike.DictLikeDescriptor[str, sdmx.model.common.BaseDataStructureDefinition], 'structureset': sdmx.dictlike.DictLikeDescriptor[str, sdmx.model.v21.StructureSet], 'transformation_scheme': sdmx.dictlike.DictLikeDescriptor[str, sdmx.model.common.TransformationScheme], 'user_defined_operator_scheme': sdmx.dictlike.DictLikeDescriptor[str, sdmx.model.common.UserDefinedOperatorScheme], 'valuelist': sdmx.dictlike.DictLikeDescriptor[str, sdmx.model.v30.ValueList], 'vtl_mapping_scheme': sdmx.dictlike.DictLikeDescriptor[str, sdmx.model.common.VTLMappingScheme]}\n",
      "__dataclass_fields__ {'version': Field(name='version',type=<enum 'Version'>,default=<Version.2.1: 2.1>,default_factory=<dataclasses._MISSING_TYPE object at 0x106576110>,init=True,repr=True,hash=None,compare=True,metadata=mappingproxy({}),kw_only=False,_field_type=_FIELD), 'header': Field(name='header',type=<class 'sdmx.message.Header'>,default=<dataclasses._MISSING_TYPE object at 0x106576110>,default_factory=<class 'sdmx.message.Header'>,init=True,repr=True,hash=None,compare=True,metadata=mappingproxy({}),kw_only=False,_field_type=_FIELD), 'footer': Field(name='footer',type=typing.Optional[sdmx.message.Footer],default=None,default_factory=<dataclasses._MISSING_TYPE object at 0x106576110>,init=True,repr=True,hash=None,compare=True,metadata=mappingproxy({}),kw_only=False,_field_type=_FIELD), 'response': Field(name='response',type=typing.Optional[ForwardRef('requests.Response')],default=None,default_factory=<dataclasses._MISSING_TYPE object at 0x106576110>,init=True,repr=True,hash=None,compare=True,metadata=mappingproxy({}),kw_only=False,_field_type=_FIELD), 'categorisation': Field(name='categorisation',type=sdmx.dictlike.DictLikeDescriptor[str, sdmx.model.common.Categorisation],default=None,default_factory=<dataclasses._MISSING_TYPE object at 0x106576110>,init=True,repr=True,hash=None,compare=True,metadata=mappingproxy({}),kw_only=False,_field_type=_FIELD), 'category_scheme': Field(name='category_scheme',type=sdmx.dictlike.DictLikeDescriptor[str, sdmx.model.common.CategoryScheme],default=None,default_factory=<dataclasses._MISSING_TYPE object at 0x106576110>,init=True,repr=True,hash=None,compare=True,metadata=mappingproxy({}),kw_only=False,_field_type=_FIELD), 'codelist': Field(name='codelist',type=sdmx.dictlike.DictLikeDescriptor[str, sdmx.model.common.Codelist],default=None,default_factory=<dataclasses._MISSING_TYPE object at 0x106576110>,init=True,repr=True,hash=None,compare=True,metadata=mappingproxy({}),kw_only=False,_field_type=_FIELD), 'concept_scheme': Field(name='concept_scheme',type=sdmx.dictlike.DictLikeDescriptor[str, sdmx.model.common.ConceptScheme],default=None,default_factory=<dataclasses._MISSING_TYPE object at 0x106576110>,init=True,repr=True,hash=None,compare=True,metadata=mappingproxy({}),kw_only=False,_field_type=_FIELD), 'constraint': Field(name='constraint',type=sdmx.dictlike.DictLikeDescriptor[str, sdmx.model.common.BaseConstraint],default=None,default_factory=<dataclasses._MISSING_TYPE object at 0x106576110>,init=True,repr=True,hash=None,compare=True,metadata=mappingproxy({}),kw_only=False,_field_type=_FIELD), 'custom_type_scheme': Field(name='custom_type_scheme',type=sdmx.dictlike.DictLikeDescriptor[str, sdmx.model.common.CustomTypeScheme],default=None,default_factory=<dataclasses._MISSING_TYPE object at 0x106576110>,init=True,repr=True,hash=None,compare=True,metadata=mappingproxy({}),kw_only=False,_field_type=_FIELD), 'dataflow': Field(name='dataflow',type=sdmx.dictlike.DictLikeDescriptor[str, sdmx.model.common.BaseDataflow],default=None,default_factory=<dataclasses._MISSING_TYPE object at 0x106576110>,init=True,repr=True,hash=None,compare=True,metadata=mappingproxy({}),kw_only=False,_field_type=_FIELD), 'hierarchical_codelist': Field(name='hierarchical_codelist',type=sdmx.dictlike.DictLikeDescriptor[str, sdmx.model.v21.HierarchicalCodelist],default=None,default_factory=<dataclasses._MISSING_TYPE object at 0x106576110>,init=True,repr=True,hash=None,compare=True,metadata=mappingproxy({}),kw_only=False,_field_type=_FIELD), 'hierarchy': Field(name='hierarchy',type=sdmx.dictlike.DictLikeDescriptor[str, sdmx.model.v30.Hierarchy],default=None,default_factory=<dataclasses._MISSING_TYPE object at 0x106576110>,init=True,repr=True,hash=None,compare=True,metadata=mappingproxy({}),kw_only=False,_field_type=_FIELD), 'metadataflow': Field(name='metadataflow',type=sdmx.dictlike.DictLikeDescriptor[str, sdmx.model.common.BaseMetadataflow],default=None,default_factory=<dataclasses._MISSING_TYPE object at 0x106576110>,init=True,repr=True,hash=None,compare=True,metadata=mappingproxy({}),kw_only=False,_field_type=_FIELD), 'metadatastructure': Field(name='metadatastructure',type=sdmx.dictlike.DictLikeDescriptor[str, sdmx.model.common.BaseMetadataStructureDefinition],default=None,default_factory=<dataclasses._MISSING_TYPE object at 0x106576110>,init=True,repr=True,hash=None,compare=True,metadata=mappingproxy({}),kw_only=False,_field_type=_FIELD), 'name_personalisation_scheme': Field(name='name_personalisation_scheme',type=sdmx.dictlike.DictLikeDescriptor[str, sdmx.model.common.NamePersonalisationScheme],default=None,default_factory=<dataclasses._MISSING_TYPE object at 0x106576110>,init=True,repr=True,hash=None,compare=True,metadata=mappingproxy({}),kw_only=False,_field_type=_FIELD), 'organisation_scheme': Field(name='organisation_scheme',type=sdmx.dictlike.DictLikeDescriptor[str, sdmx.model.common.OrganisationScheme],default=None,default_factory=<dataclasses._MISSING_TYPE object at 0x106576110>,init=True,repr=True,hash=None,compare=True,metadata=mappingproxy({}),kw_only=False,_field_type=_FIELD), 'provisionagreement': Field(name='provisionagreement',type=sdmx.dictlike.DictLikeDescriptor[str, sdmx.model.common.ProvisionAgreement],default=None,default_factory=<dataclasses._MISSING_TYPE object at 0x106576110>,init=True,repr=True,hash=None,compare=True,metadata=mappingproxy({}),kw_only=False,_field_type=_FIELD), 'ruleset_scheme': Field(name='ruleset_scheme',type=sdmx.dictlike.DictLikeDescriptor[str, sdmx.model.common.RulesetScheme],default=None,default_factory=<dataclasses._MISSING_TYPE object at 0x106576110>,init=True,repr=True,hash=None,compare=True,metadata=mappingproxy({}),kw_only=False,_field_type=_FIELD), 'structure': Field(name='structure',type=sdmx.dictlike.DictLikeDescriptor[str, sdmx.model.common.BaseDataStructureDefinition],default=None,default_factory=<dataclasses._MISSING_TYPE object at 0x106576110>,init=True,repr=True,hash=None,compare=True,metadata=mappingproxy({}),kw_only=False,_field_type=_FIELD), 'structureset': Field(name='structureset',type=sdmx.dictlike.DictLikeDescriptor[str, sdmx.model.v21.StructureSet],default=None,default_factory=<dataclasses._MISSING_TYPE object at 0x106576110>,init=True,repr=True,hash=None,compare=True,metadata=mappingproxy({}),kw_only=False,_field_type=_FIELD), 'transformation_scheme': Field(name='transformation_scheme',type=sdmx.dictlike.DictLikeDescriptor[str, sdmx.model.common.TransformationScheme],default=None,default_factory=<dataclasses._MISSING_TYPE object at 0x106576110>,init=True,repr=True,hash=None,compare=True,metadata=mappingproxy({}),kw_only=False,_field_type=_FIELD), 'user_defined_operator_scheme': Field(name='user_defined_operator_scheme',type=sdmx.dictlike.DictLikeDescriptor[str, sdmx.model.common.UserDefinedOperatorScheme],default=None,default_factory=<dataclasses._MISSING_TYPE object at 0x106576110>,init=True,repr=True,hash=None,compare=True,metadata=mappingproxy({}),kw_only=False,_field_type=_FIELD), 'valuelist': Field(name='valuelist',type=sdmx.dictlike.DictLikeDescriptor[str, sdmx.model.v30.ValueList],default=None,default_factory=<dataclasses._MISSING_TYPE object at 0x106576110>,init=True,repr=True,hash=None,compare=True,metadata=mappingproxy({}),kw_only=False,_field_type=_FIELD), 'vtl_mapping_scheme': Field(name='vtl_mapping_scheme',type=sdmx.dictlike.DictLikeDescriptor[str, sdmx.model.common.VTLMappingScheme],default=None,default_factory=<dataclasses._MISSING_TYPE object at 0x106576110>,init=True,repr=True,hash=None,compare=True,metadata=mappingproxy({}),kw_only=False,_field_type=_FIELD)}\n",
      "__dataclass_params__ _DataclassParams(init=True,repr=True,eq=True,order=False,unsafe_hash=False,frozen=False)\n",
      "__dict__ {'version': <Version.2.1: 2.1>, 'header': <Header>\n",
      "  id: 'IDREF21374'\n",
      "  prepared: '2024-10-07T11:47:04.695014+02:00'\n",
      "  receiver: <Agency Unknown>\n",
      "  sender: <Agency Unknown>\n",
      "  source: \n",
      "  test: False, 'footer': None, 'response': <Response [200]>, '_categorisation': {}, '_category_scheme': {}, '_codelist': {'CL_AREA': <Codelist OECD:CL_AREA(1.2) (502 items): Codelist for reference areas and geocoding>, 'CL_EDUCATION_LEV_ISCED11': <Codelist OECD:CL_EDUCATION_LEV_ISCED11(1.0) (166 items): Code list for Education level, ISCED11>, 'CL_PRICES': <Codelist OECD:CL_PRICES(1.0) (14 items): Codelist for Prices>, 'CL_UNIT_MEASURE': <Codelist OECD:CL_UNIT_MEASURE(1.20) (1002 items): Codelist for Unit of measure>, 'CL_EXPENDITURE_TYPE': <Codelist OECD.EDU.IMEP:CL_EXPENDITURE_TYPE(1.0) (33 items): Expenditure type>, 'CL_INST_TYPE_EDU': <Codelist OECD.EDU.IMEP:CL_INST_TYPE_EDU(1.0) (18 items): Educational institution types and sectors>, 'CL_INTENSITY': <Codelist OECD.EDU.IMEP:CL_INTENSITY(1.0) (5 items): Intensity>, 'CL_MEASURE_FIN': <Codelist OECD.EDU.IMEP:CL_MEASURE_FIN(1.0) (11 items): Codelist for data element that represents a simple aggregation and which takes one or more vectors as arguments and returns a scalar>, 'CL_Q_SHEET': <Codelist OECD.EDU.IMEP:CL_Q_SHEET(1.0) (3 items): Questionnaire sheet>, 'CL_Q_SHEET_ROW_ID': <Codelist OECD.EDU.IMEP:CL_Q_SHEET_ROW_ID(1.0) (182 items): Questionnaire row ID>, 'CL_DECIMALS': <Codelist SDMX:CL_DECIMALS(1.0) (16 items): Decimals>, 'CL_OBS_STATUS': <Codelist SDMX:CL_OBS_STATUS(2.2) (20 items): Observation Status>, 'CL_UNIT_MULT': <Codelist SDMX:CL_UNIT_MULT(1.1) (31 items): Code list for the Unit Multiplier>}, '_concept_scheme': {'CS_EDU_FIN': <ConceptScheme OECD.EDU.IMEP:CS_EDU_FIN(3.0) (18 items): Concept scheme of education finance data>}, '_constraint': {}, '_custom_type_scheme': {}, '_dataflow': {'DSD_EAG_UOE_FIN@DF_UOE_FIN_INDIC_SHARE_EDU_GOV': <DataflowDefinition OECD.EDU.IMEP:DSD_EAG_UOE_FIN@DF_UOE_FIN_INDIC_SHARE_EDU_GOV(3.0): Part des dépenses publiques totales consacrées à l’éducation>, 'DSD_EAG_UOE_FIN@DF_UOE_FIN_INDIC_SOURCE_NATURE': <DataflowDefinition OECD.EDU.IMEP:DSD_EAG_UOE_FIN@DF_UOE_FIN_INDIC_SOURCE_NATURE(3.0): Ensemble de données complet - Indicateurs, source, destination et nature des dépenses d'éducation>, 'DSD_EAG_UOE_FIN@DF_UOE_FIN_NATURE_CUR_CAP': <DataflowDefinition OECD.EDU.IMEP:DSD_EAG_UOE_FIN@DF_UOE_FIN_NATURE_CUR_CAP(3.0): Capital and total current expenditure on education (from all sources)>, 'DSD_EAG_UOE_FIN@DF_UOE_FIN_NATURE_STAFF': <DataflowDefinition OECD.EDU.IMEP:DSD_EAG_UOE_FIN@DF_UOE_FIN_NATURE_STAFF(3.0): Dépenses de rémunération du personnel en éducation (toutes sources confondues)>, 'DSD_EAG_UOE_FIN@DF_UOE_FIN_SOURCE_GV_PR_NDOM': <DataflowDefinition OECD.EDU.IMEP:DSD_EAG_UOE_FIN@DF_UOE_FIN_SOURCE_GV_PR_NDOM(3.0): Distribution of government, private and non-domestic expenditure on educational institutions>, 'DSD_EAG_UOE_FIN@DF_UOE_INDIC_FIN_PERSTUD': <DataflowDefinition OECD.EDU.IMEP:DSD_EAG_UOE_FIN@DF_UOE_INDIC_FIN_PERSTUD(3.0): Dépenses unitaires d'éducation en équivalents temps plein>}, '_hierarchical_codelist': {}, '_hierarchy': {}, '_metadataflow': {}, '_metadatastructure': {}, '_name_personalisation_scheme': {}, '_organisation_scheme': {}, '_provisionagreement': {}, '_ruleset_scheme': {}, '_structure': {'DSD_EAG_UOE_FIN': <DataStructureDefinition OECD.EDU.IMEP:DSD_EAG_UOE_FIN(3.0): DSD for education expenditure>}, '_structureset': {}, '_transformation_scheme': {}, '_user_defined_operator_scheme': {}, '_valuelist': {}, '_vtl_mapping_scheme': {}, '_collections': [{}, {}, {'CL_AREA': <Codelist OECD:CL_AREA(1.2) (502 items): Codelist for reference areas and geocoding>, 'CL_EDUCATION_LEV_ISCED11': <Codelist OECD:CL_EDUCATION_LEV_ISCED11(1.0) (166 items): Code list for Education level, ISCED11>, 'CL_PRICES': <Codelist OECD:CL_PRICES(1.0) (14 items): Codelist for Prices>, 'CL_UNIT_MEASURE': <Codelist OECD:CL_UNIT_MEASURE(1.20) (1002 items): Codelist for Unit of measure>, 'CL_EXPENDITURE_TYPE': <Codelist OECD.EDU.IMEP:CL_EXPENDITURE_TYPE(1.0) (33 items): Expenditure type>, 'CL_INST_TYPE_EDU': <Codelist OECD.EDU.IMEP:CL_INST_TYPE_EDU(1.0) (18 items): Educational institution types and sectors>, 'CL_INTENSITY': <Codelist OECD.EDU.IMEP:CL_INTENSITY(1.0) (5 items): Intensity>, 'CL_MEASURE_FIN': <Codelist OECD.EDU.IMEP:CL_MEASURE_FIN(1.0) (11 items): Codelist for data element that represents a simple aggregation and which takes one or more vectors as arguments and returns a scalar>, 'CL_Q_SHEET': <Codelist OECD.EDU.IMEP:CL_Q_SHEET(1.0) (3 items): Questionnaire sheet>, 'CL_Q_SHEET_ROW_ID': <Codelist OECD.EDU.IMEP:CL_Q_SHEET_ROW_ID(1.0) (182 items): Questionnaire row ID>, 'CL_DECIMALS': <Codelist SDMX:CL_DECIMALS(1.0) (16 items): Decimals>, 'CL_OBS_STATUS': <Codelist SDMX:CL_OBS_STATUS(2.2) (20 items): Observation Status>, 'CL_UNIT_MULT': <Codelist SDMX:CL_UNIT_MULT(1.1) (31 items): Code list for the Unit Multiplier>}, {'CS_EDU_FIN': <ConceptScheme OECD.EDU.IMEP:CS_EDU_FIN(3.0) (18 items): Concept scheme of education finance data>}, {}, {}, {'DSD_EAG_UOE_FIN@DF_UOE_FIN_INDIC_SHARE_EDU_GOV': <DataflowDefinition OECD.EDU.IMEP:DSD_EAG_UOE_FIN@DF_UOE_FIN_INDIC_SHARE_EDU_GOV(3.0): Part des dépenses publiques totales consacrées à l’éducation>, 'DSD_EAG_UOE_FIN@DF_UOE_FIN_INDIC_SOURCE_NATURE': <DataflowDefinition OECD.EDU.IMEP:DSD_EAG_UOE_FIN@DF_UOE_FIN_INDIC_SOURCE_NATURE(3.0): Ensemble de données complet - Indicateurs, source, destination et nature des dépenses d'éducation>, 'DSD_EAG_UOE_FIN@DF_UOE_FIN_NATURE_CUR_CAP': <DataflowDefinition OECD.EDU.IMEP:DSD_EAG_UOE_FIN@DF_UOE_FIN_NATURE_CUR_CAP(3.0): Capital and total current expenditure on education (from all sources)>, 'DSD_EAG_UOE_FIN@DF_UOE_FIN_NATURE_STAFF': <DataflowDefinition OECD.EDU.IMEP:DSD_EAG_UOE_FIN@DF_UOE_FIN_NATURE_STAFF(3.0): Dépenses de rémunération du personnel en éducation (toutes sources confondues)>, 'DSD_EAG_UOE_FIN@DF_UOE_FIN_SOURCE_GV_PR_NDOM': <DataflowDefinition OECD.EDU.IMEP:DSD_EAG_UOE_FIN@DF_UOE_FIN_SOURCE_GV_PR_NDOM(3.0): Distribution of government, private and non-domestic expenditure on educational institutions>, 'DSD_EAG_UOE_FIN@DF_UOE_INDIC_FIN_PERSTUD': <DataflowDefinition OECD.EDU.IMEP:DSD_EAG_UOE_FIN@DF_UOE_INDIC_FIN_PERSTUD(3.0): Dépenses unitaires d'éducation en équivalents temps plein>}, {}, {}, {}, {}, {}, {}, {}, {}, {'DSD_EAG_UOE_FIN': <DataStructureDefinition OECD.EDU.IMEP:DSD_EAG_UOE_FIN(3.0): DSD for education expenditure>}, {}, {}, {}, {}, {}]}\n",
      "__doc__ SDMX StructureMessage.\n",
      "__match_args__ ('version', 'header', 'footer', 'response', 'categorisation', 'category_scheme', 'codelist', 'concept_scheme', 'constraint', 'custom_type_scheme', 'dataflow', 'hierarchical_codelist', 'hierarchy', 'metadataflow', 'metadatastructure', 'name_personalisation_scheme', 'organisation_scheme', 'provisionagreement', 'ruleset_scheme', 'structure', 'structureset', 'transformation_scheme', 'user_defined_operator_scheme', 'valuelist', 'vtl_mapping_scheme')\n",
      "__module__ sdmx.message\n",
      "_codelist {'CL_AREA': <Codelist OECD:CL_AREA(1.2) (502 items): Codelist for reference areas and geocoding>, 'CL_EDUCATION_LEV_ISCED11': <Codelist OECD:CL_EDUCATION_LEV_ISCED11(1.0) (166 items): Code list for Education level, ISCED11>, 'CL_PRICES': <Codelist OECD:CL_PRICES(1.0) (14 items): Codelist for Prices>, 'CL_UNIT_MEASURE': <Codelist OECD:CL_UNIT_MEASURE(1.20) (1002 items): Codelist for Unit of measure>, 'CL_EXPENDITURE_TYPE': <Codelist OECD.EDU.IMEP:CL_EXPENDITURE_TYPE(1.0) (33 items): Expenditure type>, 'CL_INST_TYPE_EDU': <Codelist OECD.EDU.IMEP:CL_INST_TYPE_EDU(1.0) (18 items): Educational institution types and sectors>, 'CL_INTENSITY': <Codelist OECD.EDU.IMEP:CL_INTENSITY(1.0) (5 items): Intensity>, 'CL_MEASURE_FIN': <Codelist OECD.EDU.IMEP:CL_MEASURE_FIN(1.0) (11 items): Codelist for data element that represents a simple aggregation and which takes one or more vectors as arguments and returns a scalar>, 'CL_Q_SHEET': <Codelist OECD.EDU.IMEP:CL_Q_SHEET(1.0) (3 items): Questionnaire sheet>, 'CL_Q_SHEET_ROW_ID': <Codelist OECD.EDU.IMEP:CL_Q_SHEET_ROW_ID(1.0) (182 items): Questionnaire row ID>, 'CL_DECIMALS': <Codelist SDMX:CL_DECIMALS(1.0) (16 items): Decimals>, 'CL_OBS_STATUS': <Codelist SDMX:CL_OBS_STATUS(2.2) (20 items): Observation Status>, 'CL_UNIT_MULT': <Codelist SDMX:CL_UNIT_MULT(1.1) (31 items): Code list for the Unit Multiplier>}\n",
      "_collections [{}, {}, {'CL_AREA': <Codelist OECD:CL_AREA(1.2) (502 items): Codelist for reference areas and geocoding>, 'CL_EDUCATION_LEV_ISCED11': <Codelist OECD:CL_EDUCATION_LEV_ISCED11(1.0) (166 items): Code list for Education level, ISCED11>, 'CL_PRICES': <Codelist OECD:CL_PRICES(1.0) (14 items): Codelist for Prices>, 'CL_UNIT_MEASURE': <Codelist OECD:CL_UNIT_MEASURE(1.20) (1002 items): Codelist for Unit of measure>, 'CL_EXPENDITURE_TYPE': <Codelist OECD.EDU.IMEP:CL_EXPENDITURE_TYPE(1.0) (33 items): Expenditure type>, 'CL_INST_TYPE_EDU': <Codelist OECD.EDU.IMEP:CL_INST_TYPE_EDU(1.0) (18 items): Educational institution types and sectors>, 'CL_INTENSITY': <Codelist OECD.EDU.IMEP:CL_INTENSITY(1.0) (5 items): Intensity>, 'CL_MEASURE_FIN': <Codelist OECD.EDU.IMEP:CL_MEASURE_FIN(1.0) (11 items): Codelist for data element that represents a simple aggregation and which takes one or more vectors as arguments and returns a scalar>, 'CL_Q_SHEET': <Codelist OECD.EDU.IMEP:CL_Q_SHEET(1.0) (3 items): Questionnaire sheet>, 'CL_Q_SHEET_ROW_ID': <Codelist OECD.EDU.IMEP:CL_Q_SHEET_ROW_ID(1.0) (182 items): Questionnaire row ID>, 'CL_DECIMALS': <Codelist SDMX:CL_DECIMALS(1.0) (16 items): Decimals>, 'CL_OBS_STATUS': <Codelist SDMX:CL_OBS_STATUS(2.2) (20 items): Observation Status>, 'CL_UNIT_MULT': <Codelist SDMX:CL_UNIT_MULT(1.1) (31 items): Code list for the Unit Multiplier>}, {'CS_EDU_FIN': <ConceptScheme OECD.EDU.IMEP:CS_EDU_FIN(3.0) (18 items): Concept scheme of education finance data>}, {}, {}, {'DSD_EAG_UOE_FIN@DF_UOE_FIN_INDIC_SHARE_EDU_GOV': <DataflowDefinition OECD.EDU.IMEP:DSD_EAG_UOE_FIN@DF_UOE_FIN_INDIC_SHARE_EDU_GOV(3.0): Part des dépenses publiques totales consacrées à l’éducation>, 'DSD_EAG_UOE_FIN@DF_UOE_FIN_INDIC_SOURCE_NATURE': <DataflowDefinition OECD.EDU.IMEP:DSD_EAG_UOE_FIN@DF_UOE_FIN_INDIC_SOURCE_NATURE(3.0): Ensemble de données complet - Indicateurs, source, destination et nature des dépenses d'éducation>, 'DSD_EAG_UOE_FIN@DF_UOE_FIN_NATURE_CUR_CAP': <DataflowDefinition OECD.EDU.IMEP:DSD_EAG_UOE_FIN@DF_UOE_FIN_NATURE_CUR_CAP(3.0): Capital and total current expenditure on education (from all sources)>, 'DSD_EAG_UOE_FIN@DF_UOE_FIN_NATURE_STAFF': <DataflowDefinition OECD.EDU.IMEP:DSD_EAG_UOE_FIN@DF_UOE_FIN_NATURE_STAFF(3.0): Dépenses de rémunération du personnel en éducation (toutes sources confondues)>, 'DSD_EAG_UOE_FIN@DF_UOE_FIN_SOURCE_GV_PR_NDOM': <DataflowDefinition OECD.EDU.IMEP:DSD_EAG_UOE_FIN@DF_UOE_FIN_SOURCE_GV_PR_NDOM(3.0): Distribution of government, private and non-domestic expenditure on educational institutions>, 'DSD_EAG_UOE_FIN@DF_UOE_INDIC_FIN_PERSTUD': <DataflowDefinition OECD.EDU.IMEP:DSD_EAG_UOE_FIN@DF_UOE_INDIC_FIN_PERSTUD(3.0): Dépenses unitaires d'éducation en équivalents temps plein>}, {}, {}, {}, {}, {}, {}, {}, {}, {'DSD_EAG_UOE_FIN': <DataStructureDefinition OECD.EDU.IMEP:DSD_EAG_UOE_FIN(3.0): DSD for education expenditure>}, {}, {}, {}, {}, {}]\n",
      "_concept_scheme {'CS_EDU_FIN': <ConceptScheme OECD.EDU.IMEP:CS_EDU_FIN(3.0) (18 items): Concept scheme of education finance data>}\n",
      "_dataflow {'DSD_EAG_UOE_FIN@DF_UOE_FIN_INDIC_SHARE_EDU_GOV': <DataflowDefinition OECD.EDU.IMEP:DSD_EAG_UOE_FIN@DF_UOE_FIN_INDIC_SHARE_EDU_GOV(3.0): Part des dépenses publiques totales consacrées à l’éducation>, 'DSD_EAG_UOE_FIN@DF_UOE_FIN_INDIC_SOURCE_NATURE': <DataflowDefinition OECD.EDU.IMEP:DSD_EAG_UOE_FIN@DF_UOE_FIN_INDIC_SOURCE_NATURE(3.0): Ensemble de données complet - Indicateurs, source, destination et nature des dépenses d'éducation>, 'DSD_EAG_UOE_FIN@DF_UOE_FIN_NATURE_CUR_CAP': <DataflowDefinition OECD.EDU.IMEP:DSD_EAG_UOE_FIN@DF_UOE_FIN_NATURE_CUR_CAP(3.0): Capital and total current expenditure on education (from all sources)>, 'DSD_EAG_UOE_FIN@DF_UOE_FIN_NATURE_STAFF': <DataflowDefinition OECD.EDU.IMEP:DSD_EAG_UOE_FIN@DF_UOE_FIN_NATURE_STAFF(3.0): Dépenses de rémunération du personnel en éducation (toutes sources confondues)>, 'DSD_EAG_UOE_FIN@DF_UOE_FIN_SOURCE_GV_PR_NDOM': <DataflowDefinition OECD.EDU.IMEP:DSD_EAG_UOE_FIN@DF_UOE_FIN_SOURCE_GV_PR_NDOM(3.0): Distribution of government, private and non-domestic expenditure on educational institutions>, 'DSD_EAG_UOE_FIN@DF_UOE_INDIC_FIN_PERSTUD': <DataflowDefinition OECD.EDU.IMEP:DSD_EAG_UOE_FIN@DF_UOE_INDIC_FIN_PERSTUD(3.0): Dépenses unitaires d'éducation en équivalents temps plein>}\n",
      "_structure {'DSD_EAG_UOE_FIN': <DataStructureDefinition OECD.EDU.IMEP:DSD_EAG_UOE_FIN(3.0): DSD for education expenditure>}\n",
      "codelist {'CL_AREA': <Codelist OECD:CL_AREA(1.2) (502 items): Codelist for reference areas and geocoding>, 'CL_EDUCATION_LEV_ISCED11': <Codelist OECD:CL_EDUCATION_LEV_ISCED11(1.0) (166 items): Code list for Education level, ISCED11>, 'CL_PRICES': <Codelist OECD:CL_PRICES(1.0) (14 items): Codelist for Prices>, 'CL_UNIT_MEASURE': <Codelist OECD:CL_UNIT_MEASURE(1.20) (1002 items): Codelist for Unit of measure>, 'CL_EXPENDITURE_TYPE': <Codelist OECD.EDU.IMEP:CL_EXPENDITURE_TYPE(1.0) (33 items): Expenditure type>, 'CL_INST_TYPE_EDU': <Codelist OECD.EDU.IMEP:CL_INST_TYPE_EDU(1.0) (18 items): Educational institution types and sectors>, 'CL_INTENSITY': <Codelist OECD.EDU.IMEP:CL_INTENSITY(1.0) (5 items): Intensity>, 'CL_MEASURE_FIN': <Codelist OECD.EDU.IMEP:CL_MEASURE_FIN(1.0) (11 items): Codelist for data element that represents a simple aggregation and which takes one or more vectors as arguments and returns a scalar>, 'CL_Q_SHEET': <Codelist OECD.EDU.IMEP:CL_Q_SHEET(1.0) (3 items): Questionnaire sheet>, 'CL_Q_SHEET_ROW_ID': <Codelist OECD.EDU.IMEP:CL_Q_SHEET_ROW_ID(1.0) (182 items): Questionnaire row ID>, 'CL_DECIMALS': <Codelist SDMX:CL_DECIMALS(1.0) (16 items): Decimals>, 'CL_OBS_STATUS': <Codelist SDMX:CL_OBS_STATUS(2.2) (20 items): Observation Status>, 'CL_UNIT_MULT': <Codelist SDMX:CL_UNIT_MULT(1.1) (31 items): Code list for the Unit Multiplier>}\n",
      "concept_scheme {'CS_EDU_FIN': <ConceptScheme OECD.EDU.IMEP:CS_EDU_FIN(3.0) (18 items): Concept scheme of education finance data>}\n",
      "dataflow {'DSD_EAG_UOE_FIN@DF_UOE_FIN_INDIC_SHARE_EDU_GOV': <DataflowDefinition OECD.EDU.IMEP:DSD_EAG_UOE_FIN@DF_UOE_FIN_INDIC_SHARE_EDU_GOV(3.0): Part des dépenses publiques totales consacrées à l’éducation>, 'DSD_EAG_UOE_FIN@DF_UOE_FIN_INDIC_SOURCE_NATURE': <DataflowDefinition OECD.EDU.IMEP:DSD_EAG_UOE_FIN@DF_UOE_FIN_INDIC_SOURCE_NATURE(3.0): Ensemble de données complet - Indicateurs, source, destination et nature des dépenses d'éducation>, 'DSD_EAG_UOE_FIN@DF_UOE_FIN_NATURE_CUR_CAP': <DataflowDefinition OECD.EDU.IMEP:DSD_EAG_UOE_FIN@DF_UOE_FIN_NATURE_CUR_CAP(3.0): Capital and total current expenditure on education (from all sources)>, 'DSD_EAG_UOE_FIN@DF_UOE_FIN_NATURE_STAFF': <DataflowDefinition OECD.EDU.IMEP:DSD_EAG_UOE_FIN@DF_UOE_FIN_NATURE_STAFF(3.0): Dépenses de rémunération du personnel en éducation (toutes sources confondues)>, 'DSD_EAG_UOE_FIN@DF_UOE_FIN_SOURCE_GV_PR_NDOM': <DataflowDefinition OECD.EDU.IMEP:DSD_EAG_UOE_FIN@DF_UOE_FIN_SOURCE_GV_PR_NDOM(3.0): Distribution of government, private and non-domestic expenditure on educational institutions>, 'DSD_EAG_UOE_FIN@DF_UOE_INDIC_FIN_PERSTUD': <DataflowDefinition OECD.EDU.IMEP:DSD_EAG_UOE_FIN@DF_UOE_INDIC_FIN_PERSTUD(3.0): Dépenses unitaires d'éducation en équivalents temps plein>}\n",
      "header <Header>\n",
      "  id: 'IDREF21374'\n",
      "  prepared: '2024-10-07T11:47:04.695014+02:00'\n",
      "  receiver: <Agency Unknown>\n",
      "  sender: <Agency Unknown>\n",
      "  source: \n",
      "  test: False\n",
      "response <Response [200]>\n",
      "structure {'DSD_EAG_UOE_FIN': <DataStructureDefinition OECD.EDU.IMEP:DSD_EAG_UOE_FIN(3.0): DSD for education expenditure>}\n",
      "version Version.2.1\n"
     ]
    }
   ],
   "source": [
    "for attr in dir(dsd):\n",
    "    content = getattr(dsd, attr)\n",
    "    if not content:\n",
    "        continue\n",
    "    if not callable(content):\n",
    "        print(attr, content)\n"
   ]
  },
  {
   "cell_type": "code",
   "execution_count": null,
   "metadata": {},
   "outputs": [],
   "source": []
  },
  {
   "cell_type": "code",
   "execution_count": 40,
   "metadata": {},
   "outputs": [
    {
     "data": {
      "text/plain": [
       "['__annotations__',\n",
       " '__class__',\n",
       " '__contains__',\n",
       " '__dataclass_fields__',\n",
       " '__dataclass_params__',\n",
       " '__delattr__',\n",
       " '__dict__',\n",
       " '__dir__',\n",
       " '__doc__',\n",
       " '__eq__',\n",
       " '__format__',\n",
       " '__ge__',\n",
       " '__getattribute__',\n",
       " '__getstate__',\n",
       " '__gt__',\n",
       " '__hash__',\n",
       " '__init__',\n",
       " '__init_subclass__',\n",
       " '__le__',\n",
       " '__lt__',\n",
       " '__match_args__',\n",
       " '__module__',\n",
       " '__ne__',\n",
       " '__new__',\n",
       " '__post_init__',\n",
       " '__reduce__',\n",
       " '__reduce_ex__',\n",
       " '__repr__',\n",
       " '__setattr__',\n",
       " '__sizeof__',\n",
       " '__str__',\n",
       " '__subclasshook__',\n",
       " '__weakref__',\n",
       " '_categorisation',\n",
       " '_category_scheme',\n",
       " '_codelist',\n",
       " '_collections',\n",
       " '_concept_scheme',\n",
       " '_constraint',\n",
       " '_custom_type_scheme',\n",
       " '_dataflow',\n",
       " '_hierarchical_codelist',\n",
       " '_hierarchy',\n",
       " '_metadataflow',\n",
       " '_metadatastructure',\n",
       " '_name_personalisation_scheme',\n",
       " '_organisation_scheme',\n",
       " '_provisionagreement',\n",
       " '_ruleset_scheme',\n",
       " '_structure',\n",
       " '_structureset',\n",
       " '_transformation_scheme',\n",
       " '_user_defined_operator_scheme',\n",
       " '_valuelist',\n",
       " '_vtl_mapping_scheme',\n",
       " 'add',\n",
       " 'categorisation',\n",
       " 'category_scheme',\n",
       " 'codelist',\n",
       " 'compare',\n",
       " 'concept_scheme',\n",
       " 'constraint',\n",
       " 'custom_type_scheme',\n",
       " 'dataflow',\n",
       " 'footer',\n",
       " 'get',\n",
       " 'header',\n",
       " 'hierarchical_codelist',\n",
       " 'hierarchy',\n",
       " 'iter_collections',\n",
       " 'iter_objects',\n",
       " 'metadataflow',\n",
       " 'metadatastructure',\n",
       " 'name_personalisation_scheme',\n",
       " 'objects',\n",
       " 'organisation_scheme',\n",
       " 'provisionagreement',\n",
       " 'response',\n",
       " 'ruleset_scheme',\n",
       " 'structure',\n",
       " 'structureset',\n",
       " 'transformation_scheme',\n",
       " 'user_defined_operator_scheme',\n",
       " 'valuelist',\n",
       " 'version',\n",
       " 'vtl_mapping_scheme']"
      ]
     },
     "execution_count": 40,
     "metadata": {},
     "output_type": "execute_result"
    }
   ],
   "source": [
    "dir(dsd)"
   ]
  },
  {
   "cell_type": "code",
   "execution_count": null,
   "metadata": {},
   "outputs": [],
   "source": []
  },
  {
   "cell_type": "code",
   "execution_count": 19,
   "metadata": {},
   "outputs": [
    {
     "name": "stdout",
     "output_type": "stream",
     "text": [
      "Retrieve SDMX data or metadata with resource_type='metadata'.\n",
      "\n",
      "        (Meta)data is retrieved from the :attr:`source` of the current Client. The\n",
      "        item(s) to retrieve can be specified in one of two ways:\n",
      "\n",
      "        1. `resource_type`, `resource_id`: These give the type (see :class:`Resource`)\n",
      "           and, optionally, ID of the item(s). If the `resource_id` is not given, all\n",
      "           items of the given type are retrieved.\n",
      "        2. a `resource` object, i.e. a :class:`.MaintainableArtefact`: `resource_type`\n",
      "           and `resource_id` are determined by the object's class and\n",
      "           :attr:`id <.IdentifiableArtefact.id>` attribute, respectively.\n",
      "\n",
      "        Data is retrieved with `resource_type='data'`. In this case, the optional\n",
      "        keyword argument `key` can be used to constrain the data that is retrieved.\n",
      "        Examples of the formats for `key`:\n",
      "\n",
      "        1. ``{'GEO': ['EL', 'ES', 'IE']}``: :class:`dict` with dimension name(s) mapped\n",
      "           to an iterable of allowable values.\n",
      "        2. ``{'GEO': 'EL+ES+IE'}``: :class:`dict` with dimension name(s) mapped to\n",
      "           strings joining allowable values with `'+'`, the logical 'or' operator for\n",
      "           SDMX web services.\n",
      "        3. ``'....EL+ES+IE'``: :class:`str` in which ordered dimension values (some\n",
      "           empty, ``''``) are joined with ``'.'``. Using this form requires knowledge\n",
      "           of the dimension order in the target data `resource_id`; in the example,\n",
      "           dimension 'GEO' is the fifth of five dimensions: ``'.'.join(['', '', '', '',\n",
      "           'EL+ES+IE'])``. :meth:`.CubeRegion.to_query_string` can also be used to\n",
      "           create properly formatted strings.\n",
      "\n",
      "        For formats 1 and 2, but not 3, the `key` argument is validated against the\n",
      "        relevant :class:`DSD <.BaseDataStructureDefinition>`, either given with the\n",
      "        `dsd` keyword argument, or retrieved from the web service before the main query.\n",
      "\n",
      "        For the optional `param` keyword argument, some useful parameters are:\n",
      "\n",
      "        - 'startperiod', 'endperiod': restrict the time range of data to retrieve.\n",
      "        - 'references': control which item(s) related to a metadata resource are\n",
      "          retrieved, e.g. `references='parentsandsiblings'`.\n",
      "\n",
      "        Parameters\n",
      "        ----------\n",
      "        resource_type : str or :class:`Resource`, optional\n",
      "            Type of resource to retrieve.\n",
      "        resource_id : str, optional\n",
      "            ID of the resource to retrieve.\n",
      "        tofile : str or :class:`~os.PathLike` or `file-like object`, optional\n",
      "            File path or file-like to write SDMX data as it is received.\n",
      "        use_cache : bool, optional\n",
      "            If :obj:`True`, return a previously retrieved :class:`~.Message` from\n",
      "            :attr:`cache`, or update the cache with a newly-retrieved Message.\n",
      "        dry_run : bool, optional\n",
      "            If :obj:`True`, prepare and return a :class:`requests.Request` object, but\n",
      "            do not execute the query. The prepared URL and headers can be examined by\n",
      "            inspecting the returned object.\n",
      "        **kwargs\n",
      "            Other, optional parameters (below).\n",
      "\n",
      "        Other Parameters\n",
      "        ----------------\n",
      "        dsd : :class:`DataStructureDefinition <.BaseDataStructureDefinition>`\n",
      "            Existing object used to validate the `key` argument. If not provided, an\n",
      "            additional query executed to retrieve a DSD in order to validate the `key`.\n",
      "        force : bool\n",
      "            If :obj:`True`, execute the query even if the :attr:`source` does not\n",
      "            support queries for the given `resource_type`. Default: :obj:`False`.\n",
      "        headers : dict\n",
      "            HTTP headers. Given headers will overwrite instance-wide headers passed to\n",
      "            the constructor. Default: :obj:`None` to use the default headers of the\n",
      "            :attr:`source`.\n",
      "        key : str or dict\n",
      "            For queries with `resource_type='data'`. :class:`str` values are not\n",
      "            validated; :class:`dict` values are validated using\n",
      "            :meth:`~.DataStructureDefinition.make_constraint`.\n",
      "        params : dict\n",
      "            Query parameters. The `SDMX REST web service guidelines <https://            github.com/sdmx-twg/sdmx-rest/tree/master/v2_1/ws/rest/docs>`_\n",
      "            describe parameters and allowable values for different queries. `params` is\n",
      "            not validated before the query is executed.\n",
      "        provider : str\n",
      "            ID of the agency providing the data or metadata. Default: ID of the\n",
      "            :attr:`source` agency.\n",
      "\n",
      "            An SDMX web service is a ‘data source’ operated by a specific, ‘source’\n",
      "            agency. A web service may host data or metadata originally published by one\n",
      "            or more ‘provider’ agencies. Many sources are also providers. Other\n",
      "            agencies—e.g. the SDMX Global Registry—simply aggregate (meta)data from\n",
      "            other providers, but do not provide any (meta)data themselves.\n",
      "        resource : :class:`~.MaintainableArtefact` subclass\n",
      "            Object to retrieve. If given, `resource_type` and `resource_id` are ignored.\n",
      "        version : str\n",
      "            :attr:`~.VersionableArtefact.version>` of a resource to retrieve. Default:\n",
      "            the keyword 'latest'.\n",
      "\n",
      "        Returns\n",
      "        -------\n",
      "        :class:`~.Message` or :class:`~requests.Request`\n",
      "            The requested SDMX message or, if `dry_run` is :obj:`True`, the prepared\n",
      "            request object.\n",
      "\n",
      "        Raises\n",
      "        ------\n",
      "        NotImplementedError\n",
      "            If the :attr:`source` does not support the given `resource_type` and `force`\n",
      "            is not :obj:`True`.\n",
      "        \n"
     ]
    }
   ],
   "source": [
    "print(root.metadata.__doc__)"
   ]
  },
  {
   "cell_type": "code",
   "execution_count": 7,
   "metadata": {},
   "outputs": [
    {
     "data": {
      "text/plain": [
       "['__annotations__',\n",
       " '__class__',\n",
       " '__delattr__',\n",
       " '__dict__',\n",
       " '__dir__',\n",
       " '__doc__',\n",
       " '__eq__',\n",
       " '__format__',\n",
       " '__ge__',\n",
       " '__getattr__',\n",
       " '__getattribute__',\n",
       " '__getstate__',\n",
       " '__gt__',\n",
       " '__hash__',\n",
       " '__init__',\n",
       " '__init_subclass__',\n",
       " '__le__',\n",
       " '__lt__',\n",
       " '__module__',\n",
       " '__ne__',\n",
       " '__new__',\n",
       " '__reduce__',\n",
       " '__reduce_ex__',\n",
       " '__repr__',\n",
       " '__setattr__',\n",
       " '__sizeof__',\n",
       " '__str__',\n",
       " '__subclasshook__',\n",
       " '__weakref__',\n",
       " '_handle_get_kwargs',\n",
       " '_make_key',\n",
       " '_request_from_args',\n",
       " '_request_from_url',\n",
       " '_send_kwargs',\n",
       " 'actualconstraint',\n",
       " 'agencyscheme',\n",
       " 'allowedconstraint',\n",
       " 'attachementconstraint',\n",
       " 'availableconstraint',\n",
       " 'cache',\n",
       " 'categorisation',\n",
       " 'categoryscheme',\n",
       " 'clear_cache',\n",
       " 'codelist',\n",
       " 'conceptscheme',\n",
       " 'contentconstraint',\n",
       " 'customtypescheme',\n",
       " 'data',\n",
       " 'dataconsumerscheme',\n",
       " 'dataflow',\n",
       " 'dataproviderscheme',\n",
       " 'datastructure',\n",
       " 'get',\n",
       " 'hierarchicalcodelist',\n",
       " 'metadata',\n",
       " 'metadataflow',\n",
       " 'metadatastructure',\n",
       " 'namepersonalisationscheme',\n",
       " 'organisationscheme',\n",
       " 'organisationunitscheme',\n",
       " 'preview_data',\n",
       " 'process',\n",
       " 'provisionagreement',\n",
       " 'registration',\n",
       " 'reportingtaxonomy',\n",
       " 'rulesetscheme',\n",
       " 'schema',\n",
       " 'series_keys',\n",
       " 'session',\n",
       " 'source',\n",
       " 'structure',\n",
       " 'structureset',\n",
       " 'timeout',\n",
       " 'transformationscheme',\n",
       " 'userdefinedoperatorscheme',\n",
       " 'vtlmappingscheme']"
      ]
     },
     "execution_count": 7,
     "metadata": {},
     "output_type": "execute_result"
    }
   ],
   "source": [
    "dir(root)"
   ]
  },
  {
   "cell_type": "code",
   "execution_count": 9,
   "metadata": {},
   "outputs": [
    {
     "name": "stdout",
     "output_type": "stream",
     "text": [
      "__annotations__ {'cache': typing.Dict[str, ForwardRef('sdmx.message.Message')], 'source': 'sdmx.source.Source', 'session': <class 'requests.sessions.Session'>, '_send_kwargs': typing.Dict[str, typing.Any]}\n",
      "__class__ is callable\n",
      "__delattr__ is callable\n",
      "__dict__ {'source': Source(id='OECD', url='https://sdmx.oecd.org/public/rest', name='Organisation for Economic Co-operation and Development', headers={}, data_content_type=<DataContentType.XML: 3>, versions={<Version.2.1: 2.1>}, supports={<Resource.actualconstraint: 'actualconstraint'>: True, <Resource.agencyscheme: 'agencyscheme'>: True, <Resource.allowedconstraint: 'allowedconstraint'>: True, <Resource.attachementconstraint: 'attachementconstraint'>: False, <Resource.availableconstraint: 'availableconstraint'>: False, <Resource.categorisation: 'categorisation'>: True, <Resource.categoryscheme: 'categoryscheme'>: True, <Resource.codelist: 'codelist'>: True, <Resource.conceptscheme: 'conceptscheme'>: True, <Resource.contentconstraint: 'contentconstraint'>: True, <Resource.customtypescheme: 'customtypescheme'>: False, <Resource.data: 'data'>: True, <Resource.dataconsumerscheme: 'dataconsumerscheme'>: False, <Resource.dataflow: 'dataflow'>: True, <Resource.dataproviderscheme: 'dataproviderscheme'>: False, <Resource.datastructure: 'datastructure'>: True, <Resource.hierarchicalcodelist: 'hierarchicalcodelist'>: True, <Resource.metadata: 'metadata'>: True, <Resource.metadataflow: 'metadataflow'>: False, <Resource.metadatastructure: 'metadatastructure'>: True, <Resource.namepersonalisationscheme: 'namepersonalisationscheme'>: False, <Resource.organisationscheme: 'organisationscheme'>: False, <Resource.organisationunitscheme: 'organisationunitscheme'>: False, <Resource.process: 'process'>: False, <Resource.provisionagreement: 'provisionagreement'>: False, <Resource.registration: 'registration'>: True, <Resource.reportingtaxonomy: 'reportingtaxonomy'>: False, <Resource.rulesetscheme: 'rulesetscheme'>: False, <Resource.schema: 'schema'>: False, <Resource.structure: 'structure'>: False, <Resource.structureset: 'structureset'>: False, <Resource.transformationscheme: 'transformationscheme'>: False, <Resource.userdefinedoperatorscheme: 'userdefinedoperatorscheme'>: False, <Resource.vtlmappingscheme: 'vtlmappingscheme'>: False, 'preview': True, 'structure-specific data': True}), 'session': <sdmx.session.Session object at 0x108ed1790>}\n",
      "__dir__ is callable\n",
      "__doc__ Client for a SDMX REST web service.\n",
      "\n",
      "    Parameters\n",
      "    ----------\n",
      "    source : str or source.Source\n",
      "        Identifier of a data source. If a string, must be one of the known sources in\n",
      "        :meth:`list_sources`.\n",
      "    log_level : int\n",
      "        Override the package-wide logger with one of the\n",
      "        :ref:`standard logging levels <py:levels>`.\n",
      "\n",
      "        .. deprecated:: 2.0\n",
      "           Will be removed in :mod:`sdmx` version 3.0.\n",
      "    **session_opts\n",
      "        Additional keyword arguments are passed to :class:`.Session`.\n",
      "\n",
      "    \n",
      "__eq__ is callable\n",
      "__format__ is callable\n",
      "__ge__ is callable\n",
      "__getattr__ is callable\n",
      "__getattribute__ is callable\n",
      "__getstate__ is callable\n",
      "__gt__ is callable\n",
      "__hash__ is callable\n",
      "__init__ is callable\n",
      "__init_subclass__ is callable\n",
      "__le__ is callable\n",
      "__lt__ is callable\n",
      "__module__ sdmx.client\n",
      "__ne__ is callable\n",
      "__new__ is callable\n",
      "__reduce__ is callable\n",
      "__reduce_ex__ is callable\n",
      "__repr__ is callable\n",
      "__setattr__ is callable\n",
      "__sizeof__ is callable\n",
      "__str__ is callable\n",
      "__subclasshook__ is callable\n",
      "__weakref__ None\n",
      "_handle_get_kwargs is callable\n",
      "_make_key is callable\n",
      "_request_from_args is callable\n",
      "_request_from_url is callable\n",
      "_send_kwargs {}\n",
      "actualconstraint is callable\n",
      "agencyscheme is callable\n",
      "allowedconstraint is callable\n",
      "attachementconstraint is callable\n",
      "availableconstraint is callable\n",
      "cache {}\n",
      "categorisation is callable\n",
      "categoryscheme is callable\n",
      "clear_cache is callable\n",
      "codelist is callable\n",
      "conceptscheme is callable\n",
      "contentconstraint is callable\n",
      "customtypescheme is callable\n",
      "data is callable\n",
      "dataconsumerscheme is callable\n",
      "dataflow is callable\n",
      "dataproviderscheme is callable\n",
      "datastructure is callable\n",
      "get is callable\n",
      "hierarchicalcodelist is callable\n",
      "metadata is callable\n",
      "metadataflow is callable\n",
      "metadatastructure is callable\n",
      "namepersonalisationscheme is callable\n",
      "organisationscheme is callable\n",
      "organisationunitscheme is callable\n",
      "preview_data is callable\n",
      "process is callable\n",
      "provisionagreement is callable\n",
      "registration is callable\n",
      "reportingtaxonomy is callable\n",
      "rulesetscheme is callable\n",
      "schema is callable\n",
      "series_keys is callable\n",
      "session <sdmx.session.Session object at 0x108ed1790>\n",
      "source Source(id='OECD', url='https://sdmx.oecd.org/public/rest', name='Organisation for Economic Co-operation and Development', headers={}, data_content_type=<DataContentType.XML: 3>, versions={<Version.2.1: 2.1>}, supports={<Resource.actualconstraint: 'actualconstraint'>: True, <Resource.agencyscheme: 'agencyscheme'>: True, <Resource.allowedconstraint: 'allowedconstraint'>: True, <Resource.attachementconstraint: 'attachementconstraint'>: False, <Resource.availableconstraint: 'availableconstraint'>: False, <Resource.categorisation: 'categorisation'>: True, <Resource.categoryscheme: 'categoryscheme'>: True, <Resource.codelist: 'codelist'>: True, <Resource.conceptscheme: 'conceptscheme'>: True, <Resource.contentconstraint: 'contentconstraint'>: True, <Resource.customtypescheme: 'customtypescheme'>: False, <Resource.data: 'data'>: True, <Resource.dataconsumerscheme: 'dataconsumerscheme'>: False, <Resource.dataflow: 'dataflow'>: True, <Resource.dataproviderscheme: 'dataproviderscheme'>: False, <Resource.datastructure: 'datastructure'>: True, <Resource.hierarchicalcodelist: 'hierarchicalcodelist'>: True, <Resource.metadata: 'metadata'>: True, <Resource.metadataflow: 'metadataflow'>: False, <Resource.metadatastructure: 'metadatastructure'>: True, <Resource.namepersonalisationscheme: 'namepersonalisationscheme'>: False, <Resource.organisationscheme: 'organisationscheme'>: False, <Resource.organisationunitscheme: 'organisationunitscheme'>: False, <Resource.process: 'process'>: False, <Resource.provisionagreement: 'provisionagreement'>: False, <Resource.registration: 'registration'>: True, <Resource.reportingtaxonomy: 'reportingtaxonomy'>: False, <Resource.rulesetscheme: 'rulesetscheme'>: False, <Resource.schema: 'schema'>: False, <Resource.structure: 'structure'>: False, <Resource.structureset: 'structureset'>: False, <Resource.transformationscheme: 'transformationscheme'>: False, <Resource.userdefinedoperatorscheme: 'userdefinedoperatorscheme'>: False, <Resource.vtlmappingscheme: 'vtlmappingscheme'>: False, 'preview': True, 'structure-specific data': True})\n",
      "structure is callable\n",
      "structureset is callable\n",
      "timeout 30.1\n",
      "transformationscheme is callable\n",
      "userdefinedoperatorscheme is callable\n",
      "vtlmappingscheme is callable\n"
     ]
    }
   ],
   "source": [
    "for attr in dir(root):\n",
    "    content = getattr(root, attr)\n",
    "    if not callable(content):\n",
    "        print(attr, content)\n",
    "    else:\n",
    "        print(attr, \"is callable\")"
   ]
  },
  {
   "cell_type": "code",
   "execution_count": 14,
   "metadata": {},
   "outputs": [
    {
     "name": "stderr",
     "output_type": "stream",
     "text": [
      "/Users/ghorvai/Projects/sdmx-workshop/.venv/lib/python3.11/site-packages/sdmx/rest/common.py:367: UserWarning: 'agency_id' argument is redundant for data queries\n",
      "  getattr(self, f\"handle_{query_type}\")()\n"
     ]
    }
   ],
   "source": [
    "data = root.data(id)"
   ]
  },
  {
   "cell_type": "code",
   "execution_count": 23,
   "metadata": {},
   "outputs": [
    {
     "data": {
      "text/plain": [
       "['__annotations__',\n",
       " '__class__',\n",
       " '__dataclass_fields__',\n",
       " '__dataclass_params__',\n",
       " '__delattr__',\n",
       " '__dict__',\n",
       " '__dir__',\n",
       " '__doc__',\n",
       " '__eq__',\n",
       " '__format__',\n",
       " '__ge__',\n",
       " '__getattribute__',\n",
       " '__getstate__',\n",
       " '__gt__',\n",
       " '__hash__',\n",
       " '__init__',\n",
       " '__init_subclass__',\n",
       " '__le__',\n",
       " '__lt__',\n",
       " '__match_args__',\n",
       " '__module__',\n",
       " '__ne__',\n",
       " '__new__',\n",
       " '__post_init__',\n",
       " '__reduce__',\n",
       " '__reduce_ex__',\n",
       " '__repr__',\n",
       " '__setattr__',\n",
       " '__sizeof__',\n",
       " '__str__',\n",
       " '__subclasshook__',\n",
       " '__weakref__',\n",
       " 'compare',\n",
       " 'data',\n",
       " 'dataflow',\n",
       " 'footer',\n",
       " 'header',\n",
       " 'observation_dimension',\n",
       " 'response',\n",
       " 'structure',\n",
       " 'structure_type',\n",
       " 'update',\n",
       " 'version']"
      ]
     },
     "execution_count": 23,
     "metadata": {},
     "output_type": "execute_result"
    }
   ],
   "source": [
    "dir(data)"
   ]
  },
  {
   "cell_type": "code",
   "execution_count": 36,
   "metadata": {},
   "outputs": [
    {
     "name": "stdout",
     "output_type": "stream",
     "text": [
      "TIME_PERIOD\n",
      "REF_AREA\n",
      "MEASURE\n",
      "EDUCATION_LEV\n",
      "EXP_SOURCE\n",
      "EXP_DESTINATION\n",
      "EXPENDITURE_TYPE\n",
      "PRICE_BASE\n",
      "UNIT_MEASURE\n",
      "Q_SHEET\n"
     ]
    }
   ],
   "source": [
    "#data.structure.measures\n",
    "for dim in data.structure.dimensions:\n",
    "    print(dim.id)"
   ]
  },
  {
   "cell_type": "code",
   "execution_count": 34,
   "metadata": {},
   "outputs": [
    {
     "data": {
      "text/plain": [
       "['__annotations__',\n",
       " '__class__',\n",
       " '__contains__',\n",
       " '__dataclass_fields__',\n",
       " '__dataclass_params__',\n",
       " '__delattr__',\n",
       " '__dict__',\n",
       " '__dir__',\n",
       " '__doc__',\n",
       " '__eq__',\n",
       " '__format__',\n",
       " '__ge__',\n",
       " '__getattribute__',\n",
       " '__getstate__',\n",
       " '__gt__',\n",
       " '__hash__',\n",
       " '__init__',\n",
       " '__init_subclass__',\n",
       " '__le__',\n",
       " '__lt__',\n",
       " '__match_args__',\n",
       " '__module__',\n",
       " '__ne__',\n",
       " '__new__',\n",
       " '__post_init__',\n",
       " '__reduce__',\n",
       " '__reduce_ex__',\n",
       " '__repr__',\n",
       " '__setattr__',\n",
       " '__sizeof__',\n",
       " '__str__',\n",
       " '__subclasshook__',\n",
       " '__weakref__',\n",
       " '_preserve',\n",
       " 'annotations',\n",
       " 'compare',\n",
       " 'concept_identity',\n",
       " 'concept_role',\n",
       " 'eval_annotation',\n",
       " 'get_annotation',\n",
       " 'id',\n",
       " 'local_representation',\n",
       " 'order',\n",
       " 'pop_annotation',\n",
       " 'uri',\n",
       " 'urn',\n",
       " 'urn_group']"
      ]
     },
     "execution_count": 34,
     "metadata": {},
     "output_type": "execute_result"
    }
   ],
   "source": [
    "dir(dim)"
   ]
  },
  {
   "cell_type": "code",
   "execution_count": 25,
   "metadata": {},
   "outputs": [
    {
     "data": {
      "text/plain": [
       "['ConstraintType',\n",
       " 'MemberSelection',\n",
       " 'MemberValue',\n",
       " '__annotations__',\n",
       " '__class__',\n",
       " '__dataclass_fields__',\n",
       " '__dataclass_params__',\n",
       " '__delattr__',\n",
       " '__dict__',\n",
       " '__dir__',\n",
       " '__doc__',\n",
       " '__eq__',\n",
       " '__format__',\n",
       " '__ge__',\n",
       " '__getattribute__',\n",
       " '__getstate__',\n",
       " '__gt__',\n",
       " '__hash__',\n",
       " '__init__',\n",
       " '__init_subclass__',\n",
       " '__le__',\n",
       " '__lt__',\n",
       " '__match_args__',\n",
       " '__module__',\n",
       " '__ne__',\n",
       " '__new__',\n",
       " '__post_init__',\n",
       " '__reduce__',\n",
       " '__reduce_ex__',\n",
       " '__repr__',\n",
       " '__setattr__',\n",
       " '__sizeof__',\n",
       " '__str__',\n",
       " '__subclasshook__',\n",
       " '__weakref__',\n",
       " '_description',\n",
       " '_group_dimensions',\n",
       " '_name',\n",
       " '_preserve',\n",
       " '_repr_kw',\n",
       " 'annotations',\n",
       " 'attributes',\n",
       " 'compare',\n",
       " 'description',\n",
       " 'dimensions',\n",
       " 'eval_annotation',\n",
       " 'from_keys',\n",
       " 'get_annotation',\n",
       " 'group_dimensions',\n",
       " 'grouping',\n",
       " 'id',\n",
       " 'is_external_reference',\n",
       " 'is_final',\n",
       " 'iter_keys',\n",
       " 'maintainer',\n",
       " 'make_constraint',\n",
       " 'make_key',\n",
       " 'measures',\n",
       " 'name',\n",
       " 'pop_annotation',\n",
       " 'replace_grouping',\n",
       " 'service_url',\n",
       " 'structure_url',\n",
       " 'uri',\n",
       " 'urn',\n",
       " 'urn_group',\n",
       " 'valid_from',\n",
       " 'valid_to',\n",
       " 'version']"
      ]
     },
     "execution_count": 25,
     "metadata": {},
     "output_type": "execute_result"
    }
   ],
   "source": [
    "dir(data.structure)"
   ]
  },
  {
   "cell_type": "code",
   "execution_count": 260,
   "metadata": {},
   "outputs": [],
   "source": []
  },
  {
   "cell_type": "code",
   "execution_count": 261,
   "metadata": {},
   "outputs": [
    {
     "name": "stdout",
     "output_type": "stream",
     "text": [
      "__annotations__ {'structure': <class 'sdmx.model.v21.DataStructureDefinition'>}\n",
      "__class__ is callable\n",
      "__dataclass_fields__ {'annotations': Field(name='annotations',type=typing.List[sdmx.model.common.Annotation],default=<dataclasses._MISSING_TYPE object at 0x106576110>,default_factory=<class 'list'>,init=True,repr=True,hash=None,compare=True,metadata=mappingproxy({}),kw_only=False,_field_type=_FIELD), 'id': Field(name='id',type=<class 'str'>,default='',default_factory=<dataclasses._MISSING_TYPE object at 0x106576110>,init=True,repr=True,hash=None,compare=True,metadata=mappingproxy({}),kw_only=False,_field_type=_FIELD), 'uri': Field(name='uri',type=typing.Optional[str],default=None,default_factory=<dataclasses._MISSING_TYPE object at 0x106576110>,init=True,repr=True,hash=None,compare=True,metadata=mappingproxy({}),kw_only=False,_field_type=_FIELD), 'urn': Field(name='urn',type=typing.Optional[str],default=None,default_factory=<dataclasses._MISSING_TYPE object at 0x106576110>,init=True,repr=True,hash=None,compare=True,metadata=mappingproxy({}),kw_only=False,_field_type=_FIELD), 'urn_group': Field(name='urn_group',type=typing.Dict,default=<dataclasses._MISSING_TYPE object at 0x106576110>,default_factory=<class 'dict'>,init=True,repr=False,hash=None,compare=True,metadata=mappingproxy({}),kw_only=False,_field_type=_FIELD), 'name': Field(name='name',type=<class 'sdmx.model.internationalstring.InternationalStringDescriptor'>,default=None,default_factory=<dataclasses._MISSING_TYPE object at 0x106576110>,init=True,repr=True,hash=None,compare=True,metadata=mappingproxy({}),kw_only=False,_field_type=_FIELD), 'description': Field(name='description',type=<class 'sdmx.model.internationalstring.InternationalStringDescriptor'>,default=None,default_factory=<dataclasses._MISSING_TYPE object at 0x106576110>,init=True,repr=True,hash=None,compare=True,metadata=mappingproxy({}),kw_only=False,_field_type=_FIELD), 'version': Field(name='version',type=typing.Optional[str],default=None,default_factory=<dataclasses._MISSING_TYPE object at 0x106576110>,init=True,repr=True,hash=None,compare=True,metadata=mappingproxy({}),kw_only=False,_field_type=_FIELD), 'valid_from': Field(name='valid_from',type=typing.Optional[str],default=None,default_factory=<dataclasses._MISSING_TYPE object at 0x106576110>,init=True,repr=True,hash=None,compare=True,metadata=mappingproxy({}),kw_only=False,_field_type=_FIELD), 'valid_to': Field(name='valid_to',type=typing.Optional[str],default=None,default_factory=<dataclasses._MISSING_TYPE object at 0x106576110>,init=True,repr=True,hash=None,compare=True,metadata=mappingproxy({}),kw_only=False,_field_type=_FIELD), 'is_final': Field(name='is_final',type=typing.Optional[bool],default=None,default_factory=<dataclasses._MISSING_TYPE object at 0x106576110>,init=True,repr=True,hash=None,compare=True,metadata=mappingproxy({}),kw_only=False,_field_type=_FIELD), 'is_external_reference': Field(name='is_external_reference',type=typing.Optional[bool],default=None,default_factory=<dataclasses._MISSING_TYPE object at 0x106576110>,init=True,repr=True,hash=None,compare=True,metadata=mappingproxy({}),kw_only=False,_field_type=_FIELD), 'service_url': Field(name='service_url',type=typing.Optional[str],default=None,default_factory=<dataclasses._MISSING_TYPE object at 0x106576110>,init=True,repr=True,hash=None,compare=True,metadata=mappingproxy({}),kw_only=False,_field_type=_FIELD), 'structure_url': Field(name='structure_url',type=typing.Optional[str],default=None,default_factory=<dataclasses._MISSING_TYPE object at 0x106576110>,init=True,repr=True,hash=None,compare=True,metadata=mappingproxy({}),kw_only=False,_field_type=_FIELD), 'maintainer': Field(name='maintainer',type=typing.Optional[ForwardRef('Agency')],default=None,default_factory=<dataclasses._MISSING_TYPE object at 0x106576110>,init=True,repr=True,hash=None,compare=True,metadata=mappingproxy({}),kw_only=False,_field_type=_FIELD), 'structure': Field(name='structure',type=<class 'sdmx.model.v21.DataStructureDefinition'>,default=<dataclasses._MISSING_TYPE object at 0x106576110>,default_factory=<class 'sdmx.model.v21.DataStructureDefinition'>,init=True,repr=True,hash=None,compare=True,metadata=mappingproxy({}),kw_only=False,_field_type=_FIELD)}\n",
      "__dataclass_params__ _DataclassParams(init=True,repr=False,eq=True,order=False,unsafe_hash=False,frozen=False)\n",
      "__delattr__ is callable\n",
      "__dict__ {'annotations': [Annotation(id=None, title=None, type='NonProductionDataflow', url=None, text=en: true), Annotation(id='@SDMX', title='REF_AREA', type='LAYOUT_ROW', url=None, text=), Annotation(id='@SDMX', title='TIME_PERIOD,EDUCATION_LEV', type='LAYOUT_COLUMN', url=None, text=), Annotation(id=None, title='LAYOUT_TIME_PERIOD_DESC', type='LAYOUT_TIME_PERIOD_DESC', url=None, text=), Annotation(id='@SDMX', title='COMBINED_UNIT_MEASURE', type='LAYOUT_ROW_SECTION', url=None, text=), Annotation(id='@SDMX', title='OBS_STATUS=A,UNIT_MULT=0,Q_SHEET_ROW_ID', type='NOT_DISPLAYED', url=None, text=), Annotation(id=None, title='COMBINED_UNIT_MEASURE:UNIT_MEASURE,UNIT_MULT,PRICE_BASE,BASE_PER', type='COMBINED_CONCEPTS', url=None, text=en: COMBINED_UNIT_MEASURE:Combined unit of measure\n",
      "fr: COMBINED_UNIT_MEASURE:Unité de mesure combinée), Annotation(id='@SDMX', title='EDUCATION_LEV=ISCED11_1+ISCED11_2+ISCED11_3+ISCED11_34+ISCED11_35+ISCED11_4+ISCED11_5+ISCED11_5T8+ISCED11_6T8+ISCED11_1T8,TIME_PERIOD_START=2021,TIME_PERIOD_END=2021,EXP_SOURCE=_T,EXP_DESTINATION=INST_EDU,EXPENDITURE_TYPE=DIR_EXP,PRICE_BASE=V+_Z,UNIT_MEASURE=USD_PPP_ST+PT_B1GQ_POP', type='DEFAULT', url=None, text=), Annotation(id='@SDMX', title='EXP_SOURCE:OECD.EDU.IMEP:HCL_SECTOR_EDU(1.0).H,EDUCATION_LEV:OECD.EDU.IMEP:HCL_ISCED(1.0).H,EXPENDITURE_TYPE:OECD.EDU.IMEP:HCL_RD(1.0).H', type='HIER_CONTEXT', url=None, text=), Annotation(id=None, title='1.00015', type='SEARCH_WEIGHT', url=None, text=)], 'id': 'DSD_EAG_UOE_FIN@DF_UOE_INDIC_FIN_PERSTUD', 'uri': None, 'urn': None, 'urn_group': {}, '_name': en: Expenditure on educational institutions per full-time equivalent student\n",
      "fr: Dépenses unitaires d'éducation en équivalents temps plein, '_description': en: This dataset contains data on expenditure per full-time equivalent student and per full-time equivalent student as a percentage of GPD per capita. The default table displays data for 2021 in current USD PPP and as a percentage of GDP per capita, from all expenditure sources, and unfiltered by type of expenditure. The selection can be changed to display data: by year, by source of expenditure, by destination of expenditure and by type of expenditure. Please note that the filters are inter related, meaning that selection in one category may impact the possibility to select options in another category. </p><p>For more information, please consult <a href=\"https://doi.org/10.1787/c00cad36-en\"><i>Education at a Glance 2024</i></a> and the <a href=\"https://doi.org/10.1787/9789264304444-en\"><i>OECD Handbook for Internationally Comparative Education Statistics: Concepts, Standards, Definitions and Classifications</i></a>. Additional details regarding the methodology used, references to the sources, and specific notes for each country can be found in <a href=\"https://doi.org/10.1787/e7d20315-en\"><i>Education at a Glance 2024 Sources, Methodologies and Technical Notes</i></a>.\n",
      "fr: Cet ensemble de données contient des données sur les dépenses par étudiant équivalent temps plein et par étudiant équivalent temps plein en pourcentage du PIB par habitant. Le tableau par défaut affiche les données pour 2021 en dollars des É-U PPA convertis courants et en pourcentage du PIB par habitant, provenant de toutes les sources de dépenses, et non filtrées par type de dépenses. La sélection peut être modifiée pour afficher les données : par année, par source de dépenses, par destination de dépenses et par type de dépenses. Veuillez noter que les filtres sont interdépendants, ce qui signifie que la sélection dans une catégorie peut avoir un impact sur la possibilité de sélectionner des options dans une autre catégorie. </p><p>Pour plus d'informations, veuillez consulter <a href=\"https://doi.org/10.1787/c00cad36-en\"><i>Regard sur l'éducation 2024</i></a> et le <a href=\"https://doi.org/10.1787/9789264305380-fr\"><i>Guide de l'OCDE pour l'établissement de statistiques internationalement comparables dans le domaine de l'éducation 2018</i></a>. Des détails supplémentaires concernant la méthodologie utilisée, les références aux sources et les notes spécifiques à chaque pays peuvent être trouvés dans <a href=\"https://doi.org/10.1787/e7d20315-en\"><i>Regard sur l'éducation 2024 Sources, méthodologies et notes techniques</i></a>., 'version': '3.0', 'valid_from': None, 'valid_to': None, 'is_final': True, 'is_external_reference': False, 'service_url': None, 'structure_url': None, 'maintainer': <Agency OECD.EDU.IMEP>, 'structure': <DataStructureDefinition OECD.EDU.IMEP:DSD_EAG_UOE_FIN(3.0): DSD for education expenditure>}\n",
      "__dir__ is callable\n",
      "__doc__ DataflowDefinition(annotations: List[sdmx.model.common.Annotation] = <factory>, id: str = '', uri: Optional[str] = None, urn: Optional[str] = None, urn_group: Dict = <factory>, name: sdmx.model.internationalstring.InternationalStringDescriptor = None, description: sdmx.model.internationalstring.InternationalStringDescriptor = None, version: Optional[str] = None, valid_from: Optional[str] = None, valid_to: Optional[str] = None, is_final: Optional[bool] = None, is_external_reference: Optional[bool] = None, service_url: Optional[str] = None, structure_url: Optional[str] = None, maintainer: Optional[ForwardRef('Agency')] = None, structure: sdmx.model.v21.DataStructureDefinition = <factory>)\n",
      "__eq__ is callable\n",
      "__format__ is callable\n",
      "__ge__ is callable\n",
      "__getattribute__ is callable\n",
      "__getstate__ is callable\n",
      "__gt__ is callable\n",
      "__hash__ is callable\n",
      "__init__ is callable\n",
      "__init_subclass__ is callable\n",
      "__le__ is callable\n",
      "__lt__ is callable\n",
      "__match_args__ ('annotations', 'id', 'uri', 'urn', 'urn_group', 'name', 'description', 'version', 'valid_from', 'valid_to', 'is_final', 'is_external_reference', 'service_url', 'structure_url', 'maintainer', 'structure')\n",
      "__module__ sdmx.model.v21\n",
      "__ne__ is callable\n",
      "__new__ is callable\n",
      "__post_init__ is callable\n",
      "__reduce__ is callable\n",
      "__reduce_ex__ is callable\n",
      "__repr__ is callable\n",
      "__setattr__ is callable\n",
      "__sizeof__ is callable\n",
      "__str__ is callable\n",
      "__subclasshook__ is callable\n",
      "__weakref__ None\n",
      "_description This dataset contains data on expenditure per full-time equivalent student and per full-time equivalent student as a percentage of GPD per capita. The default table displays data for 2021 in current USD PPP and as a percentage of GDP per capita, from all expenditure sources, and unfiltered by type of expenditure. The selection can be changed to display data: by year, by source of expenditure, by destination of expenditure and by type of expenditure. Please note that the filters are inter related, meaning that selection in one category may impact the possibility to select options in another category. </p><p>For more information, please consult <a href=\"https://doi.org/10.1787/c00cad36-en\"><i>Education at a Glance 2024</i></a> and the <a href=\"https://doi.org/10.1787/9789264304444-en\"><i>OECD Handbook for Internationally Comparative Education Statistics: Concepts, Standards, Definitions and Classifications</i></a>. Additional details regarding the methodology used, references to the sources, and specific notes for each country can be found in <a href=\"https://doi.org/10.1787/e7d20315-en\"><i>Education at a Glance 2024 Sources, Methodologies and Technical Notes</i></a>.\n",
      "_name Expenditure on educational institutions per full-time equivalent student\n",
      "_preserve is callable\n",
      "_repr_kw is callable\n",
      "annotations [Annotation(id=None, title=None, type='NonProductionDataflow', url=None, text=en: true), Annotation(id='@SDMX', title='REF_AREA', type='LAYOUT_ROW', url=None, text=), Annotation(id='@SDMX', title='TIME_PERIOD,EDUCATION_LEV', type='LAYOUT_COLUMN', url=None, text=), Annotation(id=None, title='LAYOUT_TIME_PERIOD_DESC', type='LAYOUT_TIME_PERIOD_DESC', url=None, text=), Annotation(id='@SDMX', title='COMBINED_UNIT_MEASURE', type='LAYOUT_ROW_SECTION', url=None, text=), Annotation(id='@SDMX', title='OBS_STATUS=A,UNIT_MULT=0,Q_SHEET_ROW_ID', type='NOT_DISPLAYED', url=None, text=), Annotation(id=None, title='COMBINED_UNIT_MEASURE:UNIT_MEASURE,UNIT_MULT,PRICE_BASE,BASE_PER', type='COMBINED_CONCEPTS', url=None, text=en: COMBINED_UNIT_MEASURE:Combined unit of measure\n",
      "fr: COMBINED_UNIT_MEASURE:Unité de mesure combinée), Annotation(id='@SDMX', title='EDUCATION_LEV=ISCED11_1+ISCED11_2+ISCED11_3+ISCED11_34+ISCED11_35+ISCED11_4+ISCED11_5+ISCED11_5T8+ISCED11_6T8+ISCED11_1T8,TIME_PERIOD_START=2021,TIME_PERIOD_END=2021,EXP_SOURCE=_T,EXP_DESTINATION=INST_EDU,EXPENDITURE_TYPE=DIR_EXP,PRICE_BASE=V+_Z,UNIT_MEASURE=USD_PPP_ST+PT_B1GQ_POP', type='DEFAULT', url=None, text=), Annotation(id='@SDMX', title='EXP_SOURCE:OECD.EDU.IMEP:HCL_SECTOR_EDU(1.0).H,EDUCATION_LEV:OECD.EDU.IMEP:HCL_ISCED(1.0).H,EXPENDITURE_TYPE:OECD.EDU.IMEP:HCL_RD(1.0).H', type='HIER_CONTEXT', url=None, text=), Annotation(id=None, title='1.00015', type='SEARCH_WEIGHT', url=None, text=)]\n",
      "compare is callable\n",
      "description This dataset contains data on expenditure per full-time equivalent student and per full-time equivalent student as a percentage of GPD per capita. The default table displays data for 2021 in current USD PPP and as a percentage of GDP per capita, from all expenditure sources, and unfiltered by type of expenditure. The selection can be changed to display data: by year, by source of expenditure, by destination of expenditure and by type of expenditure. Please note that the filters are inter related, meaning that selection in one category may impact the possibility to select options in another category. </p><p>For more information, please consult <a href=\"https://doi.org/10.1787/c00cad36-en\"><i>Education at a Glance 2024</i></a> and the <a href=\"https://doi.org/10.1787/9789264304444-en\"><i>OECD Handbook for Internationally Comparative Education Statistics: Concepts, Standards, Definitions and Classifications</i></a>. Additional details regarding the methodology used, references to the sources, and specific notes for each country can be found in <a href=\"https://doi.org/10.1787/e7d20315-en\"><i>Education at a Glance 2024 Sources, Methodologies and Technical Notes</i></a>.\n",
      "eval_annotation is callable\n",
      "get_annotation is callable\n",
      "id DSD_EAG_UOE_FIN@DF_UOE_INDIC_FIN_PERSTUD\n",
      "is_external_reference False\n",
      "is_final True\n",
      "iter_keys is callable\n",
      "maintainer OECD.EDU.IMEP\n",
      "name Expenditure on educational institutions per full-time equivalent student\n",
      "pop_annotation is callable\n",
      "service_url None\n",
      "structure DSD_EAG_UOE_FIN\n",
      "structure_url None\n",
      "uri None\n",
      "urn None\n",
      "urn_group {}\n",
      "valid_from None\n",
      "valid_to None\n",
      "version 3.0\n"
     ]
    }
   ],
   "source": [
    "for attr in dir(dataflow_definition):\n",
    "    content = getattr(dataflow_definition, attr)\n",
    "    if not callable(content):\n",
    "        print(attr, content)\n",
    "    else:\n",
    "        print(attr, \"is callable\")"
   ]
  },
  {
   "cell_type": "code",
   "execution_count": null,
   "metadata": {},
   "outputs": [],
   "source": [
    "dir(dataflow_definition)"
   ]
  },
  {
   "cell_type": "code",
   "execution_count": null,
   "metadata": {},
   "outputs": [],
   "source": []
  },
  {
   "cell_type": "code",
   "execution_count": null,
   "metadata": {},
   "outputs": [],
   "source": [
    "# dimensions\n",
    "raw_df = sdmx.Client(\"OECD\").dataflow(\"DSD_EAG_UOE_FIN@DF_UOE_INDIC_FIN_PERSTUD\")\n",
    "concept_scheme_key = list(raw_df.concept_scheme.keys())[0]\n",
    "for key, value in raw_df.concept_scheme[concept_scheme_key].items.items():\n",
    "    print(key, value.name, ':', value.description)\n",
    "\n",
    "\n",
    "print(\"\\n\\nAnother way to get the dimensions:\")\n",
    "for dim in raw_df.structure['DSD_EAG_UOE_FIN'].dimensions:\n",
    "    print(dim)"
   ]
  },
  {
   "cell_type": "code",
   "execution_count": null,
   "metadata": {},
   "outputs": [],
   "source": [
    "# def _get_code_list_urns(self) -> dict[str, str]:\n",
    "#         \"\"\"Get code list URNs from the dataflow.\"\"\"\n",
    "#         dimensions = self.df_details_json['dataStructures'][0]['dataStructureComponents']['dimensionList']['dimensions']"
   ]
  },
  {
   "cell_type": "code",
   "execution_count": null,
   "metadata": {},
   "outputs": [],
   "source": [
    "# results\n",
    "#name = test_obj._name.localizations['en']\n",
    "#dir(sdmx.Client(\"OECD\").datastructure(\"DSD_EAG_UOE_FIN\"))\n",
    "sdmx.Client(\"OECD\").datastructure(\"DSD_EAG_UOE_FIN\").dataflow"
   ]
  },
  {
   "cell_type": "code",
   "execution_count": 4,
   "metadata": {},
   "outputs": [],
   "source": [
    "df = sdmx.Client(\"OECD\").datastructure(\"DSD_EAG_UOE_FIN\").dataflow['DSD_EAG_UOE_FIN@DF_UOE_INDIC_FIN_PERSTUD']"
   ]
  },
  {
   "cell_type": "code",
   "execution_count": null,
   "metadata": {},
   "outputs": [],
   "source": [
    "for attr in dir(df):\n",
    "    content = getattr(df, attr)\n",
    "    if not callable(content):\n",
    "        print(attr, content)\n",
    "    else:\n",
    "        print(attr, \"is callable\")"
   ]
  },
  {
   "cell_type": "code",
   "execution_count": null,
   "metadata": {},
   "outputs": [],
   "source": [
    "df.name.localizations['fr']"
   ]
  },
  {
   "cell_type": "code",
   "execution_count": null,
   "metadata": {},
   "outputs": [],
   "source": [
    "df.constraint"
   ]
  },
  {
   "cell_type": "code",
   "execution_count": 231,
   "metadata": {},
   "outputs": [],
   "source": [
    "raw_df = sdmx.Client(\"OECD\").dataflow(\"DSD_EAG_UOE_FIN@DF_UOE_INDIC_FIN_PERSTUD\")"
   ]
  },
  {
   "cell_type": "code",
   "execution_count": null,
   "metadata": {},
   "outputs": [],
   "source": [
    "for attr in raw_df.structure['DSD_EAG_UOE_FIN'].attributes:\n",
    "    print(attr, attr.related_to)"
   ]
  },
  {
   "cell_type": "code",
   "execution_count": null,
   "metadata": {},
   "outputs": [],
   "source": [
    "for dim in raw_df.structure['DSD_EAG_UOE_FIN'].dimensions:\n",
    "    print(dim)"
   ]
  },
  {
   "cell_type": "code",
   "execution_count": null,
   "metadata": {},
   "outputs": [],
   "source": [
    "for method in ['annotations', 'compare', 'concept_identity', 'eval_annotation', 'get_annotation', 'id', 'local_representation', 'order', 'pop_annotation', 'uri', 'urn']:\n",
    "    print(method, getattr(dim, method))"
   ]
  },
  {
   "cell_type": "code",
   "execution_count": null,
   "metadata": {},
   "outputs": [],
   "source": []
  },
  {
   "cell_type": "code",
   "execution_count": null,
   "metadata": {},
   "outputs": [],
   "source": []
  },
  {
   "cell_type": "code",
   "execution_count": null,
   "metadata": {},
   "outputs": [],
   "source": [
    "dir(dim)"
   ]
  },
  {
   "cell_type": "code",
   "execution_count": null,
   "metadata": {},
   "outputs": [],
   "source": []
  },
  {
   "cell_type": "code",
   "execution_count": null,
   "metadata": {},
   "outputs": [],
   "source": [
    "dir(raw_df.structure['DSD_EAG_UOE_FIN'])\n",
    "    \n"
   ]
  },
  {
   "cell_type": "code",
   "execution_count": 271,
   "metadata": {},
   "outputs": [],
   "source": [
    "garbage = raw_df.concept_scheme['CS_EDU_FIN'].items\n",
    "for key in garbage:\n",
    "    item = garbage[key]"
   ]
  },
  {
   "cell_type": "code",
   "execution_count": null,
   "metadata": {},
   "outputs": [],
   "source": [
    "item.name.localizations['en']"
   ]
  },
  {
   "cell_type": "code",
   "execution_count": null,
   "metadata": {},
   "outputs": [],
   "source": [
    "item.description.localizations['en']"
   ]
  },
  {
   "cell_type": "code",
   "execution_count": null,
   "metadata": {},
   "outputs": [],
   "source": []
  },
  {
   "cell_type": "code",
   "execution_count": null,
   "metadata": {},
   "outputs": [],
   "source": [
    "#    def _extract_dimension_names(self) -> None:\n",
    "#         \"\"\"Extract dimension names from the dataflow.\"\"\"\n",
    "#         concepts = self.df_details_json['conceptSchemes'][0]['concepts']\n",
    "#         self.df_dimension_names = {item['id']: item['name'] for item in concepts}\n",
    "dir(raw_df)"
   ]
  },
  {
   "cell_type": "code",
   "execution_count": null,
   "metadata": {},
   "outputs": [],
   "source": [
    "raw_df.constraint['CR_DSD_EAG_UOE_FIN@DF_UOE_INDIC_FIN_PERSTUD']"
   ]
  },
  {
   "cell_type": "code",
   "execution_count": null,
   "metadata": {},
   "outputs": [],
   "source": [
    "dir(raw_df.constraint['CR_DSD_EAG_UOE_FIN@DF_UOE_INDIC_FIN_PERSTUD'])"
   ]
  },
  {
   "cell_type": "code",
   "execution_count": null,
   "metadata": {},
   "outputs": [],
   "source": [
    "for a in raw_df.constraint['CR_DSD_EAG_UOE_FIN@DF_UOE_INDIC_FIN_PERSTUD'].content:\n",
    "    print(a)"
   ]
  },
  {
   "cell_type": "code",
   "execution_count": null,
   "metadata": {},
   "outputs": [],
   "source": [
    "a.id"
   ]
  },
  {
   "cell_type": "code",
   "execution_count": null,
   "metadata": {},
   "outputs": [],
   "source": [
    "raw_df.constraint"
   ]
  },
  {
   "cell_type": "code",
   "execution_count": null,
   "metadata": {},
   "outputs": [],
   "source": []
  },
  {
   "cell_type": "code",
   "execution_count": null,
   "metadata": {},
   "outputs": [],
   "source": []
  },
  {
   "cell_type": "code",
   "execution_count": null,
   "metadata": {},
   "outputs": [],
   "source": [
    "dir(df)"
   ]
  },
  {
   "cell_type": "code",
   "execution_count": null,
   "metadata": {},
   "outputs": [],
   "source": [
    "sdmx.Client(\"OECD\").dataflow(\"DSD_EAG_UOE_FIN@DF_UOE_FIN_INDIC_SOURCE_NATURE\").codelist"
   ]
  },
  {
   "cell_type": "code",
   "execution_count": null,
   "metadata": {},
   "outputs": [],
   "source": [
    "print(sdmx.Client(\"OECD\").dataflow(\"DSD_EAG_UOE_FIN@DF_UOE_FIN_INDIC_SOURCE_NATURE\").constraint)\n",
    "print(sdmx.Client(\"OECD\").dataflow(\"DSD_EAG_UOE_FIN@DF_UOE_FIN_INDIC_SOURCE_NATURE\").category_scheme)\n",
    "print(sdmx.Client(\"OECD\").dataflow(\"DSD_EAG_UOE_FIN@DF_UOE_FIN_INDIC_SOURCE_NATURE\").concept_scheme)\n",
    "print(sdmx.Client(\"OECD\").dataflow(\"DSD_EAG_UOE_FIN@DF_UOE_FIN_INDIC_SOURCE_NATURE\").structure)\n",
    "print(sdmx.Client(\"OECD\").dataflow(\"DSD_EAG_UOE_FIN@DF_UOE_FIN_INDIC_SOURCE_NATURE\").objects) # it would be nice to access the objects directly somehow\n",
    "# these are working but useles: version, response, header, get (seems powerful but not documented), "
   ]
  },
  {
   "cell_type": "code",
   "execution_count": null,
   "metadata": {},
   "outputs": [],
   "source": [
    "# ['add',\n",
    "#  'categorisation',\n",
    "#  'category_scheme',\n",
    "#  'codelist',\n",
    "#  'compare',\n",
    "#  'concept_scheme',\n",
    "#  'constraint',\n",
    "#  'custom_type_scheme',\n",
    "#  '',\n",
    "#  '',\n",
    "#  '',\n",
    "#  '',\n",
    "#  '',\n",
    "#  'iter_collections',\n",
    "#  'iter_objects',\n",
    "#  '',\n",
    "#  '',\n",
    "#  '',\n",
    "#  '',\n",
    "#  '',\n",
    "#  '',\n",
    "#  '',\n",
    "#  '',\n",
    "#  '',\n",
    "#  '',\n",
    "#  '',\n",
    "#  '',\n",
    "#  '',\n",
    "#  '',\n",
    "#  '']\n",
    "sdmx.Client(\"OECD\").dataflow(\"DSD_EAG_UOE_FIN@DF_UOE_FIN_INDIC_SOURCE_NATURE\").dataflow\n"
   ]
  },
  {
   "cell_type": "code",
   "execution_count": 209,
   "metadata": {},
   "outputs": [],
   "source": [
    "i = sdmx.Client(\"OECD\").dataflow(\"DSD_EAG_UOE_FIN@DF_UOE_FIN_INDIC_SOURCE_NATURE\").dataflow"
   ]
  },
  {
   "cell_type": "code",
   "execution_count": null,
   "metadata": {},
   "outputs": [],
   "source": [
    "i.keys()"
   ]
  },
  {
   "cell_type": "code",
   "execution_count": null,
   "metadata": {},
   "outputs": [],
   "source": [
    "j=i['DSD_EAG_UOE_FIN@DF_UOE_FIN_INDIC_SOURCE_NATURE']\n",
    "type(j)"
   ]
  },
  {
   "cell_type": "code",
   "execution_count": null,
   "metadata": {},
   "outputs": [],
   "source": [
    "print(j.__doc__)"
   ]
  },
  {
   "cell_type": "code",
   "execution_count": null,
   "metadata": {},
   "outputs": [],
   "source": []
  },
  {
   "cell_type": "code",
   "execution_count": null,
   "metadata": {},
   "outputs": [],
   "source": [
    "dir(sdmx.Client(\"OECD\").dataflow(\"DSD_EAG_UOE_FIN@DF_UOE_FIN_INDIC_SOURCE_NATURE\"))"
   ]
  },
  {
   "cell_type": "code",
   "execution_count": null,
   "metadata": {},
   "outputs": [],
   "source": []
  },
  {
   "cell_type": "code",
   "execution_count": null,
   "metadata": {},
   "outputs": [],
   "source": []
  },
  {
   "cell_type": "code",
   "execution_count": null,
   "metadata": {},
   "outputs": [],
   "source": [
    "# get all sources\n",
    "sdmx.list_sources()"
   ]
  },
  {
   "cell_type": "code",
   "execution_count": 3,
   "metadata": {},
   "outputs": [],
   "source": [
    "oecd = sdmx.Client(\"OECD\")\n",
    "oesm = oecd.datastructure(\"DSD_EAG_UOE_FIN\")"
   ]
  },
  {
   "cell_type": "code",
   "execution_count": null,
   "metadata": {},
   "outputs": [],
   "source": [
    "sdmx.Client(\"OECD\").datastructure(\"DSD_EAG_UOE_FIN\").codelist"
   ]
  },
  {
   "cell_type": "code",
   "execution_count": null,
   "metadata": {},
   "outputs": [],
   "source": [
    "sdmx.Client(\"OECD\").datastructure(\"DSD_EAG_UOE_FIN\").codelist['CL_AREA'].items"
   ]
  },
  {
   "cell_type": "code",
   "execution_count": null,
   "metadata": {},
   "outputs": [],
   "source": [
    "# get, dataflow, iter_collections, iter_objects, objects, structure\n",
    "# DataflowDefinition, DataStructureDefinition\n",
    "something = sdmx.Client(\"OECD\").datastructure(\"DSD_EAG_UOE_FIN\")\n",
    "for attr in dir(something):\n",
    "    if not attr.startswith(\"_\"):\n",
    "        #print(attr, getattr(flow_msg, attr)=={})\n",
    "        if not getattr(something, attr)=={}:\n",
    "            print(attr)\n",
    "            print(getattr(something, attr))\n",
    "            print(\"\\n\\n\")"
   ]
  },
  {
   "cell_type": "code",
   "execution_count": null,
   "metadata": {},
   "outputs": [],
   "source": [
    "dir(sdmx.Client(\"OECD\").datastructure(\"DSD_EAG_UOE_FIN\").iter_objects)"
   ]
  },
  {
   "cell_type": "code",
   "execution_count": null,
   "metadata": {},
   "outputs": [],
   "source": [
    "sdmx.Client(\"OECD\").datastructure(\"DSD_EAG_UOE_FIN\").iter_objects.__doc__"
   ]
  },
  {
   "cell_type": "code",
   "execution_count": null,
   "metadata": {},
   "outputs": [],
   "source": [
    "for obj in sdmx.Client(\"OECD\").datastructure(\"DSD_EAG_UOE_FIN\").iter_objects():\n",
    "    #print(obj, obj.id, obj.name, obj.description, obj.dimensions, obj.attributes, obj.annotations)\n",
    "    print(obj.id, obj.name, obj.description, obj.annotations)\n",
    "    pass"
   ]
  },
  {
   "cell_type": "code",
   "execution_count": 137,
   "metadata": {},
   "outputs": [],
   "source": [
    "#sdmx.Client(\"OECD\").datastructure(\"DSD_EAG_UOE_FIN\").url\n",
    "oecd_uoe_fin_datastruct_objects = [obj for obj in sdmx.Client(\"OECD\").datastructure(\"DSD_EAG_UOE_FIN\").iter_objects()]\n"
   ]
  },
  {
   "cell_type": "code",
   "execution_count": null,
   "metadata": {},
   "outputs": [],
   "source": [
    "test_obj = oecd_uoe_fin_datastruct_objects[-2]\n",
    "\n",
    "for attr in dir(test_obj):\n",
    "    #if not attr.startswith(\"_\"):\n",
    "    print(f'{attr:30}: {getattr(test_obj, attr)}')"
   ]
  },
  {
   "cell_type": "code",
   "execution_count": null,
   "metadata": {},
   "outputs": [],
   "source": [
    "#sdmx.Client(\"OECD\").datastructure(\"DSD_EAG_UOE_FIN\").objects\n",
    "test_obj.__class__()\n"
   ]
  },
  {
   "cell_type": "code",
   "execution_count": null,
   "metadata": {},
   "outputs": [],
   "source": [
    "print(test_obj._name)\n",
    "print(test_obj._name.__str__())\n",
    "test_obj._name.__doc__"
   ]
  },
  {
   "cell_type": "code",
   "execution_count": null,
   "metadata": {},
   "outputs": [],
   "source": [
    "test_obj._name.localizations['en']"
   ]
  },
  {
   "cell_type": "code",
   "execution_count": null,
   "metadata": {},
   "outputs": [],
   "source": []
  },
  {
   "cell_type": "code",
   "execution_count": null,
   "metadata": {},
   "outputs": [],
   "source": [
    "dir(obj)"
   ]
  },
  {
   "cell_type": "code",
   "execution_count": null,
   "metadata": {},
   "outputs": [],
   "source": [
    "print(sdmx.Client(\"OECD\").datastructure(\"DSD_EAG_UOE_FIN\").objects.__doc__)"
   ]
  },
  {
   "cell_type": "code",
   "execution_count": null,
   "metadata": {},
   "outputs": [],
   "source": []
  },
  {
   "cell_type": "code",
   "execution_count": null,
   "metadata": {},
   "outputs": [],
   "source": []
  },
  {
   "cell_type": "code",
   "execution_count": null,
   "metadata": {},
   "outputs": [],
   "source": []
  },
  {
   "cell_type": "code",
   "execution_count": null,
   "metadata": {},
   "outputs": [],
   "source": []
  },
  {
   "cell_type": "code",
   "execution_count": null,
   "metadata": {},
   "outputs": [],
   "source": []
  },
  {
   "cell_type": "code",
   "execution_count": null,
   "metadata": {},
   "outputs": [],
   "source": []
  },
  {
   "cell_type": "code",
   "execution_count": null,
   "metadata": {},
   "outputs": [],
   "source": []
  },
  {
   "cell_type": "code",
   "execution_count": null,
   "metadata": {},
   "outputs": [],
   "source": []
  },
  {
   "cell_type": "code",
   "execution_count": null,
   "metadata": {},
   "outputs": [],
   "source": [
    "#sdmx.Client(\"OECD\").dataflows()\n",
    "#sdmx.Client(\"OECD\").dataflow() # this one works\n",
    "\n"
   ]
  },
  {
   "cell_type": "code",
   "execution_count": null,
   "metadata": {},
   "outputs": [],
   "source": [
    ".concept_scheme.items()"
   ]
  },
  {
   "cell_type": "code",
   "execution_count": null,
   "metadata": {},
   "outputs": [],
   "source": []
  },
  {
   "cell_type": "code",
   "execution_count": null,
   "metadata": {},
   "outputs": [],
   "source": []
  },
  {
   "cell_type": "code",
   "execution_count": null,
   "metadata": {},
   "outputs": [],
   "source": [
    "dir(oecd.datastructure)"
   ]
  },
  {
   "cell_type": "code",
   "execution_count": null,
   "metadata": {},
   "outputs": [],
   "source": [
    "oecd.datastructure.__sizeof__()"
   ]
  },
  {
   "cell_type": "code",
   "execution_count": null,
   "metadata": {},
   "outputs": [],
   "source": [
    "oecd.datastructure.__str__()"
   ]
  },
  {
   "cell_type": "code",
   "execution_count": null,
   "metadata": {},
   "outputs": [],
   "source": [
    "print(oesm.get(\"datastructure\"))\n",
    "oecd.get(\"datastructure\")"
   ]
  },
  {
   "cell_type": "code",
   "execution_count": null,
   "metadata": {},
   "outputs": [],
   "source": [
    "oecd.datastructure"
   ]
  },
  {
   "cell_type": "code",
   "execution_count": null,
   "metadata": {},
   "outputs": [],
   "source": [
    "oecd.get(\"dataflow\", detail=\"full\")"
   ]
  },
  {
   "cell_type": "code",
   "execution_count": null,
   "metadata": {},
   "outputs": [],
   "source": [
    "oesm.concept_scheme.items()"
   ]
  },
  {
   "cell_type": "code",
   "execution_count": null,
   "metadata": {},
   "outputs": [],
   "source": [
    "oesm.codelist"
   ]
  },
  {
   "cell_type": "code",
   "execution_count": null,
   "metadata": {},
   "outputs": [],
   "source": [
    "# this can take a while: 4m 30s\n",
    "flow_msg = oecd.dataflow()"
   ]
  },
  {
   "cell_type": "code",
   "execution_count": null,
   "metadata": {},
   "outputs": [],
   "source": [
    "type(flow_msg)"
   ]
  },
  {
   "cell_type": "code",
   "execution_count": null,
   "metadata": {},
   "outputs": [],
   "source": [
    "dataflows"
   ]
  },
  {
   "cell_type": "code",
   "execution_count": null,
   "metadata": {},
   "outputs": [],
   "source": [
    "flow_msg.concept_scheme"
   ]
  },
  {
   "cell_type": "code",
   "execution_count": null,
   "metadata": {},
   "outputs": [],
   "source": [
    "flow_msg.get(resource_type=\"codelist\")\n"
   ]
  },
  {
   "cell_type": "code",
   "execution_count": null,
   "metadata": {},
   "outputs": [],
   "source": []
  },
  {
   "cell_type": "code",
   "execution_count": null,
   "metadata": {},
   "outputs": [],
   "source": [
    "for attr in dir(flow_msg):\n",
    "    if not attr.startswith(\"_\"):\n",
    "        #print(attr, getattr(flow_msg, attr)=={})\n",
    "        if not getattr(flow_msg, attr)=={}:\n",
    "            print(attr)\n",
    "            print(getattr(flow_msg, attr))\n",
    "            print(\"\\n\\n\")"
   ]
  },
  {
   "cell_type": "code",
   "execution_count": null,
   "metadata": {},
   "outputs": [],
   "source": []
  },
  {
   "cell_type": "code",
   "execution_count": null,
   "metadata": {},
   "outputs": [],
   "source": [
    "flow_msg.add"
   ]
  },
  {
   "cell_type": "code",
   "execution_count": null,
   "metadata": {},
   "outputs": [],
   "source": [
    "flow_msg.header"
   ]
  },
  {
   "cell_type": "code",
   "execution_count": null,
   "metadata": {},
   "outputs": [],
   "source": []
  },
  {
   "cell_type": "code",
   "execution_count": null,
   "metadata": {},
   "outputs": [],
   "source": []
  },
  {
   "cell_type": "code",
   "execution_count": null,
   "metadata": {},
   "outputs": [],
   "source": [
    "# List all attributes and methods of the my_flow object\n",
    "print(dir(flow_msg))\n",
    "\n",
    "# Check the type of each attribute\n",
    "for attr in dir(flow_msg):\n",
    "    print(f\"{attr}: {type(getattr(flow_msg, attr))}\")\n"
   ]
  },
  {
   "cell_type": "code",
   "execution_count": null,
   "metadata": {},
   "outputs": [],
   "source": []
  },
  {
   "cell_type": "code",
   "execution_count": null,
   "metadata": {},
   "outputs": [],
   "source": []
  },
  {
   "cell_type": "code",
   "execution_count": null,
   "metadata": {},
   "outputs": [],
   "source": []
  },
  {
   "cell_type": "code",
   "execution_count": null,
   "metadata": {},
   "outputs": [],
   "source": []
  },
  {
   "cell_type": "code",
   "execution_count": null,
   "metadata": {},
   "outputs": [],
   "source": []
  },
  {
   "cell_type": "code",
   "execution_count": null,
   "metadata": {},
   "outputs": [],
   "source": [
    "\n",
    "# Access the dataflow dictionary-like object\n",
    "dataflows = flow_msg.dataflow\n",
    "\n",
    "# List all available dataflows\n",
    "for key in dataflows.keys():\n",
    "    print(f\"Dataflow ID: {key}, Name: {dataflows[key].name}\")\n",
    "\n",
    "# Access other attributes\n",
    "codelists = flow_msg.codelist\n",
    "conceptschemes = flow_msg.concept_scheme\n",
    "categoryschemes = flow_msg.category_scheme\n",
    "datastructures = flow_msg.data_structure\n",
    "organisations = flow_msg.organisation\n",
    "\n",
    "# Example: Print all concept schemes\n",
    "for key in conceptschemes.keys():\n",
    "    print(f\"Concept Scheme ID: {key}, Name: {conceptschemes[key].name}\")"
   ]
  },
  {
   "cell_type": "code",
   "execution_count": null,
   "metadata": {},
   "outputs": [],
   "source": [
    "# Retrieve and filter dataflows related to education finance\n",
    "education_finance_flows = {key: flow for key, flow in flow_msg.items() if 'education' in flow.name.lower() and 'finance' in flow.name.lower()}"
   ]
  },
  {
   "cell_type": "code",
   "execution_count": null,
   "metadata": {},
   "outputs": [],
   "source": [
    "# Assuming 'DSD_EAG_UOE_FIN' is the selected dataflow ID\n",
    "dataflow_id = 'DSD_EAG_UOE_FIN'\n",
    "dataflow = oecd.dataflow(dataflow_id)\n",
    "\n",
    "# Print the name and definition of the dataflow\n",
    "print(f\"Name: {dataflow.name}\")\n",
    "print(f\"Definition: {dataflow.description}\")\n",
    "\n",
    "# Retrieve the data structure definition (DSD)\n",
    "dsd = oecd.datastructure(dataflow.structure.id)\n",
    "\n",
    "# Print the list of dimensions\n",
    "print(\"Dimensions:\")\n",
    "for dim in dsd.dimensions:\n",
    "    print(f\"ID: {dim.id}, Name: {dim.name}\")\n",
    "\n",
    "# Print the list of codes for each dimension\n",
    "for dim in dsd.dimensions:\n",
    "    codes = oecd.codes(dim.id)\n",
    "    print(f\"Codes for dimension {dim.name}:\")\n",
    "    for code in codes:\n",
    "        print(f\"Code: {code.id}, Description: {code.description}\")\n"
   ]
  },
  {
   "cell_type": "code",
   "execution_count": null,
   "metadata": {},
   "outputs": [],
   "source": []
  }
 ],
 "metadata": {
  "kernelspec": {
   "display_name": ".venv",
   "language": "python",
   "name": "python3"
  },
  "language_info": {
   "codemirror_mode": {
    "name": "ipython",
    "version": 3
   },
   "file_extension": ".py",
   "mimetype": "text/x-python",
   "name": "python",
   "nbconvert_exporter": "python",
   "pygments_lexer": "ipython3",
   "version": "3.11.6"
  }
 },
 "nbformat": 4,
 "nbformat_minor": 2
}
