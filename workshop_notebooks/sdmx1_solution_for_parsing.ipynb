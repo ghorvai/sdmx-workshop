{
 "cells": [
  {
   "cell_type": "markdown",
   "metadata": {},
   "source": [
    "0. list all NGOs and all \"domains\" or \"maintainers\" or whatever the groups are called...\n",
    "1. List of available (edu-fin) dataflows would be nice.\n",
    "2. get \n",
    "    - name [done]\n",
    "    - description [done]\n",
    "    - dimensions\n",
    "    - codes\n",
    "    - maybe else as well 🤷‍♂️"
   ]
  },
  {
   "cell_type": "code",
   "execution_count": 1,
   "metadata": {},
   "outputs": [],
   "source": [
    "import sdmx\n",
    "import sdmx1_helpers as hlp"
   ]
  },
  {
   "cell_type": "code",
   "execution_count": 2,
   "metadata": {},
   "outputs": [],
   "source": [
    "list_of_ngos = sdmx.list_sources() # 0s"
   ]
  },
  {
   "cell_type": "markdown",
   "metadata": {},
   "source": [
    "# We select an organization"
   ]
  },
  {
   "cell_type": "code",
   "execution_count": 3,
   "metadata": {},
   "outputs": [],
   "source": [
    "ORGANISATION = 'OECD'"
   ]
  },
  {
   "cell_type": "code",
   "execution_count": 4,
   "metadata": {},
   "outputs": [],
   "source": [
    "_oecd_df_meta_flat = hlp.get_metadata_for_full_list_of_dataflows(ORGANISATION) # 2 minutes 😱 | 29s | 41s | 11s 😲 | 5.3s | 14s"
   ]
  },
  {
   "cell_type": "code",
   "execution_count": 5,
   "metadata": {},
   "outputs": [],
   "source": [
    "oecd_df_meta = hlp.restructure_dataflow_meta_dict(_oecd_df_meta_flat) # 0.0 second"
   ]
  },
  {
   "cell_type": "code",
   "execution_count": 6,
   "metadata": {},
   "outputs": [],
   "source": [
    "#dataflow_constraint_ids = hlp.get_dataflow_constraint_ids(\"OECD\") # 1m13s | 4m7s 😱"
   ]
  },
  {
   "cell_type": "code",
   "execution_count": 7,
   "metadata": {},
   "outputs": [],
   "source": [
    "dataflow_constraint_ids_single_version = hlp.get_dataflow_constraint_ids_single_version(ORGANISATION) # 1m39s | 48s | "
   ]
  },
  {
   "cell_type": "markdown",
   "metadata": {},
   "source": [
    "### here we have selected the dataflow"
   ]
  },
  {
   "cell_type": "code",
   "execution_count": 8,
   "metadata": {},
   "outputs": [],
   "source": [
    "DSD_ID = \"DSD_EAG_UOE_FIN\"\n",
    "DATAFLOW_ID = \"DF_UOE_INDIC_FIN_PERSTUD\"\n",
    "CONSTRAINT_ID = \"CR_A_DSD_EAG_UOE_FIN\""
   ]
  },
  {
   "cell_type": "code",
   "execution_count": 9,
   "metadata": {},
   "outputs": [
    {
     "data": {
      "text/plain": [
       "'CR_DSD_EAG_UOE_FIN'"
      ]
     },
     "execution_count": 9,
     "metadata": {},
     "output_type": "execute_result"
    }
   ],
   "source": [
    "dataflow_constraint_ids_single_version[DATAFLOW_ID]"
   ]
  },
  {
   "cell_type": "code",
   "execution_count": 10,
   "metadata": {},
   "outputs": [],
   "source": [
    "dimension_information = hlp.get_dimension_information(DSD_ID, DATAFLOW_ID) # 2s | 5s | .2s | 2.8s | .1s | 2.9s"
   ]
  },
  {
   "cell_type": "code",
   "execution_count": 11,
   "metadata": {},
   "outputs": [],
   "source": [
    "constrained_codelists_by_dimensions = hlp.get_constrained_codelists_by_dimensions(ORGANISATION, DSD_ID, DATAFLOW_ID, CONSTRAINT_ID) # 3.4s"
   ]
  },
  {
   "cell_type": "code",
   "execution_count": 12,
   "metadata": {},
   "outputs": [
    {
     "data": {
      "text/plain": [
       "{'REF_AREA': {'name': 'Reference area', 'codelist': 'CL_AREA'},\n",
       " 'MEASURE': {'name': 'Measure', 'codelist': 'CL_MEASURE_FIN'},\n",
       " 'EDUCATION_LEV': {'name': 'Education level',\n",
       "  'codelist': 'CL_EDUCATION_LEV_ISCED11'},\n",
       " 'EXP_SOURCE': {'name': 'Financing source', 'codelist': 'CL_INST_TYPE_EDU'},\n",
       " 'EXP_DESTINATION': {'name': 'Destination of expenditure',\n",
       "  'codelist': 'CL_INST_TYPE_EDU'},\n",
       " 'EXPENDITURE_TYPE': {'name': 'Type of expenditure',\n",
       "  'codelist': 'CL_EXPENDITURE_TYPE'},\n",
       " 'PRICE_BASE': {'name': 'Price base', 'codelist': 'CL_PRICES'},\n",
       " 'UNIT_MEASURE': {'name': 'Unit of measure', 'codelist': 'CL_UNIT_MEASURE'},\n",
       " 'Q_SHEET': {'name': 'Questionnaire sheet', 'codelist': 'CL_Q_SHEET'},\n",
       " 'TIME_PERIOD': {'name': 'Time period', 'codelist': None}}"
      ]
     },
     "execution_count": 12,
     "metadata": {},
     "output_type": "execute_result"
    }
   ],
   "source": [
    "dimension_information"
   ]
  },
  {
   "cell_type": "code",
   "execution_count": null,
   "metadata": {},
   "outputs": [],
   "source": [
    "len(constrained_codelists_by_dimensions['REF_AREA'])"
   ]
  },
  {
   "cell_type": "code",
   "execution_count": null,
   "metadata": {},
   "outputs": [],
   "source": [
    "dim_name = \"REF_AREA\"\n",
    "dimension_information[dim_name]['codelist']"
   ]
  },
  {
   "cell_type": "code",
   "execution_count": null,
   "metadata": {},
   "outputs": [],
   "source": [
    "# this should be a list of dataflows that have the same DSD_ID !!!\n",
    "oecd_df_meta[ORGANISATION]['EDU']['IMEP'][DSD_ID]"
   ]
  },
  {
   "cell_type": "markdown",
   "metadata": {},
   "source": [
    "# To be sorted out:"
   ]
  },
  {
   "cell_type": "code",
   "execution_count": null,
   "metadata": {},
   "outputs": [],
   "source": [
    "DSD_ID = \"DSD_EAG_UOE_FIN\"\n",
    "DATAFLOW_ID = \"DF_UOE_INDIC_FIN_PERSTUD\"\n",
    "# dsd_interesting_attributes = ['codelist', 'concept_scheme', 'dataflow', 'structure']\n",
    "dsd = sdmx.Client(\"OECD\").datastructure(DSD_ID)\n",
    "#dataflow_definition = sdmx.Client(\"OECD\").datastructure(DSD_ID).dataflow[DSD_ID + '@' + DATAFLOW_ID]\n",
    "dataflow_definition = dsd.dataflow[DSD_ID + '@' + DATAFLOW_ID]\n",
    "\n",
    "# name and description of the dataflow\n",
    "name = dataflow_definition.name\n",
    "description = dataflow_definition.description\n",
    "maintainer = dataflow_definition.maintainer\n",
    "structure = dataflow_definition.structure\n",
    "id = dataflow_definition.id\n",
    "print(name)\n",
    "print(description)\n",
    "print(maintainer)\n",
    "print(structure)\n",
    "print(id)"
   ]
  },
  {
   "cell_type": "code",
   "execution_count": null,
   "metadata": {},
   "outputs": [],
   "source": [
    "#list_of_ngos\n",
    "#dataflow_constraint_ids\n",
    "#oecd_df_meta\n",
    "\n",
    "# when dataflow is selected:\n",
    "dimension_information\n",
    "# we need the codelist + the constraints\n"
   ]
  },
  {
   "cell_type": "code",
   "execution_count": null,
   "metadata": {},
   "outputs": [],
   "source": []
  },
  {
   "cell_type": "markdown",
   "metadata": {},
   "source": [
    "# testing for other organisations"
   ]
  },
  {
   "cell_type": "code",
   "execution_count": null,
   "metadata": {},
   "outputs": [],
   "source": []
  },
  {
   "cell_type": "markdown",
   "metadata": {},
   "source": [
    "# Still experimentation"
   ]
  },
  {
   "cell_type": "code",
   "execution_count": 13,
   "metadata": {},
   "outputs": [],
   "source": [
    "DSD_ID = \"DSD_EAG_UOE_FIN\"\n",
    "DATAFLOW_ID = \"DF_UOE_INDIC_FIN_PERSTUD\"\n",
    "CONSTRAINT_ID = \"CR_A_DSD_EAG_UOE_FIN\"\n",
    "#dims = sdmx.Client(\"OECD\").datastructure(DSD_ID).dataflow[DSD_ID + '@' + DATAFLOW_ID].structure.dimensions.components\n",
    "content_constaints = sdmx.Client(\"OECD\").dataflow(DSD_ID + '@' + DATAFLOW_ID).constraint[CONSTRAINT_ID + '@' + DATAFLOW_ID].data_content_region[0].member.items()"
   ]
  },
  {
   "cell_type": "code",
   "execution_count": 12,
   "metadata": {},
   "outputs": [],
   "source": [
    "# version is probably not needed, since it is always the latest...\n",
    "constraint_id = dataflow_constraint_ids_single_version[DATAFLOW_ID]"
   ]
  },
  {
   "cell_type": "code",
   "execution_count": 13,
   "metadata": {},
   "outputs": [],
   "source": [
    "content_constaints = sdmx.Client(\"OECD\").dataflow(DSD_ID + '@' + DATAFLOW_ID).constraint[constraint_id + '@' + DATAFLOW_ID].data_content_region[0].member.items() # 11s"
   ]
  },
  {
   "cell_type": "code",
   "execution_count": null,
   "metadata": {},
   "outputs": [],
   "source": [
    "content_constaints"
   ]
  },
  {
   "cell_type": "code",
   "execution_count": 37,
   "metadata": {},
   "outputs": [],
   "source": [
    "def get_constrained_codelists_by_dimensions(organisation, dsd_id, dataflow_id, constraint_id):\n",
    "    \"\"\"\n",
    "    had to dig deep for this one\n",
    "    scraped from the pits of hell\n",
    "    \"\"\"\n",
    "\n",
    "    content_constaints = sdmx.Client(organisation).dataflow(dsd_id + '@' + dataflow_id).constraint[constraint_id + '@' + dataflow_id]\n",
    "    \n",
    "    constrained_codelists_by_dimensions = dict()\n",
    "    for id, selection in content_constaints.data_content_region[0].member.items():\n",
    "        # selection.values_for.id == id.id ... whatever a this point ...\n",
    "        constrained_codelists_by_dimensions[id.id] = selection.values\n",
    "    \n",
    "    return constrained_codelists_by_dimensions"
   ]
  },
  {
   "cell_type": "code",
   "execution_count": 39,
   "metadata": {},
   "outputs": [],
   "source": [
    "constrained_codelists_by_dimensions = get_constrained_codelists_by_dimensions(\"OECD\", DSD_ID, DATAFLOW_ID, CONSTRAINT_ID) # 11s"
   ]
  },
  {
   "cell_type": "code",
   "execution_count": null,
   "metadata": {},
   "outputs": [],
   "source": [
    "constrained_codelists_by_dimensions"
   ]
  },
  {
   "cell_type": "code",
   "execution_count": null,
   "metadata": {},
   "outputs": [],
   "source": [
    "# 'included', 'values', 'values_for']\n",
    "selection.values_for.id"
   ]
  },
  {
   "cell_type": "code",
   "execution_count": null,
   "metadata": {},
   "outputs": [],
   "source": [
    "selection.values"
   ]
  },
  {
   "cell_type": "code",
   "execution_count": null,
   "metadata": {},
   "outputs": [],
   "source": [
    "# 17 sec\n",
    "constraint_id = 'CR_A_DSD_EAG_UOE_FIN@DF_UOE_INDIC_FIN_PERSTUD'\n",
    "dataflow_id = 'DSD_EAG_UOE_FIN@DF_UOE_INDIC_FIN_PERSTUD'\n",
    "df = sdmx.Client(\"OECD\").dataflow(dataflow_id)\n",
    "cc = df.constraint[constraint_id]\n",
    "for k, v in cc.data_content_region[0].member.items():\n",
    "    print(k.id, len(v.values))\n",
    "\n",
    "print(\"Example for direct access:\")\n",
    "cc.data_content_region[0].member['REF_AREA'].values"
   ]
  },
  {
   "cell_type": "code",
   "execution_count": null,
   "metadata": {},
   "outputs": [],
   "source": []
  },
  {
   "cell_type": "markdown",
   "metadata": {},
   "source": [
    "### extracting a full codelist for a given dimension and finding the English name for a given code"
   ]
  },
  {
   "cell_type": "code",
   "execution_count": null,
   "metadata": {},
   "outputs": [],
   "source": [
    "full_codelist_corresponding_to_cl_area = sdmx.Client(\"OECD\").datastructure(\"DSD_EAG_UOE_FIN\").codelist['CL_AREA']\n",
    "\n",
    "total_number_of_codes_in_cl_area = len(full_codelist_corresponding_to_cl_area)\n",
    "name_for_key_HUN = full_codelist_corresponding_to_cl_area['HUN'].name['en']\n",
    "\n",
    "print(f\"{total_number_of_codes_in_cl_area=}\")\n",
    "print(f\"{name_for_key_HUN=}\")\n"
   ]
  },
  {
   "cell_type": "markdown",
   "metadata": {},
   "source": [
    "### finding the content constraints for a dataflow, indexing the constraints with a codelist"
   ]
  },
  {
   "cell_type": "code",
   "execution_count": null,
   "metadata": {},
   "outputs": [],
   "source": [
    "# 14 sec\n",
    "DSD_ID = \"DSD_EAG_UOE_FIN\"\n",
    "DATAFLOW_ID = \"DF_UOE_INDIC_FIN_PERSTUD\"\n",
    "CONSTRAINT_ID = \"CR_A_DSD_EAG_UOE_FIN\"\n",
    "#dims = sdmx.Client(\"OECD\").datastructure(DSD_ID).dataflow[DSD_ID + '@' + DATAFLOW_ID].structure.dimensions.components\n",
    "content_constaints = sdmx.Client(\"OECD\").dataflow(DSD_ID + '@' + DATAFLOW_ID).constraint[CONSTRAINT_ID + '@' + DATAFLOW_ID].data_content_region[0].member.items()"
   ]
  },
  {
   "cell_type": "code",
   "execution_count": null,
   "metadata": {},
   "outputs": [],
   "source": [
    "for k, v in content_constaints:\n",
    "    print(f\"{k.id}: {v.values}\")"
   ]
  },
  {
   "cell_type": "code",
   "execution_count": null,
   "metadata": {},
   "outputs": [],
   "source": [
    "for dim in content_constaints:\n",
    "    for dim_code in dim:\n",
    "        print(f\"{dim_code.id}: {dim_code.values}\")"
   ]
  },
  {
   "cell_type": "code",
   "execution_count": null,
   "metadata": {},
   "outputs": [],
   "source": [
    "# 17 sec\n",
    "constraint_id = 'CR_A_DSD_EAG_UOE_FIN@DF_UOE_INDIC_FIN_PERSTUD' # how to find that??\n",
    "dataflow_id = 'DSD_EAG_UOE_FIN@DF_UOE_INDIC_FIN_PERSTUD'\n",
    "df = sdmx.Client(\"OECD\").dataflow(dataflow_id)\n",
    "cc = df.constraint[constraint_id]\n",
    "for k, v in cc.data_content_region[0].member.items():\n",
    "    print(k.id, len(v.values))\n",
    "\n",
    "print(\"Example for direct access:\")\n",
    "cc.data_content_region[0].member['REF_AREA'].values\n"
   ]
  },
  {
   "cell_type": "markdown",
   "metadata": {},
   "source": [
    "## List available edu-fin dataflows"
   ]
  },
  {
   "cell_type": "code",
   "execution_count": null,
   "metadata": {},
   "outputs": [],
   "source": [
    "for df_id in dsd.dataflow:\n",
    "    print(df_id, dsd.dataflow[df_id].name)"
   ]
  },
  {
   "cell_type": "code",
   "execution_count": null,
   "metadata": {},
   "outputs": [],
   "source": []
  },
  {
   "cell_type": "markdown",
   "metadata": {},
   "source": [
    "# misi kedvéért"
   ]
  },
  {
   "cell_type": "code",
   "execution_count": null,
   "metadata": {},
   "outputs": [],
   "source": [
    "def get_dataflow_constraint_ids(organisation:str)->dict:\n",
    "    contentconstraints = sdmx.Client(organisation).get(\"contentconstraint\").constraint\n",
    "    dataflow_constraint_ids = {}\n",
    "    for constraint_id in contentconstraints:\n",
    "        try:\n",
    "            c_id, df_id = constraint_id.split(\"@\")\n",
    "            version = contentconstraints[constraint_id].version\n",
    "            if df_id not in dataflow_constraint_ids:\n",
    "                dataflow_constraint_ids[df_id] = {version: c_id}\n",
    "            else:\n",
    "                dataflow_constraint_ids[df_id][version] = c_id\n",
    "        except:\n",
    "            pass\n",
    "        #print(f\"{constraint_id:38} : {constraint_obj.name}\")\n",
    "    return dataflow_constraint_ids"
   ]
  },
  {
   "cell_type": "code",
   "execution_count": null,
   "metadata": {},
   "outputs": [],
   "source": [
    "contentconstraints = sdmx.Client(\"OECD\").get(\"contentconstraint\").constraint"
   ]
  },
  {
   "cell_type": "code",
   "execution_count": null,
   "metadata": {},
   "outputs": [],
   "source": [
    "for i, constraint_id in enumerate(contentconstraints):\n",
    "    if i == 5:\n",
    "        break"
   ]
  },
  {
   "cell_type": "code",
   "execution_count": null,
   "metadata": {},
   "outputs": [],
   "source": [
    "sdmx.Client(ORGANISATION)"
   ]
  },
  {
   "cell_type": "code",
   "execution_count": null,
   "metadata": {},
   "outputs": [],
   "source": [
    "sdmx.Client(\"OECD\").get(\"contentconstraint\").constraint"
   ]
  },
  {
   "cell_type": "code",
   "execution_count": null,
   "metadata": {},
   "outputs": [],
   "source": [
    "ORGANISATION"
   ]
  },
  {
   "cell_type": "code",
   "execution_count": null,
   "metadata": {},
   "outputs": [],
   "source": []
  },
  {
   "cell_type": "code",
   "execution_count": null,
   "metadata": {},
   "outputs": [],
   "source": []
  },
  {
   "cell_type": "code",
   "execution_count": null,
   "metadata": {},
   "outputs": [],
   "source": []
  },
  {
   "cell_type": "code",
   "execution_count": null,
   "metadata": {},
   "outputs": [],
   "source": []
  },
  {
   "cell_type": "code",
   "execution_count": 2,
   "metadata": {},
   "outputs": [],
   "source": [
    "# get_dimension_information(DSD_ID, DATAFLOW_ID)"
   ]
  },
  {
   "cell_type": "code",
   "execution_count": null,
   "metadata": {},
   "outputs": [],
   "source": [
    "# 3m2s\n",
    "conceptscheme = sdmx.Client(\"OECD\").get(\"conceptscheme\") \n",
    "for k, v in conceptscheme.codelist.items():\n",
    "    if 'EDU' in k:\n",
    "        print(f\"{k:38} : {v.id:25}, {v.urn:85}, {v.maintainer}\")"
   ]
  },
  {
   "cell_type": "code",
   "execution_count": 44,
   "metadata": {},
   "outputs": [],
   "source": [
    "# dataflow, constraint\n",
    "contentconstraint = sdmx.Client(\"OECD\").get(\"contentconstraint\") \n"
   ]
  },
  {
   "cell_type": "code",
   "execution_count": null,
   "metadata": {},
   "outputs": [],
   "source": [
    "def get_dataflow_constraint_ids(organisation):\n",
    "    dataflow_constraint_ids = {}\n",
    "    for constraint_id in sdmx.Client(organisation).get(\"contentconstraint\").constraint:\n",
    "        try:\n",
    "            c_id, df_id = constraint_id.split(\"@\")\n",
    "            version = contentconstraint.constraint[constraint_id].version\n",
    "            if df_id not in dataflow_constraint_ids:\n",
    "                dataflow_constraint_ids[df_id] = {version: c_id}\n",
    "            else:\n",
    "                dataflow_constraint_ids[df_id][version] = c_id\n",
    "        except:\n",
    "            pass\n",
    "        #print(f\"{constraint_id:38} : {constraint_obj.name}\")\n",
    "    return dataflow_constraint_ids"
   ]
  },
  {
   "cell_type": "code",
   "execution_count": null,
   "metadata": {},
   "outputs": [],
   "source": [
    "dataflow_constraint_ids = {}\n",
    "for constraint_id in contentconstraint.constraint:\n",
    "    try:\n",
    "        c_id, df_id = constraint_id.split(\"@\")\n",
    "        version = contentconstraint.constraint[constraint_id].version\n",
    "        if df_id not in dataflow_constraint_ids:\n",
    "            dataflow_constraint_ids[df_id] = {version: c_id}\n",
    "        else:\n",
    "            dataflow_constraint_ids[df_id][version] = c_id\n",
    "    except:\n",
    "        pass\n",
    "    #print(f\"{constraint_id:38} : {constraint_obj.name}\")\n",
    "dataflow_constraint_ids"
   ]
  },
  {
   "cell_type": "code",
   "execution_count": null,
   "metadata": {},
   "outputs": [],
   "source": [
    "d = {'1': 'kutyafasza'}\n",
    "d['3'] = 'macskapöcse'\n",
    "d"
   ]
  },
  {
   "cell_type": "code",
   "execution_count": null,
   "metadata": {},
   "outputs": [],
   "source": [
    "constraint_id"
   ]
  },
  {
   "cell_type": "code",
   "execution_count": null,
   "metadata": {},
   "outputs": [],
   "source": [
    "contentconstraint.constraint['CR_DSD_EAG_UOE_FIN@DF_UOE_INDIC_FIN_PERSTUD'].version"
   ]
  },
  {
   "cell_type": "code",
   "execution_count": null,
   "metadata": {},
   "outputs": [],
   "source": [
    "DSD_ID = \"DSD_EAG_UOE_FIN\"\n",
    "DATAFLOW_ID = \"DF_UOE_INDIC_FIN_PERSTUD\"\n",
    "CONSTRAINT_ID = \"CR_A_DSD_EAG_UOE_FIN\"\n",
    "dataflow_constraint_ids[DATAFLOW_ID]"
   ]
  },
  {
   "cell_type": "code",
   "execution_count": null,
   "metadata": {},
   "outputs": [],
   "source": [
    "contentconstraint.constraint[\"CR_A_DSD_EAG_UOE_FIN@DF_UOE_INDIC_FIN_PERSTUD\"]"
   ]
  },
  {
   "cell_type": "code",
   "execution_count": null,
   "metadata": {},
   "outputs": [],
   "source": [
    "contentconstraint.constraint[\"CR_DSD_EAG_UOE_FIN@DF_UOE_INDIC_FIN_PERSTUD\"].version"
   ]
  },
  {
   "cell_type": "code",
   "execution_count": null,
   "metadata": {},
   "outputs": [],
   "source": []
  },
  {
   "cell_type": "code",
   "execution_count": null,
   "metadata": {},
   "outputs": [],
   "source": []
  },
  {
   "cell_type": "code",
   "execution_count": null,
   "metadata": {},
   "outputs": [],
   "source": []
  },
  {
   "cell_type": "code",
   "execution_count": null,
   "metadata": {},
   "outputs": [],
   "source": []
  },
  {
   "cell_type": "code",
   "execution_count": null,
   "metadata": {},
   "outputs": [],
   "source": [
    "for i, item in enumerate(contentconstraint.dataflow.items()):\n",
    "    if i == 5:\n",
    "        break"
   ]
  },
  {
   "cell_type": "code",
   "execution_count": null,
   "metadata": {},
   "outputs": [],
   "source": [
    "k, v = item\n",
    "k"
   ]
  },
  {
   "cell_type": "code",
   "execution_count": null,
   "metadata": {},
   "outputs": [],
   "source": [
    "v.id"
   ]
  },
  {
   "cell_type": "code",
   "execution_count": null,
   "metadata": {},
   "outputs": [],
   "source": [
    "for attr in dir(v):\n",
    "    if not attr.startswith('_'):\n",
    "        print(attr, getattr(v, attr))"
   ]
  },
  {
   "cell_type": "code",
   "execution_count": null,
   "metadata": {},
   "outputs": [],
   "source": []
  },
  {
   "cell_type": "code",
   "execution_count": null,
   "metadata": {},
   "outputs": [],
   "source": [
    "contentconstraint.constraint.items()"
   ]
  },
  {
   "cell_type": "code",
   "execution_count": null,
   "metadata": {},
   "outputs": [],
   "source": [
    "contentconstraint.constraint"
   ]
  },
  {
   "cell_type": "code",
   "execution_count": null,
   "metadata": {},
   "outputs": [],
   "source": [
    "constraint_obj.iter_keys"
   ]
  },
  {
   "cell_type": "code",
   "execution_count": null,
   "metadata": {},
   "outputs": [],
   "source": [
    "for attr in dir(constraint_obj):\n",
    "    if not attr.startswith('_'):\n",
    "        print(attr, getattr(constraint_obj, attr))"
   ]
  },
  {
   "cell_type": "code",
   "execution_count": null,
   "metadata": {},
   "outputs": [],
   "source": [
    "contentconstraint"
   ]
  },
  {
   "cell_type": "code",
   "execution_count": null,
   "metadata": {},
   "outputs": [],
   "source": []
  },
  {
   "cell_type": "code",
   "execution_count": null,
   "metadata": {},
   "outputs": [],
   "source": [
    "DSD_ID = \"DSD_EAG_UOE_FIN\"\n",
    "DATAFLOW_ID = \"DF_UOE_INDIC_FIN_PERSTUD\"\n",
    "CONSTRAINT_ID = \"CR_A_DSD_EAG_UOE_FIN\"\n",
    "#dims = sdmx.Client(\"OECD\").datastructure(DSD_ID).dataflow[DSD_ID + '@' + DATAFLOW_ID].structure.dimensions.components\n",
    "content_constaints = sdmx.Client(\"OECD\").dataflow(DSD_ID + '@' + DATAFLOW_ID).constraint[CONSTRAINT_ID + '@' + DATAFLOW_ID].data_content_region[0].member.items()"
   ]
  },
  {
   "cell_type": "code",
   "execution_count": null,
   "metadata": {},
   "outputs": [],
   "source": []
  },
  {
   "cell_type": "code",
   "execution_count": 3,
   "metadata": {},
   "outputs": [],
   "source": [
    "# Codelist (664), ConceptScheme (195), DataStructureDefinition (314)\n",
    "dsd = sdmx.Client(\"OECD\").datastructure"
   ]
  },
  {
   "cell_type": "code",
   "execution_count": 4,
   "metadata": {},
   "outputs": [],
   "source": [
    "#sdmx.Client(\"OECD\").get(\"Codelist\", \"CL_UNIT_MULT\")"
   ]
  },
  {
   "cell_type": "code",
   "execution_count": null,
   "metadata": {},
   "outputs": [],
   "source": [
    "root = sdmx.Client(\"OECD\")\n",
    "for support_name in root.source.supports:\n",
    "    if root.source.supports[support_name]:\n",
    "        print(support_name)\n",
    "print(\"\\nthe only promblem is that i don't know how to call these methods...\")"
   ]
  },
  {
   "cell_type": "code",
   "execution_count": null,
   "metadata": {},
   "outputs": [],
   "source": [
    "# objects, dataflow, structure\n",
    "# time: 24 sec | 15 sec\n",
    "full_dataflow_detail = root.get(\"dataflow\", detail=\"full\")\n"
   ]
  },
  {
   "cell_type": "code",
   "execution_count": null,
   "metadata": {},
   "outputs": [],
   "source": [
    "print(len(full_dataflow_detail.structure))\n",
    "print(len(full_dataflow_detail.dataflow))\n",
    "full_dataflow_detail.objects"
   ]
  },
  {
   "cell_type": "code",
   "execution_count": null,
   "metadata": {},
   "outputs": [],
   "source": [
    "for item in full_dataflow_detail.structure:\n",
    "    print(item)"
   ]
  },
  {
   "cell_type": "code",
   "execution_count": 20,
   "metadata": {},
   "outputs": [],
   "source": [
    "dataflow_meta = dict()\n",
    "for i, a in enumerate(full_dataflow_detail.dataflow.items()):\n",
    "    id, name = a\n",
    "    agency = name.maintainer.__str__()\n",
    "    try:\n",
    "        dataflow_name = name.name['en'] # of course: AttributeError: 'DataflowDefinition' object has no attribute 'get' 🙄\n",
    "    except:\n",
    "        dataflow_name = None\n",
    "    dsd_id = name.structure.id\n",
    "    dsd_urn = name.structure.urn  # what does this urn identify??\n",
    "\n",
    "    # Handle the case where the agency is not in the dictionary\n",
    "    if agency not in dataflow_meta:\n",
    "        dataflow_meta[agency] = dict()\n",
    "        \n",
    "    dataflow_meta[agency][dsd_id] = {\"dataflow_name\": dataflow_name, \"dsd_urn\": dsd_urn}\n"
   ]
  },
  {
   "cell_type": "code",
   "execution_count": 26,
   "metadata": {},
   "outputs": [],
   "source": [
    "def get_dataflow_meta(organization):\n",
    "    \"\"\"\n",
    "    organization = \"OECD\"\n",
    "    \"\"\"\n",
    "    dataflow_meta = dict()\n",
    "    \n",
    "    for i, a in enumerate(sdmx.Client(organization).get(\"dataflow\", detail=\"full\").dataflow.items()):\n",
    "        id, name = a\n",
    "        agency = name.maintainer.__str__()\n",
    "        try:\n",
    "            dataflow_name = name.name['en'] # of course: AttributeError: 'DataflowDefinition' object has no attribute 'get' 🙄\n",
    "        except:\n",
    "            dataflow_name = None\n",
    "        dsd_id = name.structure.id\n",
    "        dsd_urn = name.structure.urn  # what does this urn identify??\n",
    "\n",
    "        # Handle the case where the agency is not in the dictionary\n",
    "        if agency not in dataflow_meta:\n",
    "            dataflow_meta[agency] = dict()\n",
    "\n",
    "        dataflow_meta[agency][dsd_id] = {\"dataflow_name\": dataflow_name, \"dsd_urn\": dsd_urn, \"id\": id}\n",
    "    return dataflow_meta"
   ]
  },
  {
   "cell_type": "code",
   "execution_count": null,
   "metadata": {},
   "outputs": [],
   "source": [
    "df_meta = get_dataflow_meta(\"OECD\")"
   ]
  },
  {
   "cell_type": "code",
   "execution_count": null,
   "metadata": {},
   "outputs": [],
   "source": []
  },
  {
   "cell_type": "code",
   "execution_count": null,
   "metadata": {},
   "outputs": [],
   "source": [
    "def restructure_dataflow_meta_dict(data):\n",
    "    \"\"\"\n",
    "    This code will reorganize the dictionary to reflect the hierarchical structure based on the keys. \n",
    "    The hierarchy dictionary will have nested dictionaries representing the hierarchy of the keys.\n",
    "    E.g. OECD.WISE.WDP will be represented as {'OECD': {'WISE': {'WDP': {}}}} to reflect the the organization, directorate, and domain levels.\n",
    "    \"\"\"\n",
    "    hierarchy = {}\n",
    "\n",
    "    for key, value in data.items():\n",
    "        parts = key.split('.')\n",
    "        current_level = hierarchy\n",
    "        \n",
    "        for part in parts[:-1]:\n",
    "            if part not in current_level:\n",
    "                current_level[part] = {}\n",
    "            current_level = current_level[part]\n",
    "        \n",
    "        current_level[parts[-1]] = value\n",
    "\n",
    "    return hierarchy"
   ]
  },
  {
   "cell_type": "code",
   "execution_count": null,
   "metadata": {},
   "outputs": [],
   "source": [
    "for k in dataflow_meta.keys():\n",
    "    print(k)"
   ]
  },
  {
   "cell_type": "code",
   "execution_count": null,
   "metadata": {},
   "outputs": [],
   "source": [
    "organization, directorate, domain = agency.split(\".\")\n",
    "print(organization, directorate, domain)"
   ]
  },
  {
   "cell_type": "code",
   "execution_count": null,
   "metadata": {},
   "outputs": [],
   "source": [
    "# structure, name, maintainer\n",
    "name.name['en']           # 'River flooding - Cities and FUAs' | this is the dataflow name\n",
    "name.structure.urn        # 'urn:sdmx:org.sdmx.infomodel.datastructure.DataStructureDefinition=OECD.CFE.EDS:DSD_FUA_CLIM(1.0)'\n",
    "name.structure.id         # 'DSD_FUA_CLIM'                     | this is the data structure definition's id\n",
    "name.structure.version    # '1.0'\n",
    "name.maintainer.__str__() # 'OECD.CFE.EDS'                     | this is the agency"
   ]
  },
  {
   "cell_type": "code",
   "execution_count": null,
   "metadata": {},
   "outputs": [],
   "source": [
    "name.name['en']"
   ]
  },
  {
   "cell_type": "code",
   "execution_count": null,
   "metadata": {},
   "outputs": [],
   "source": [
    "print(name.structure.maintainer)"
   ]
  },
  {
   "cell_type": "code",
   "execution_count": null,
   "metadata": {},
   "outputs": [],
   "source": []
  },
  {
   "cell_type": "code",
   "execution_count": null,
   "metadata": {},
   "outputs": [],
   "source": [
    "thing = name.structure\n",
    "for attr in dir(thing):\n",
    "    if not attr.startswith(\"_\"):\n",
    "        print(attr, getattr(thing, attr))"
   ]
  },
  {
   "cell_type": "code",
   "execution_count": null,
   "metadata": {},
   "outputs": [],
   "source": []
  },
  {
   "cell_type": "code",
   "execution_count": null,
   "metadata": {},
   "outputs": [],
   "source": []
  },
  {
   "cell_type": "code",
   "execution_count": null,
   "metadata": {},
   "outputs": [],
   "source": [
    "dir(full_dataflow_detail)"
   ]
  },
  {
   "cell_type": "code",
   "execution_count": 160,
   "metadata": {},
   "outputs": [],
   "source": [
    "agencies = root.get(\"agencyscheme\")\n",
    "#dir(sdmx.Client(\"OECD\"))"
   ]
  },
  {
   "cell_type": "code",
   "execution_count": null,
   "metadata": {},
   "outputs": [],
   "source": [
    "for agency_group in agencies:\n",
    "    print(agency_group.id)\n",
    "    for agency in agency_group:\n",
    "        print(agency.id, agency.name)"
   ]
  },
  {
   "cell_type": "code",
   "execution_count": null,
   "metadata": {},
   "outputs": [],
   "source": [
    "agencies.organisation_scheme['OECD.EDU:AGENCIES']['IMEP'].id\n",
    "agencies.organisation_scheme['OECD.EDU:AGENCIES']['IMEP'].name['en']"
   ]
  },
  {
   "cell_type": "code",
   "execution_count": null,
   "metadata": {},
   "outputs": [],
   "source": [
    "agencies.organisation_scheme['OECD.EDU:AGENCIES'].items"
   ]
  },
  {
   "cell_type": "code",
   "execution_count": null,
   "metadata": {},
   "outputs": [],
   "source": [
    "for agency_id in agencies.organisation_scheme:\n",
    "    print(agency_id, agencies.organisation_scheme[agency_id].items)"
   ]
  },
  {
   "cell_type": "code",
   "execution_count": null,
   "metadata": {},
   "outputs": [],
   "source": [
    "agencies.organisation_scheme"
   ]
  },
  {
   "cell_type": "code",
   "execution_count": null,
   "metadata": {},
   "outputs": [],
   "source": [
    "for attr in dir(agencies):\n",
    "    if not attr.startswith(\"_\"):\n",
    "        print(attr, getattr(agencies, attr))"
   ]
  },
  {
   "cell_type": "code",
   "execution_count": null,
   "metadata": {},
   "outputs": [],
   "source": [
    "dir(agencies)"
   ]
  },
  {
   "cell_type": "code",
   "execution_count": null,
   "metadata": {},
   "outputs": [],
   "source": [
    "root.get('')"
   ]
  },
  {
   "cell_type": "code",
   "execution_count": 49,
   "metadata": {},
   "outputs": [],
   "source": [
    "# interesting_client_methods = [\n",
    "#   'data', 'dataflow', 'datastructure', 'metadata', 'metadataflow'\n",
    "# , 'metadatastructure', 'source', 'structure', 'structureset'\n",
    "# , 'preview_data', 'schema']"
   ]
  },
  {
   "cell_type": "markdown",
   "metadata": {},
   "source": [
    "### <font color=red>DataFlow related metadata"
   ]
  },
  {
   "cell_type": "code",
   "execution_count": null,
   "metadata": {},
   "outputs": [],
   "source": []
  },
  {
   "cell_type": "code",
   "execution_count": 56,
   "metadata": {},
   "outputs": [],
   "source": [
    "DSD_ID = \"DSD_EAG_UOE_FIN\"\n",
    "DATAFLOW_ID = \"DF_UOE_INDIC_FIN_PERSTUD\"\n",
    "# dsd_interesting_attributes = ['codelist', 'concept_scheme', 'dataflow', 'structure']\n",
    "dsd = sdmx.Client(\"OECD\").datastructure(DSD_ID)\n",
    "#dataflow_definition = sdmx.Client(\"OECD\").datastructure(DSD_ID).dataflow[DSD_ID + '@' + DATAFLOW_ID]\n",
    "dataflow_definition = dsd.dataflow[DSD_ID + '@' + DATAFLOW_ID]"
   ]
  },
  {
   "cell_type": "code",
   "execution_count": null,
   "metadata": {},
   "outputs": [],
   "source": [
    "# fairly useless:\n",
    "dataflow_definition.get_annotation(title='REF_AREA')"
   ]
  },
  {
   "cell_type": "code",
   "execution_count": null,
   "metadata": {},
   "outputs": [],
   "source": [
    "# name and description of the dataflow\n",
    "name = dataflow_definition.name\n",
    "description = dataflow_definition.description\n",
    "maintainer = dataflow_definition.maintainer\n",
    "structure = dataflow_definition.structure\n",
    "id = dataflow_definition.id\n",
    "print(name)\n",
    "print(description)\n",
    "print(maintainer)\n",
    "print(structure)\n",
    "print(id)\n"
   ]
  },
  {
   "cell_type": "markdown",
   "metadata": {},
   "source": [
    "# Get dimensions and the corresponding codelist names"
   ]
  },
  {
   "cell_type": "code",
   "execution_count": 110,
   "metadata": {},
   "outputs": [],
   "source": [
    "DSD_ID = \"DSD_EAG_UOE_FIN\"\n",
    "DATAFLOW_ID = \"DF_UOE_INDIC_FIN_PERSTUD\"\n",
    "dims = sdmx.Client(\"OECD\").datastructure(DSD_ID).dataflow[DSD_ID + '@' + DATAFLOW_ID].structure.dimensions.components"
   ]
  },
  {
   "cell_type": "code",
   "execution_count": 132,
   "metadata": {},
   "outputs": [],
   "source": [
    "def get_dimension_information(dsd_id:str, dataflow_id:str)->list[dict[str,str]]:\n",
    "    \"\"\"\n",
    "    Data_Structure_Definition_id and DataFlow_id are required to get the dimension information of the dataflow.\n",
    "    \"\"\"\n",
    "\n",
    "\n",
    "    dims = sdmx.Client(\"OECD\").datastructure(DSD_ID).dataflow[DSD_ID + '@' + DATAFLOW_ID].structure.dimensions.components\n",
    "    dimensions = list()\n",
    "    for dim in dims:\n",
    "        dimension_info = dict()\n",
    "        dimension_info['dim_code'] = dim.concept_identity.id\n",
    "        dimension_info['dim_name'] = dim.concept_identity.name['en']\n",
    "        try:\n",
    "            dimension_info['corresponding_codelist'] = dim.concept_identity.core_representation.enumerated.id\n",
    "        except:\n",
    "            dimension_info['corresponding_codelist'] = None\n",
    "        dimensions.append(dimension_info)\n",
    "        \n",
    "    return dimensions"
   ]
  },
  {
   "cell_type": "code",
   "execution_count": null,
   "metadata": {},
   "outputs": [],
   "source": [
    "get_dimension_information(DSD_ID, DATAFLOW_ID)"
   ]
  },
  {
   "cell_type": "code",
   "execution_count": null,
   "metadata": {},
   "outputs": [],
   "source": [
    "\n",
    "print(f\"{'Code':29} -     {'Name':39} -    {'Codelist':20}\\n\")\n",
    "for dim in dims:\n",
    "    dim_code = dim.concept_identity.id\n",
    "    dim_name = dim.concept_identity.name['en']\n",
    "    try:\n",
    "        corresponding_codelist = dim.concept_identity.core_representation.enumerated.id\n",
    "    except:\n",
    "        corresponding_codelist = None\n",
    "    \n",
    "    print(f\"{dim_code=:20} -     {dim_name=:30} -    {corresponding_codelist=}\")"
   ]
  },
  {
   "cell_type": "markdown",
   "metadata": {},
   "source": [
    "### extracting a full codelist for a given dimension and finding the English name for a given code"
   ]
  },
  {
   "cell_type": "code",
   "execution_count": null,
   "metadata": {},
   "outputs": [],
   "source": [
    "full_codelist_corresponding_to_cl_area = sdmx.Client(\"OECD\").datastructure(\"DSD_EAG_UOE_FIN\").codelist['CL_AREA']\n",
    "\n",
    "total_number_of_codes_in_cl_area = len(full_codelist_corresponding_to_cl_area)\n",
    "name_for_key_HUN = full_codelist_corresponding_to_cl_area['HUN'].name['en']\n",
    "\n",
    "print(f\"{total_number_of_codes_in_cl_area=}\")\n",
    "print(f\"{name_for_key_HUN=}\")\n"
   ]
  },
  {
   "cell_type": "markdown",
   "metadata": {},
   "source": [
    "### finding the content constraints for a dataflow, indexing the constraints with a codelist"
   ]
  },
  {
   "cell_type": "code",
   "execution_count": 117,
   "metadata": {},
   "outputs": [],
   "source": [
    "# 14 sec\n",
    "DSD_ID = \"DSD_EAG_UOE_FIN\"\n",
    "DATAFLOW_ID = \"DF_UOE_INDIC_FIN_PERSTUD\"\n",
    "CONSTRAINT_ID = \"CR_A_DSD_EAG_UOE_FIN\"\n",
    "#dims = sdmx.Client(\"OECD\").datastructure(DSD_ID).dataflow[DSD_ID + '@' + DATAFLOW_ID].structure.dimensions.components\n",
    "content_constaints = sdmx.Client(\"OECD\").dataflow(DSD_ID + '@' + DATAFLOW_ID).constraint[CONSTRAINT_ID + '@' + DATAFLOW_ID].data_content_region[0].member.items()"
   ]
  },
  {
   "cell_type": "code",
   "execution_count": null,
   "metadata": {},
   "outputs": [],
   "source": [
    "for k, v in content_constaints:\n",
    "    print(f\"{k.id}: {v.values}\")"
   ]
  },
  {
   "cell_type": "code",
   "execution_count": null,
   "metadata": {},
   "outputs": [],
   "source": [
    "for dim in content_constaints:\n",
    "    for dim_code in dim:\n",
    "        print(f\"{dim_code.id}: {dim_code.values}\")"
   ]
  },
  {
   "cell_type": "code",
   "execution_count": null,
   "metadata": {},
   "outputs": [],
   "source": [
    "# 17 sec\n",
    "constraint_id = 'CR_A_DSD_EAG_UOE_FIN@DF_UOE_INDIC_FIN_PERSTUD' # how to find that??\n",
    "dataflow_id = 'DSD_EAG_UOE_FIN@DF_UOE_INDIC_FIN_PERSTUD'\n",
    "df = sdmx.Client(\"OECD\").dataflow(dataflow_id)\n",
    "cc = df.constraint[constraint_id]\n",
    "for k, v in cc.data_content_region[0].member.items():\n",
    "    print(k.id, len(v.values))\n",
    "\n",
    "print(\"Example for direct access:\")\n",
    "cc.data_content_region[0].member['REF_AREA'].values\n"
   ]
  },
  {
   "cell_type": "markdown",
   "metadata": {},
   "source": [
    "## List available edu-fin dataflows"
   ]
  },
  {
   "cell_type": "code",
   "execution_count": null,
   "metadata": {},
   "outputs": [],
   "source": [
    "for df_id in dsd.dataflow:\n",
    "    print(df_id, dsd.dataflow[df_id].name)"
   ]
  },
  {
   "cell_type": "markdown",
   "metadata": {},
   "source": [
    "## List of NGOs"
   ]
  },
  {
   "cell_type": "code",
   "execution_count": null,
   "metadata": {},
   "outputs": [],
   "source": [
    "list_of_ngos = sdmx.list_sources()\n",
    "print(f\"The first 20 NGOs (from a total of {len(list_of_ngos)} are: \")\n",
    "print(list_of_ngos[:20])"
   ]
  },
  {
   "cell_type": "markdown",
   "metadata": {},
   "source": [
    "## 1. Within the organization\n",
    "### list agencies\n",
    "We don't yet have the means to filter based on that !!"
   ]
  },
  {
   "cell_type": "code",
   "execution_count": null,
   "metadata": {},
   "outputs": [],
   "source": [
    "# 4 sec\n",
    "agencyscheme = sdmx.Client(\"OECD\").get(\"agencyscheme\")\n",
    "for agency_code in agencyscheme.organisation_scheme[organization +':AGENCIES'].items:\n",
    "    name = agencyscheme.organisation_scheme[organization +':AGENCIES'].items[agency_code].name\n",
    "    print(agency_code, name)\n"
   ]
  },
  {
   "cell_type": "code",
   "execution_count": null,
   "metadata": {},
   "outputs": [],
   "source": [
    "# the list of all agencies within oecd:\n",
    "#for agency_code in agencyscheme.organisation_scheme['OECD:AGENCIES'].items:\n",
    "def get_agencies(organization:str)->dict:\n",
    "    agencies = dict()\n",
    "    agency_items = sdmx.Client(organization).get(\"agencyscheme\").organisation_scheme[organization +':AGENCIES'].items\n",
    "    for agency_code in agency_items:\n",
    "        agencies[agency_code] = agency_items[agency_code].name.__str__()\n",
    "    return agencies\n",
    "\n",
    "get_agencies(\"OECD\")"
   ]
  },
  {
   "cell_type": "markdown",
   "metadata": {},
   "source": [
    "## Dimensions\n",
    "<font color=red>Warning: this is very slow 6m20s"
   ]
  },
  {
   "cell_type": "code",
   "execution_count": 111,
   "metadata": {},
   "outputs": [],
   "source": [
    "# #DSD_ID = \"DSD_EAG_UOE_FIN\"\n",
    "# #DATAFLOW_ID = \"DF_UOE_INDIC_FIN_PERSTUD\"\n",
    "# #dataflow_definition_id = DSD_ID + '@' + DATAFLOW_ID\n",
    "# data = sdmx.Client(\"OECD\").data(dataflow_definition.id)\n",
    "\n",
    "# for dim in data.structure.dimensions:\n",
    "#     print(dim.id)"
   ]
  },
  {
   "cell_type": "markdown",
   "metadata": {},
   "source": [
    "## Codes"
   ]
  },
  {
   "cell_type": "code",
   "execution_count": null,
   "metadata": {},
   "outputs": [],
   "source": [
    "# 1m27s, 1m8s\n",
    "# what's important from here: urn and id ??? dunno\n",
    "#conceptscheme = root.get(\"conceptscheme\") \n",
    "conceptscheme = sdmx.Client(\"OECD\").get(\"conceptscheme\") \n",
    "for k, v in conceptscheme.codelist.items():\n",
    "    if 'EDU' in k:\n",
    "        print(f\"{k:38} : {v.id:25}, {v.urn:85}, {v.maintainer}\")"
   ]
  },
  {
   "cell_type": "code",
   "execution_count": null,
   "metadata": {},
   "outputs": [],
   "source": [
    "# dsd = sdmx.Client(\"OECD\").datastructure(\"DSD_EAG_UOE_FIN\")\n",
    "for i, item in enumerate(sdmx.Client(\"OECD\").datastructure(\"DSD_EAG_UOE_FIN\").codelist['CL_AREA']):\n",
    "    if i < 5:\n",
    "        print(item.id, item.name)\n",
    "\n",
    "print(\"It seems that we don't have an urn in here... :/\")\n",
    "# a_codelist = sdmx.Client(\"OECD\").datastructure(\"DSD_EAG_UOE_FIN\").codelist['CL_AREA']\n",
    "# a_codelist.urn / uri / urn_group\n"
   ]
  },
  {
   "cell_type": "code",
   "execution_count": null,
   "metadata": {},
   "outputs": [],
   "source": [
    "all_codelist_ids = dsd.codelist.keys()\n",
    "for code_list_id in all_codelist_ids:\n",
    "    print(code_list_id, dsd.codelist[code_list_id].name, len(dsd.codelist[code_list_id].items))"
   ]
  },
  {
   "cell_type": "markdown",
   "metadata": {},
   "source": [
    "### list of constrained code lists (cube reginons or whatever)\n",
    "we probalby need the urn"
   ]
  },
  {
   "cell_type": "code",
   "execution_count": null,
   "metadata": {},
   "outputs": [],
   "source": [
    "# 17 sec\n",
    "constraint_id = 'CR_A_DSD_EAG_UOE_FIN@DF_UOE_INDIC_FIN_PERSTUD'\n",
    "dataflow_id = 'DSD_EAG_UOE_FIN@DF_UOE_INDIC_FIN_PERSTUD'\n",
    "df = sdmx.Client(\"OECD\").dataflow(dataflow_id)\n",
    "cc = df.constraint[constraint_id]\n",
    "for k, v in cc.data_content_region[0].member.items():\n",
    "    print(k.id, len(v.values))\n",
    "\n",
    "print(\"Example for direct access:\")\n",
    "cc.data_content_region[0].member['REF_AREA'].values\n"
   ]
  },
  {
   "cell_type": "code",
   "execution_count": null,
   "metadata": {},
   "outputs": [],
   "source": [
    "cc.id"
   ]
  },
  {
   "cell_type": "code",
   "execution_count": null,
   "metadata": {},
   "outputs": [],
   "source": []
  }
 ],
 "metadata": {
  "kernelspec": {
   "display_name": ".venv",
   "language": "python",
   "name": "python3"
  },
  "language_info": {
   "codemirror_mode": {
    "name": "ipython",
    "version": 3
   },
   "file_extension": ".py",
   "mimetype": "text/x-python",
   "name": "python",
   "nbconvert_exporter": "python",
   "pygments_lexer": "ipython3",
   "version": "3.11.6"
  }
 },
 "nbformat": 4,
 "nbformat_minor": 2
}
